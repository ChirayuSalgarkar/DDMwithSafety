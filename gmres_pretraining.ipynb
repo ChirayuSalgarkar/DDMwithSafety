{
 "cells": [
  {
   "cell_type": "markdown",
   "id": "d602e0ee-11c3-4dc8-8b11-a1b764a75d6b",
   "metadata": {},
   "source": [
    "# Summary\n",
    "\n",
    "Milestone 3 of reinforcement learning project. Notebook to get a GMRES that (1) works on GPU and (2) works with batched data.\n",
    "\n",
    "## TODO\n",
    "\n",
    "1. Finish testing.\n",
    "2. Setup dataset from other notebook.\n",
    "3. Integrate the GPU GMRES with the loss to see how much a single step will cost.\n",
    "4. Improve loss from Milestone 2.\n",
    "    1. Vectorize it.\n",
    "    2. Additional terms for sparsity?\n",
    "5. Begin to pretrain actor.\n",
    "    1. First experiment with models.\n",
    "        1. Minimize eye_dist.\n",
    "        2. Try different layers.\n",
    "        3. Try edge prediction. \n",
    "        4. REALLY TRY TO GET SPARSITY. (Log-sum penalty) ?\n",
    "    2. Anything that works, store in a python file.\n",
    "    3. Build out a python file that has models that have worked.\n",
    "    4. Make sure to save weights and successfully plots to /Weights and /Plots"
   ]
  },
  {
   "cell_type": "markdown",
   "id": "10aa0577-82ac-4284-b98c-ae00a1ba75e7",
   "metadata": {},
   "source": [
    "# Dataset\n",
    "\n",
    "Same helmholtz dataset from milestone 2."
   ]
  },
  {
   "cell_type": "code",
   "execution_count": 156,
   "id": "c11ca998-fcad-40e9-ae16-c01323c74429",
   "metadata": {},
   "outputs": [],
   "source": [
    "from torch_geometric.data import Dataset, Data\n",
    "from torch_geometric.loader import DataLoader\n",
    "from torch_geometric.utils import dense_to_sparse"
   ]
  },
  {
   "cell_type": "code",
   "execution_count": 157,
   "id": "a7882a5a-fe31-4ee0-9398-f2f8d28bedd4",
   "metadata": {},
   "outputs": [],
   "source": [
    "def generate_random_helmholtz(n, density=0.001):\n",
    "    L = 1.0\n",
    "    k = np.random.uniform(10, 200)  # Random wavenumber\n",
    "    h = L / (n - 1)  \n",
    "\n",
    "    # Discretization of Helmholtz operator (1D)\n",
    "    diagonals = [np.ones(n-1), -2*np.ones(n), np.ones(n-1)]\n",
    "\n",
    "    helmholtz = sp.diags(diagonals, [-1, 0, 1]) / h**2 + k**2 * sp.eye(n)\n",
    "\n",
    "    # Ensure no perturbations on the tridiagnonal\n",
    "    perturb = sp.random(n, n, density=density) * np.max(helmholtz)\n",
    "    \n",
    "    perturb.setdiag(0)  # Main diagonal\n",
    "    perturb.setdiag(0, k=1)  # First upper diagonal\n",
    "    perturb.setdiag(0, k=-1)  # First lower diagonal\n",
    "        \n",
    "    return helmholtz + perturb"
   ]
  },
  {
   "cell_type": "code",
   "execution_count": 158,
   "id": "ef3dfb36-cfa2-4242-bfc7-f51ac64e2a4a",
   "metadata": {},
   "outputs": [],
   "source": [
    "def test_singularity(mat):\n",
    "    det_mat = np.linalg.det(mat)\n",
    "\n",
    "    if np.isclose(det_mat, 0):\n",
    "        print(\"Matrix is singular.\")\n",
    "        return False\n",
    "        \n",
    "    rank_mat = np.linalg.matrix_rank(mat)\n",
    "    if rank_mat < mat.shape[0]:\n",
    "        print(\"Matrix is singular.\")\n",
    "        return False\n",
    "    \n",
    "    print(\"Matrix is non-singular.\")\n",
    "        \n",
    "    return True"
   ]
  },
  {
   "cell_type": "code",
   "execution_count": 163,
   "id": "eccbacf1-b35c-4991-9d2f-71e45b43e7b3",
   "metadata": {},
   "outputs": [],
   "source": [
    "def normalize_features(graph_data):\n",
    "    x_min = graph_data.min()\n",
    "    x_max = graph_data.max()\n",
    "    out = (graph_data - x_min) / (x_max - x_min + 1e-8)\n",
    "    return out.float()\n",
    "\n",
    "def normalize_edge_attr(graph_data):\n",
    "    e_min = graph_data.min()\n",
    "    e_max = graph_data.max()\n",
    "    out = (graph_data - e_min) / (e_max - e_min + 1e-8)\n",
    "    return out.float()"
   ]
  },
  {
   "cell_type": "markdown",
   "id": "9cff4c50-9a35-4947-8953-19a3bd138d5f",
   "metadata": {},
   "source": [
    "# TODO"
   ]
  },
  {
   "cell_type": "code",
   "execution_count": 171,
   "id": "c216aa77-3dcc-4661-902a-e80b980cbbd0",
   "metadata": {},
   "outputs": [],
   "source": [
    "class HelmHoltzDataset(Dataset):\n",
    "    def __init__(self, generator, checker, norm_feat, norm_edge, epoch_len=1000, size=500, density=0.001):\n",
    "        super().__init__(None, transform)\n",
    "        \n",
    "        self.epoch_len = epoch_len\n",
    "        self.mat_size = size\n",
    "        self.mat_density = density\n",
    "        \n",
    "        self.generator = generator\n",
    "        self.checker = checker\n",
    "        \n",
    "        self.norm_features = norm_feat\n",
    "        self.norm_edge_attr = norm_edge\n",
    "\n",
    "    def len(self):\n",
    "        return self.epoch_len\n",
    "\n",
    "    def get(self, idx):\n",
    "        mat = self.generator(self.mat_size, self.mat_density)\n",
    "        \n",
    "        # TODO : I already have a sparse matrix, DONT convert to spare\n",
    "        mat = torch.tensor(mat.toarray(), dtype=torch.float32)\n",
    "        edge_index, edge_weights = dense_to_sparse(mat)\n",
    "        \n",
    "        node_features = self.norm_features(mat)\n",
    "        edge_weights = self.norm_edge_attr(edge_weights)\n",
    "\n",
    "        data = Data(x=node_features, edge_index=edge_index, edge_attr=edge_weights)\n",
    "        return data"
   ]
  },
  {
   "cell_type": "code",
   "execution_count": 172,
   "id": "cc2aa68b-2272-463e-a6c4-47b7f81f6599",
   "metadata": {},
   "outputs": [],
   "source": [
    "dataset = HelmHoltzDataset(generate_random_helmholtz, test_singularity, normalize_features, normalize_edge_attr)"
   ]
  },
  {
   "cell_type": "code",
   "execution_count": 173,
   "id": "39e31575-7465-4257-9f59-9bf5258d0187",
   "metadata": {},
   "outputs": [],
   "source": [
    "dataloader = DataLoader(dataset, batch_size=64)"
   ]
  },
  {
   "cell_type": "code",
   "execution_count": 174,
   "id": "3f0c5de5-3c21-4461-af27-51a405f64137",
   "metadata": {},
   "outputs": [
    {
     "data": {
      "text/plain": [
       "DataBatch(x=[32000, 500], edge_index=[2, 143445], edge_attr=[143445], batch=[32000], ptr=[65])"
      ]
     },
     "execution_count": 174,
     "metadata": {},
     "output_type": "execute_result"
    }
   ],
   "source": [
    "next(iter(dataloader))"
   ]
  },
  {
   "cell_type": "markdown",
   "id": "7f1d6544-94dc-4b46-a5b1-8635215142f6",
   "metadata": {},
   "source": [
    "# GPU-GMRES\n",
    "\n",
    "Computes GMRES solvers. Possibly get it to work with batches but I gave up.\n",
    "\n",
    "Authored by https://github.com/devzhk/Pytorch-linalg "
   ]
  },
  {
   "cell_type": "code",
   "execution_count": 52,
   "id": "4a0c4afe-1ddb-4dd5-8753-01a0c9d59230",
   "metadata": {},
   "outputs": [],
   "source": [
    "from PytorchLinalg.linalg import GMRES\n",
    "import torch\n",
    "import scipy.sparse.linalg as spla"
   ]
  },
  {
   "cell_type": "code",
   "execution_count": 53,
   "id": "07459288-e72b-4478-b90b-dad715643309",
   "metadata": {},
   "outputs": [],
   "source": [
    "device = torch.device('cuda' if torch.cuda.is_available() else 'cpu')"
   ]
  },
  {
   "cell_type": "code",
   "execution_count": 54,
   "id": "c7b31fbd-6f9e-4b4c-adba-820d4f613428",
   "metadata": {},
   "outputs": [],
   "source": [
    "def solve(A, b):   \n",
    "    A, b = A.to(device), b.to(device)\n",
    "    return GMRES(A, b, track=True)"
   ]
  },
  {
   "cell_type": "code",
   "execution_count": 55,
   "id": "4ca151af-4d12-46f1-b7be-14f62fc04a74",
   "metadata": {},
   "outputs": [],
   "source": [
    "def manual_test(A, b, x):\n",
    "    return torch.linalg.norm(A @ x - b)"
   ]
  },
  {
   "cell_type": "code",
   "execution_count": 56,
   "id": "ea1d422b-9d31-48b6-a767-4ba399f59dbc",
   "metadata": {},
   "outputs": [],
   "source": [
    "def solve_scipy(A, b):\n",
    "    A, b = A.cpu().numpy(), b.cpu().numpy()\n",
    "    x, exit = spla.gmres(A, b, maxiter=1000, restart=20)\n",
    "    print(exit)\n",
    "    return x"
   ]
  },
  {
   "cell_type": "markdown",
   "id": "7184a048-af05-4840-ab4e-aea0f21fd1c1",
   "metadata": {},
   "source": [
    "## Testing\n",
    "\n",
    "Make sure this actually works."
   ]
  },
  {
   "cell_type": "markdown",
   "id": "6a495b1b-e14a-4177-8bd4-6275e5744f7e",
   "metadata": {},
   "source": [
    "### Random (Garbage)\n",
    "\n",
    "Should fail. No gurantee the matrix is any good."
   ]
  },
  {
   "cell_type": "code",
   "execution_count": 57,
   "id": "304d6158-c089-4b7e-8c61-eb8badd470a3",
   "metadata": {},
   "outputs": [],
   "source": [
    "def random_usage(n=500):    \n",
    "    A = torch.randn(n, n, device=device)\n",
    "    \n",
    "    b = torch.randn(n, device=device)\n",
    "    \n",
    "    # Solve the systems\n",
    "    sol, (conv_iter, errs) = solve(A, b)\n",
    "    print (conv_iter)\n",
    "    print(errs[-1] if len(errs) > 0 else []) # rel_tol\n",
    "    \n",
    "    return A, b, sol, conv_iter, errs"
   ]
  },
  {
   "cell_type": "code",
   "execution_count": 58,
   "id": "f1092c07-4057-49dd-9605-b48b927ac80a",
   "metadata": {},
   "outputs": [
    {
     "name": "stdout",
     "output_type": "stream",
     "text": [
      "499\n",
      "1.6573783796047792e-05\n"
     ]
    }
   ],
   "source": [
    "A, b, sol, conv_iter, errs = random_usage()"
   ]
  },
  {
   "cell_type": "code",
   "execution_count": 59,
   "id": "7af914d1-3a00-4340-8582-64babf3acdfa",
   "metadata": {},
   "outputs": [
    {
     "data": {
      "text/plain": [
       "'GMRES: 0.000749350932892412, ZEROS: 22.068756103515625'"
      ]
     },
     "execution_count": 59,
     "metadata": {},
     "output_type": "execute_result"
    }
   ],
   "source": [
    "f'GMRES: {manual_test(A, b, sol)}, ZEROS: {manual_test(A, b, torch.zeros(500, device=device))}'"
   ]
  },
  {
   "cell_type": "code",
   "execution_count": 60,
   "id": "c64979b3-67e5-4caa-ab89-2370edd6139d",
   "metadata": {},
   "outputs": [
    {
     "name": "stdout",
     "output_type": "stream",
     "text": [
      "1000\n"
     ]
    }
   ],
   "source": [
    "x = solve_scipy(A, b)"
   ]
  },
  {
   "cell_type": "code",
   "execution_count": 61,
   "id": "fcc97c55-19e6-436e-963d-ca2466edcc2d",
   "metadata": {},
   "outputs": [
    {
     "data": {
      "text/plain": [
       "'GMRES: 21.56355857849121, ZEROS: 22.068756103515625'"
      ]
     },
     "execution_count": 61,
     "metadata": {},
     "output_type": "execute_result"
    }
   ],
   "source": [
    "f'GMRES: {manual_test(A, b, torch.from_numpy(x).to(device))}, ZEROS: {manual_test(A, b, torch.zeros(500, device=device))}'"
   ]
  },
  {
   "cell_type": "markdown",
   "id": "6d3f6b8c-af2c-4fc9-a226-5899063e2cfc",
   "metadata": {},
   "source": [
    "### Random (Identity)\n",
    "\n",
    "Converge in a single iteration."
   ]
  },
  {
   "cell_type": "code",
   "execution_count": 62,
   "id": "a054cef4-7f17-449f-a513-04af109354a3",
   "metadata": {},
   "outputs": [],
   "source": [
    "def eye_usage(n=500):    \n",
    "    A = torch.eye(n, device=device)\n",
    "    \n",
    "    b = torch.randn(n, device=device)\n",
    "    \n",
    "    # Solve the systems\n",
    "    sol, (conv_iter, errs) = solve(A, b)\n",
    "    print (conv_iter)\n",
    "    print(errs[-1] if len(errs) > 0 else [])\n",
    "    \n",
    "    return A, b, sol, conv_iter, errs"
   ]
  },
  {
   "cell_type": "code",
   "execution_count": 63,
   "id": "df4f6678-fb65-4ce3-94ea-188d19f01e78",
   "metadata": {},
   "outputs": [
    {
     "name": "stdout",
     "output_type": "stream",
     "text": [
      "0\n",
      "0.0\n"
     ]
    }
   ],
   "source": [
    "A, b, sol, conv_iter, errs = eye_usage()"
   ]
  },
  {
   "cell_type": "code",
   "execution_count": 64,
   "id": "b5694abf-1f39-4756-a652-345b1fc2f251",
   "metadata": {},
   "outputs": [
    {
     "name": "stdout",
     "output_type": "stream",
     "text": [
      "0\n"
     ]
    }
   ],
   "source": [
    "x = solve_scipy(A, b)"
   ]
  },
  {
   "cell_type": "markdown",
   "id": "be78bd27-635f-4364-80ae-aca2989b2d6b",
   "metadata": {},
   "source": [
    "### Hilbert\n",
    "\n",
    "Hilbert matrices from Milestone 1. Need a try catch for errors that arise from givens rotation."
   ]
  },
  {
   "cell_type": "code",
   "execution_count": 65,
   "id": "756fd159-a2a8-4ce0-9136-9fd00e705f0d",
   "metadata": {},
   "outputs": [],
   "source": [
    "from scipy.linalg import hilbert"
   ]
  },
  {
   "cell_type": "code",
   "execution_count": 121,
   "id": "51b5eb5f-0901-47bb-b85f-6a26d96334b2",
   "metadata": {},
   "outputs": [],
   "source": [
    "def hilbert_usage(n=500):    \n",
    "    A = torch.tensor(hilbert(n)).to(device, torch.float)\n",
    "    \n",
    "    b = torch.randn(n, device=device)\n",
    "    \n",
    "    # Solve the systems\n",
    "    try:\n",
    "        sol, (conv_iter, errs) = solve(A, b)\n",
    "    except ValueError as e:\n",
    "        print(f'ValueError: {e}, Givens-Rotation-Issue')\n",
    "        return A, b, torch.zeros(n, device=device), -1, []\n",
    "    \n",
    "    print (conv_iter)\n",
    "    print(errs[-1] if len(errs) > 0 else [])\n",
    "    \n",
    "    return A, b, sol, conv_iter, errs"
   ]
  },
  {
   "cell_type": "code",
   "execution_count": 122,
   "id": "85a8aced-ceb8-4088-9a15-23b9c56cc67d",
   "metadata": {
    "tags": []
   },
   "outputs": [
    {
     "name": "stdout",
     "output_type": "stream",
     "text": [
      "ValueError: 14-th cosine contains NaN, Givens-Rotation-Issue\n"
     ]
    }
   ],
   "source": [
    "A, b, sol, conv_iter, errs = hilbert_usage()"
   ]
  },
  {
   "cell_type": "code",
   "execution_count": 123,
   "id": "a26630c3-6808-4cec-8029-4a9d0fbed0c1",
   "metadata": {},
   "outputs": [
    {
     "data": {
      "text/plain": [
       "'GMRES: 21.546018600463867, ZEROS: 21.546018600463867'"
      ]
     },
     "execution_count": 123,
     "metadata": {},
     "output_type": "execute_result"
    }
   ],
   "source": [
    "f'GMRES: {manual_test(A, b, sol)}, ZEROS: {manual_test(A, b, torch.zeros(500, device=device))}'"
   ]
  },
  {
   "cell_type": "code",
   "execution_count": 124,
   "id": "03b4508f-5483-4cf7-af78-1b9d4748a292",
   "metadata": {},
   "outputs": [
    {
     "name": "stdout",
     "output_type": "stream",
     "text": [
      "1000\n"
     ]
    }
   ],
   "source": [
    "x = solve_scipy(A, b)"
   ]
  },
  {
   "cell_type": "code",
   "execution_count": 125,
   "id": "d0976fd0-647d-435b-a482-ef3c3874a86b",
   "metadata": {},
   "outputs": [
    {
     "data": {
      "text/plain": [
       "'GMRES: 425.2770080566406, ZEROS: 21.546018600463867'"
      ]
     },
     "execution_count": 125,
     "metadata": {},
     "output_type": "execute_result"
    }
   ],
   "source": [
    "f'GMRES: {manual_test(A, b, torch.from_numpy(x).to(device))}, ZEROS: {manual_test(A, b, torch.zeros(500, device=device))}'"
   ]
  },
  {
   "cell_type": "markdown",
   "id": "cf89e8ab-5fb9-4827-9db4-f7ea38b57886",
   "metadata": {},
   "source": [
    "### Helmholtz \n",
    "\n",
    "Helmholtz matrices from Milestone 1."
   ]
  },
  {
   "cell_type": "code",
   "execution_count": 134,
   "id": "e2110e76-2426-49f9-b301-4fa12ce7f3f2",
   "metadata": {},
   "outputs": [],
   "source": [
    "import numpy as np\n",
    "import scipy.sparse as sp"
   ]
  },
  {
   "cell_type": "code",
   "execution_count": 135,
   "id": "00b3b476-2382-471c-8761-ddea706c07ab",
   "metadata": {},
   "outputs": [],
   "source": [
    "def generate_random_helmholtz(n, density=0.001):\n",
    "    L = 1.0\n",
    "    k = np.random.uniform(10, 200)  # Random wavenumber\n",
    "    h = L / (n - 1)  \n",
    "\n",
    "    # Discretization of Helmholtz operator (1D)\n",
    "    diagonals = [np.ones(n-1), -2*np.ones(n), np.ones(n-1)]\n",
    "\n",
    "    helmholtz = sp.diags(diagonals, [-1, 0, 1]) / h**2 + k**2 * sp.eye(n)\n",
    "\n",
    "    # Ensure no perturbations on the tridiagnonal\n",
    "    perturb = sp.random(n, n, density=density) * np.max(helmholtz)\n",
    "    \n",
    "    perturb.setdiag(0)  # Main diagonal\n",
    "    perturb.setdiag(0, k=1)  # First upper diagonal\n",
    "    perturb.setdiag(0, k=-1)  # First lower diagonal\n",
    "        \n",
    "    return helmholtz + perturb"
   ]
  },
  {
   "cell_type": "code",
   "execution_count": 138,
   "id": "be506626-1e96-4cf9-9a0f-67137e4be033",
   "metadata": {},
   "outputs": [],
   "source": [
    "def helmholtz_usage(n=500):    \n",
    "    A = torch.from_numpy(generate_random_helmholtz(n).toarray()).to(device, torch.float)\n",
    "    \n",
    "    b = torch.randn(n, device=device)\n",
    "    \n",
    "    # Solve the systems\n",
    "    try:\n",
    "        sol, (conv_iter, errs) = solve(A, b)\n",
    "    except ValueError as e:\n",
    "        print(f'ValueError: {e}, Givens-Rotation-Issue')\n",
    "        return A, b, torch.zeros(n, device=device), -1, []\n",
    "    \n",
    "    print (conv_iter)\n",
    "    print(errs[-1] if len(errs) > 0 else [])\n",
    "    \n",
    "    return A, b, sol, conv_iter, errs"
   ]
  },
  {
   "cell_type": "code",
   "execution_count": 140,
   "id": "f6989bcd-1a3b-44b0-8355-dd5cc1225701",
   "metadata": {},
   "outputs": [
    {
     "name": "stdout",
     "output_type": "stream",
     "text": [
      "499\n",
      "1.7057906006812118e-05\n"
     ]
    }
   ],
   "source": [
    "A, b, sol, conv_iter, errs = helmholtz_usage()"
   ]
  },
  {
   "cell_type": "code",
   "execution_count": 142,
   "id": "9840e79e-37c1-49b6-babf-d7a767ca6895",
   "metadata": {},
   "outputs": [
    {
     "data": {
      "text/plain": [
       "'GMRES: 0.0007967761484906077, ZEROS: 22.100479125976562'"
      ]
     },
     "execution_count": 142,
     "metadata": {},
     "output_type": "execute_result"
    }
   ],
   "source": [
    "f'GMRES: {manual_test(A, b, sol)}, ZEROS: {manual_test(A, b, torch.zeros(500, device=device))}'"
   ]
  },
  {
   "cell_type": "code",
   "execution_count": 141,
   "id": "2e14a92b-3fe4-4015-a4a0-061862e6f9d5",
   "metadata": {},
   "outputs": [
    {
     "name": "stdout",
     "output_type": "stream",
     "text": [
      "1000\n"
     ]
    }
   ],
   "source": [
    "x = solve_scipy(A, b)"
   ]
  },
  {
   "cell_type": "code",
   "execution_count": 143,
   "id": "5d0a0079-6e25-480d-8fae-dbb16ba7e5b4",
   "metadata": {},
   "outputs": [
    {
     "data": {
      "text/plain": [
       "'GMRES: 0.058694325387477875, ZEROS: 22.100479125976562'"
      ]
     },
     "execution_count": 143,
     "metadata": {},
     "output_type": "execute_result"
    }
   ],
   "source": [
    "f'GMRES: {manual_test(A, b, torch.from_numpy(x).to(device))}, ZEROS: {manual_test(A, b, torch.zeros(500, device=device))}'"
   ]
  },
  {
   "cell_type": "markdown",
   "id": "94f1249e-3a0e-4403-afbc-6df89420d884",
   "metadata": {},
   "source": [
    "## Loss Integration\n",
    "\n",
    "Identity distance from Milestone 2 (with vectorized form). This will be the form going forward."
   ]
  },
  {
   "cell_type": "code",
   "execution_count": 177,
   "id": "28d6f6da-59d1-43f3-aac0-8c30d0914d7f",
   "metadata": {},
   "outputs": [],
   "source": [
    "from torch import nn"
   ]
  },
  {
   "cell_type": "code",
   "execution_count": 184,
   "id": "e8fd2a9d-9158-41ed-8a00-1cdb6911b685",
   "metadata": {},
   "outputs": [],
   "source": [
    "class IdenittyDistance(nn.Module):\n",
    "    def __init__(self, l1=1e-1, logsum=None):\n",
    "        super().__init__()\n",
    "        self.l1 = l1\n",
    "        self.logsum = logsum\n",
    "        \n",
    "    def forward(self, inp, outp):\n",
    "        batch_size = inp.ptr.shape[0] - 1\n",
    "        inner_product = torch.bmm(inp.x.view(batch_size, 500, 500), outp.view(batch_size, 500, 500))\n",
    "\n",
    "        identity = torch.eye(500, device=inp.x.device).expand(batch_size, -1, -1)\n",
    "        frobenius_loss = torch.norm(inner_product - identity, p='fro', dim=(1, 2))\n",
    "        avg_loss = torch.mean(frobenius_loss)\n",
    "\n",
    "        if self.l1 is not None:\n",
    "            avg_loss += self.l1 * torch.norm(outp, p=1)\n",
    "        elif self.logsum is not None:\n",
    "            avg_loss += torch.sum(torch.log(1 + torch.abs(param) / self.logsum))\n",
    "        \n",
    "        return avg_loss"
   ]
  },
  {
   "cell_type": "code",
   "execution_count": 185,
   "id": "94f5de49-2647-4247-8a55-7f4ebe03edac",
   "metadata": {},
   "outputs": [],
   "source": [
    "eyeloss = IdenittyDistance()"
   ]
  },
  {
   "cell_type": "markdown",
   "id": "226fed77-e5d9-4eea-abd3-90576ba26071",
   "metadata": {},
   "source": [
    "# Models\n",
    "\n",
    "Potential models for actor network."
   ]
  },
  {
   "cell_type": "code",
   "execution_count": null,
   "id": "3f485930-2a6b-4b07-ba4a-578343b9cd3a",
   "metadata": {},
   "outputs": [],
   "source": [
    "def shared_training_loop():\n",
    "    pass"
   ]
  },
  {
   "cell_type": "markdown",
   "id": "a3a323ca-f384-4a17-af8e-fb6ca930df93",
   "metadata": {},
   "source": [
    "## (Node Feature) Models\n",
    "\n",
    "Models in which the direct node feature output is used as the estimate."
   ]
  },
  {
   "cell_type": "markdown",
   "id": "7c3c6548-331c-4cca-a8a7-042677421dbe",
   "metadata": {},
   "source": [
    "### TransformerConv\n",
    "\n",
    "Uses a transformer network to pass messages."
   ]
  },
  {
   "cell_type": "code",
   "execution_count": null,
   "id": "583d2b91-9e11-417e-b774-605f9acd37f0",
   "metadata": {},
   "outputs": [],
   "source": []
  },
  {
   "cell_type": "code",
   "execution_count": null,
   "id": "17a68680-d8c8-43a2-9a9d-a5c1aa042736",
   "metadata": {},
   "outputs": [],
   "source": []
  },
  {
   "cell_type": "code",
   "execution_count": null,
   "id": "4d1f9b12-cf35-4a56-b4a0-aaa97666709e",
   "metadata": {},
   "outputs": [],
   "source": []
  },
  {
   "cell_type": "code",
   "execution_count": null,
   "id": "e54d9eb4-a7cf-4044-859e-b8e41b34d9c1",
   "metadata": {},
   "outputs": [],
   "source": []
  },
  {
   "cell_type": "code",
   "execution_count": null,
   "id": "1dabe9bc-375b-4ad3-955c-87366c3fdcb6",
   "metadata": {},
   "outputs": [],
   "source": []
  },
  {
   "cell_type": "code",
   "execution_count": null,
   "id": "1e07f33e-f199-4875-89dd-3e8b00a98025",
   "metadata": {},
   "outputs": [],
   "source": []
  },
  {
   "cell_type": "markdown",
   "id": "5cad0c04-5192-4e5b-a6a8-139923fd352f",
   "metadata": {},
   "source": [
    "### GCN\n",
    "\n",
    "The basic GNN convolutional model."
   ]
  },
  {
   "cell_type": "code",
   "execution_count": null,
   "id": "900ad564-285c-4bd8-8c40-fe66ce4feeec",
   "metadata": {},
   "outputs": [],
   "source": []
  },
  {
   "cell_type": "code",
   "execution_count": null,
   "id": "c2210d24-dc07-47f3-b9c7-d1c47d53f654",
   "metadata": {},
   "outputs": [],
   "source": []
  },
  {
   "cell_type": "code",
   "execution_count": null,
   "id": "ea91afca-f07a-4b9d-86ba-fb0b70329dc5",
   "metadata": {},
   "outputs": [],
   "source": []
  },
  {
   "cell_type": "code",
   "execution_count": null,
   "id": "a3044618-6c9e-410a-a0ac-c4fdc8983bda",
   "metadata": {},
   "outputs": [],
   "source": []
  },
  {
   "cell_type": "markdown",
   "id": "c5f67365-9be5-4ce4-923b-6e544414343a",
   "metadata": {},
   "source": [
    "### ChebConv\n",
    "\n",
    "A hihger order convolutional model. **May be worth it to connect K with spectral properties of my input?**"
   ]
  },
  {
   "cell_type": "code",
   "execution_count": null,
   "id": "1edb2d4b-38cd-4c9e-ae07-e307bc9509ef",
   "metadata": {},
   "outputs": [],
   "source": []
  },
  {
   "cell_type": "code",
   "execution_count": null,
   "id": "3f4081f8-ea40-467a-a740-64705d6bc1ec",
   "metadata": {},
   "outputs": [],
   "source": []
  },
  {
   "cell_type": "code",
   "execution_count": null,
   "id": "3b216c70-47b1-4efb-93e6-5db748e25322",
   "metadata": {},
   "outputs": [],
   "source": []
  },
  {
   "cell_type": "code",
   "execution_count": null,
   "id": "46ac2f10-9762-4587-8ea6-06a5010a67a8",
   "metadata": {},
   "outputs": [],
   "source": []
  },
  {
   "cell_type": "code",
   "execution_count": null,
   "id": "a7826d7d-1707-4904-94d5-8cdc8f2099f0",
   "metadata": {},
   "outputs": [],
   "source": []
  },
  {
   "cell_type": "markdown",
   "id": "aecb65c2-8d9d-4af3-8b30-733ddef0bca5",
   "metadata": {},
   "source": [
    "## (Edge Prediction) Models\n",
    "\n",
    "Models in which the node features are passed in pairs to linear layers and compute an edge weight.\n",
    "\n",
    "Sharing a training loop means some things like edge prediction will happen within the model class."
   ]
  },
  {
   "cell_type": "code",
   "execution_count": null,
   "id": "cd9afcdd-68d6-4579-8e46-4aa2be865166",
   "metadata": {},
   "outputs": [],
   "source": []
  },
  {
   "cell_type": "code",
   "execution_count": null,
   "id": "c9a18dfd-f7f5-4c57-bf61-eaf15cd90122",
   "metadata": {},
   "outputs": [],
   "source": []
  },
  {
   "cell_type": "code",
   "execution_count": null,
   "id": "77a63831-61ac-402e-b9d3-a78dd132ab4b",
   "metadata": {},
   "outputs": [],
   "source": []
  },
  {
   "cell_type": "code",
   "execution_count": null,
   "id": "3f0833c8-f27e-4ee0-b53b-f1c391cb1b15",
   "metadata": {},
   "outputs": [],
   "source": []
  },
  {
   "cell_type": "code",
   "execution_count": null,
   "id": "b766c279-861a-4ff1-9b93-36e1307909d7",
   "metadata": {},
   "outputs": [],
   "source": []
  },
  {
   "cell_type": "code",
   "execution_count": null,
   "id": "269f5691-eace-40a4-b8a1-a0bb25e056eb",
   "metadata": {},
   "outputs": [],
   "source": []
  },
  {
   "cell_type": "markdown",
   "id": "6b252b1a-a948-4965-b52f-28ed3c22b62b",
   "metadata": {},
   "source": [
    "## (Misc) Models\n",
    "\n",
    "Models I just had an idea with. Not sure if I will use this section, but its here."
   ]
  },
  {
   "cell_type": "code",
   "execution_count": null,
   "id": "a9723bc3-a72e-4283-99f4-53dbba1b4796",
   "metadata": {},
   "outputs": [],
   "source": []
  }
 ],
 "metadata": {
  "kernelspec": {
   "display_name": "Python 3 (ipykernel)",
   "language": "python",
   "name": "python3"
  },
  "language_info": {
   "codemirror_mode": {
    "name": "ipython",
    "version": 3
   },
   "file_extension": ".py",
   "mimetype": "text/x-python",
   "name": "python",
   "nbconvert_exporter": "python",
   "pygments_lexer": "ipython3",
   "version": "3.9.7"
  }
 },
 "nbformat": 4,
 "nbformat_minor": 5
}
