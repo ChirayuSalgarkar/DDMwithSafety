{
 "cells": [
  {
   "cell_type": "markdown",
   "id": "d602e0ee-11c3-4dc8-8b11-a1b764a75d6b",
   "metadata": {},
   "source": [
    "# Summary\n",
    "\n",
    "Milestone 3 of reinforcement learning project. Notebook to get a GMRES that (1) works on GPU and (2) works with batched data.\n",
    "\n",
    "## TODO\n",
    "\n",
    "1. Finish testing.\n",
    "2. Setup dataset from other notebook.\n",
    "3. Integrate the GPU GMRES with the loss to see how much a single step will cost.\n",
    "4. Improve loss from Milestone 2.\n",
    "    1. Vectorize it.\n",
    "    2. Additional terms for sparsity?\n",
    "5. Begin to pretrain actor.\n",
    "    1. First experiment with models.\n",
    "        1. Minimize eye_dist.\n",
    "        2. Try different layers.\n",
    "        3. Try edge prediction. \n",
    "        4. REALLY TRY TO GET SPARSITY.\n",
    "    2. Anything that works, store in a python file.\n",
    "    3. Build out a python file that has models that have worked.\n",
    "    4. Make sure to save weights and successfully plots to /Weights and /Plots"
   ]
  },
  {
   "cell_type": "markdown",
   "id": "10aa0577-82ac-4284-b98c-ae00a1ba75e7",
   "metadata": {},
   "source": [
    "# Dataset\n",
    "\n",
    "Same helmholtz dataset from milestone 2."
   ]
  },
  {
   "cell_type": "code",
   "execution_count": null,
   "id": "c216aa77-3dcc-4661-902a-e80b980cbbd0",
   "metadata": {},
   "outputs": [],
   "source": []
  },
  {
   "cell_type": "code",
   "execution_count": null,
   "id": "cc2aa68b-2272-463e-a6c4-47b7f81f6599",
   "metadata": {},
   "outputs": [],
   "source": []
  },
  {
   "cell_type": "code",
   "execution_count": null,
   "id": "39e31575-7465-4257-9f59-9bf5258d0187",
   "metadata": {},
   "outputs": [],
   "source": []
  },
  {
   "cell_type": "code",
   "execution_count": null,
   "id": "3f0c5de5-3c21-4461-af27-51a405f64137",
   "metadata": {},
   "outputs": [],
   "source": []
  },
  {
   "cell_type": "code",
   "execution_count": null,
   "id": "08313a8b-8bdd-49f9-aa76-6c67de890997",
   "metadata": {},
   "outputs": [],
   "source": []
  },
  {
   "cell_type": "code",
   "execution_count": null,
   "id": "373dbed8-09c5-40f0-9803-ab59faed2b73",
   "metadata": {},
   "outputs": [],
   "source": []
  },
  {
   "cell_type": "code",
   "execution_count": null,
   "id": "51d4498d-195e-4237-91f0-32d24c9c52c2",
   "metadata": {},
   "outputs": [],
   "source": []
  },
  {
   "cell_type": "code",
   "execution_count": null,
   "id": "38789233-281a-46ef-84fd-f2a868630d2d",
   "metadata": {},
   "outputs": [],
   "source": []
  },
  {
   "cell_type": "markdown",
   "id": "7f1d6544-94dc-4b46-a5b1-8635215142f6",
   "metadata": {},
   "source": [
    "# GPU-GMRES\n",
    "\n",
    "Computes GMRES solvers. Possibly get it to work with batches but I gave up.\n",
    "\n",
    "Authored by https://github.com/devzhk/Pytorch-linalg "
   ]
  },
  {
   "cell_type": "code",
   "execution_count": 2,
   "id": "4a0c4afe-1ddb-4dd5-8753-01a0c9d59230",
   "metadata": {},
   "outputs": [],
   "source": [
    "from PytorchLinalg.linalg import GMRES\n",
    "import torch\n",
    "import scipy.sparse.linalg as spla"
   ]
  },
  {
   "cell_type": "code",
   "execution_count": 3,
   "id": "07459288-e72b-4478-b90b-dad715643309",
   "metadata": {},
   "outputs": [],
   "source": [
    "device = torch.device('cuda' if torch.cuda.is_available() else 'cpu')"
   ]
  },
  {
   "cell_type": "code",
   "execution_count": 43,
   "id": "c7b31fbd-6f9e-4b4c-adba-820d4f613428",
   "metadata": {},
   "outputs": [],
   "source": [
    "def solve(A, b):   \n",
    "    A, b = A.to(device), b.to(device)\n",
    "    return GMRES(A, b, track=True)"
   ]
  },
  {
   "cell_type": "code",
   "execution_count": 5,
   "id": "4ca151af-4d12-46f1-b7be-14f62fc04a74",
   "metadata": {},
   "outputs": [],
   "source": [
    "def manual_test(A, b, x):\n",
    "    return torch.linalg.norm(A @ x - b)"
   ]
  },
  {
   "cell_type": "code",
   "execution_count": 6,
   "id": "ea1d422b-9d31-48b6-a767-4ba399f59dbc",
   "metadata": {},
   "outputs": [],
   "source": [
    "def solve_scipy(A, b):\n",
    "    A, b = A.cpu().numpy(), b.cpu().numpy()\n",
    "    x, exit = spla.gmres(A, b, maxiter=1000, restart=20)\n",
    "    print(exit)\n",
    "    return x"
   ]
  },
  {
   "cell_type": "markdown",
   "id": "7184a048-af05-4840-ab4e-aea0f21fd1c1",
   "metadata": {},
   "source": [
    "## Testing\n",
    "\n",
    "Make sure this actually works."
   ]
  },
  {
   "cell_type": "markdown",
   "id": "6a495b1b-e14a-4177-8bd4-6275e5744f7e",
   "metadata": {},
   "source": [
    "### Random (Garbage)\n",
    "\n",
    "Should fail. No gurantee the matrix is any good."
   ]
  },
  {
   "cell_type": "code",
   "execution_count": 44,
   "id": "304d6158-c089-4b7e-8c61-eb8badd470a3",
   "metadata": {},
   "outputs": [],
   "source": [
    "def random_usage(batch_size=32, n=500):    \n",
    "    A = torch.randn(n, n, device=device)\n",
    "    \n",
    "    b = torch.randn(n, device=device)\n",
    "    \n",
    "    # Solve the systems\n",
    "    sol, (conv_iter, errs) = solve(A, b)\n",
    "    print (conv_iter)\n",
    "    print(errs[-1] if len(errs) > 0 else []) # rel_tol\n",
    "    \n",
    "    return A, b, sol, conv_iter, errs"
   ]
  },
  {
   "cell_type": "code",
   "execution_count": 45,
   "id": "f1092c07-4057-49dd-9605-b48b927ac80a",
   "metadata": {},
   "outputs": [
    {
     "name": "stdout",
     "output_type": "stream",
     "text": [
      "499\n",
      "2.5878046017169254e-06\n"
     ]
    }
   ],
   "source": [
    "A, b, sol, conv_iter, errs = random_usage()"
   ]
  },
  {
   "cell_type": "code",
   "execution_count": 46,
   "id": "7af914d1-3a00-4340-8582-64babf3acdfa",
   "metadata": {},
   "outputs": [
    {
     "data": {
      "text/plain": [
       "'GMRES: 0.0001163619090220891, ZEROS: 22.576791763305664'"
      ]
     },
     "execution_count": 46,
     "metadata": {},
     "output_type": "execute_result"
    }
   ],
   "source": [
    "f'GMRES: {manual_test(A, b, sol)}, ZEROS: {manual_test(A, b, torch.zeros(500, device=device))}'"
   ]
  },
  {
   "cell_type": "code",
   "execution_count": 47,
   "id": "c64979b3-67e5-4caa-ab89-2370edd6139d",
   "metadata": {},
   "outputs": [
    {
     "name": "stdout",
     "output_type": "stream",
     "text": [
      "1000\n"
     ]
    }
   ],
   "source": [
    "x = solve_scipy(A, b)"
   ]
  },
  {
   "cell_type": "code",
   "execution_count": 48,
   "id": "fcc97c55-19e6-436e-963d-ca2466edcc2d",
   "metadata": {},
   "outputs": [
    {
     "data": {
      "text/plain": [
       "'GMRES: 22.029678344726562, ZEROS: 22.576791763305664'"
      ]
     },
     "execution_count": 48,
     "metadata": {},
     "output_type": "execute_result"
    }
   ],
   "source": [
    "f'GMRES: {manual_test(A, b, torch.from_numpy(x).to(device))}, ZEROS: {manual_test(A, b, torch.zeros(500, device=device))}'"
   ]
  },
  {
   "cell_type": "markdown",
   "id": "6d3f6b8c-af2c-4fc9-a226-5899063e2cfc",
   "metadata": {},
   "source": [
    "### Random (Identity)\n",
    "\n",
    "Converge in a single iteration."
   ]
  },
  {
   "cell_type": "code",
   "execution_count": 49,
   "id": "a054cef4-7f17-449f-a513-04af109354a3",
   "metadata": {},
   "outputs": [],
   "source": [
    "def eye_usage(batch_size=32, n=500):    \n",
    "    A = torch.eye(n, device=device)\n",
    "    \n",
    "    b = torch.randn(n, device=device)\n",
    "    \n",
    "    # Solve the systems\n",
    "    sol, (conv_iter, errs) = solve(A, b)\n",
    "    print (conv_iter)\n",
    "    print(errs[-1] if len(errs) > 0 else [])\n",
    "    \n",
    "    return A, b, sol, conv_iter, errs"
   ]
  },
  {
   "cell_type": "code",
   "execution_count": 50,
   "id": "df4f6678-fb65-4ce3-94ea-188d19f01e78",
   "metadata": {},
   "outputs": [
    {
     "name": "stdout",
     "output_type": "stream",
     "text": [
      "0\n",
      "8.623069902569114e-08\n"
     ]
    }
   ],
   "source": [
    "A, b, sol, conv_iter, errs = eye_usage()"
   ]
  },
  {
   "cell_type": "code",
   "execution_count": 51,
   "id": "b5694abf-1f39-4756-a652-345b1fc2f251",
   "metadata": {},
   "outputs": [
    {
     "name": "stdout",
     "output_type": "stream",
     "text": [
      "0\n"
     ]
    }
   ],
   "source": [
    "x = solve_scipy(A, b)"
   ]
  },
  {
   "cell_type": "markdown",
   "id": "be78bd27-635f-4364-80ae-aca2989b2d6b",
   "metadata": {},
   "source": [
    "### Hilbert\n",
    "\n",
    "Hilbert matrices from Milestone 1."
   ]
  },
  {
   "cell_type": "code",
   "execution_count": null,
   "id": "756fd159-a2a8-4ce0-9136-9fd00e705f0d",
   "metadata": {},
   "outputs": [],
   "source": []
  },
  {
   "cell_type": "code",
   "execution_count": null,
   "id": "51b5eb5f-0901-47bb-b85f-6a26d96334b2",
   "metadata": {},
   "outputs": [],
   "source": []
  },
  {
   "cell_type": "code",
   "execution_count": null,
   "id": "85a8aced-ceb8-4088-9a15-23b9c56cc67d",
   "metadata": {},
   "outputs": [],
   "source": []
  },
  {
   "cell_type": "code",
   "execution_count": null,
   "id": "03b4508f-5483-4cf7-af78-1b9d4748a292",
   "metadata": {},
   "outputs": [],
   "source": []
  },
  {
   "cell_type": "code",
   "execution_count": null,
   "id": "3d30ebac-36fb-4d7c-b0fa-1b72f7028166",
   "metadata": {},
   "outputs": [],
   "source": []
  },
  {
   "cell_type": "markdown",
   "id": "cf89e8ab-5fb9-4827-9db4-f7ea38b57886",
   "metadata": {},
   "source": [
    "### Helmholtz \n",
    "\n",
    "Helmholtz matrices from Milestone 1."
   ]
  },
  {
   "cell_type": "code",
   "execution_count": null,
   "id": "00b3b476-2382-471c-8761-ddea706c07ab",
   "metadata": {},
   "outputs": [],
   "source": []
  },
  {
   "cell_type": "code",
   "execution_count": null,
   "id": "be506626-1e96-4cf9-9a0f-67137e4be033",
   "metadata": {},
   "outputs": [],
   "source": []
  },
  {
   "cell_type": "code",
   "execution_count": null,
   "id": "f6989bcd-1a3b-44b0-8355-dd5cc1225701",
   "metadata": {},
   "outputs": [],
   "source": []
  },
  {
   "cell_type": "code",
   "execution_count": null,
   "id": "9840e79e-37c1-49b6-babf-d7a767ca6895",
   "metadata": {},
   "outputs": [],
   "source": []
  },
  {
   "cell_type": "code",
   "execution_count": null,
   "id": "2e14a92b-3fe4-4015-a4a0-061862e6f9d5",
   "metadata": {},
   "outputs": [],
   "source": []
  },
  {
   "cell_type": "markdown",
   "id": "94f1249e-3a0e-4403-afbc-6df89420d884",
   "metadata": {},
   "source": [
    "## Loss Integration\n",
    "\n",
    "Identity distance from Milestone 2 (with vectorized form). This will be the form going forward."
   ]
  },
  {
   "cell_type": "code",
   "execution_count": null,
   "id": "e8fd2a9d-9158-41ed-8a00-1cdb6911b685",
   "metadata": {},
   "outputs": [],
   "source": []
  },
  {
   "cell_type": "code",
   "execution_count": null,
   "id": "08a12633-84e8-4d7c-98da-399cd002442b",
   "metadata": {},
   "outputs": [],
   "source": []
  },
  {
   "cell_type": "code",
   "execution_count": null,
   "id": "94f5de49-2647-4247-8a55-7f4ebe03edac",
   "metadata": {},
   "outputs": [],
   "source": []
  },
  {
   "cell_type": "code",
   "execution_count": null,
   "id": "a53f9584-1c1a-4a4a-ba0f-5f39c8350ab7",
   "metadata": {},
   "outputs": [],
   "source": []
  },
  {
   "cell_type": "code",
   "execution_count": null,
   "id": "c5fde004-78eb-4ca7-bc82-f68655209e40",
   "metadata": {},
   "outputs": [],
   "source": []
  },
  {
   "cell_type": "code",
   "execution_count": null,
   "id": "79f0444a-5d20-41ea-8842-164aa62ab08b",
   "metadata": {},
   "outputs": [],
   "source": []
  },
  {
   "cell_type": "code",
   "execution_count": null,
   "id": "0b83372c-c902-44de-a96f-dd036f5a86c5",
   "metadata": {},
   "outputs": [],
   "source": []
  }
 ],
 "metadata": {
  "kernelspec": {
   "display_name": "Python 3 (ipykernel)",
   "language": "python",
   "name": "python3"
  },
  "language_info": {
   "codemirror_mode": {
    "name": "ipython",
    "version": 3
   },
   "file_extension": ".py",
   "mimetype": "text/x-python",
   "name": "python",
   "nbconvert_exporter": "python",
   "pygments_lexer": "ipython3",
   "version": "3.9.7"
  }
 },
 "nbformat": 4,
 "nbformat_minor": 5
}
