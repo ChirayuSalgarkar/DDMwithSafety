{
 "cells": [
  {
   "cell_type": "markdown",
   "id": "5214785b-d442-4bc0-803f-6e1cc966d7f4",
   "metadata": {},
   "source": [
    "# Summary\n",
    "\n",
    "This notebook provides a breath of all the features offered in the project. "
   ]
  },
  {
   "cell_type": "markdown",
   "id": "9deb6846-340a-4de1-88d3-ca46472fbe0c",
   "metadata": {},
   "source": [
    "# Imports/Setup"
   ]
  },
  {
   "cell_type": "code",
   "execution_count": 17,
   "id": "ee3f0489-31df-4d50-9265-1b60552edc09",
   "metadata": {},
   "outputs": [],
   "source": [
    "from Data import dataset, generator\n",
    "from Data import utility as data_utility\n",
    "from Evaluation import utility as eval_utility\n",
    "from Model import linear, scipy\n",
    "from Model import utility as model_utility\n",
    "from Objectives import losses"
   ]
  },
  {
   "cell_type": "code",
   "execution_count": 18,
   "id": "0e9ede6f-6c31-48e1-be95-1672ece789a5",
   "metadata": {},
   "outputs": [],
   "source": [
    "class Config:\n",
    "    # dataset\n",
    "    batch_size = 128\n",
    "    gen_size = 5\n",
    "    mat_size = 5**2\n",
    "    seed = 42\n",
    "    \n",
    "    # dataloader\n",
    "    train_len = 1000\n",
    "    valid_len = 100\n",
    "    shuffle = True\n",
    "    \n",
    "    # device\n",
    "    device_pref = 'cuda'\n",
    "    device_ind = 0\n",
    "    \n",
    "    # model\n",
    "    hidden = 256\n",
    "    sparse_tol = 1e-2\n",
    "    diagonal_bias = 0.1\n",
    "    \n",
    "    # loss\n",
    "    l1 =  1e-5\n",
    "    inv = 1e-5\n",
    "    dev = 1.0\n",
    "    cond = 1e-1\n",
    "    lambda_diag = 0\n",
    "    \n",
    "    # training\n",
    "    epoches = 10\n",
    "    lr = 1e-5\n",
    "    verbose = True\n",
    "    file_path = '/data/users/jupyter-dam724/RL/precondition-discovery-contextual-bandit/RUNS/testing.pth'"
   ]
  },
  {
   "cell_type": "code",
   "execution_count": null,
   "id": "9661b48d-31cf-4532-b72f-534889fcf286",
   "metadata": {},
   "outputs": [],
   "source": [
    "data_utility.seed(Config.seed)"
   ]
  },
  {
   "cell_type": "markdown",
   "id": "41cba0b2-b893-494f-812b-5785e47e5ec4",
   "metadata": {},
   "source": [
    "# Dataset/Dataloader"
   ]
  },
  {
   "cell_type": "code",
   "execution_count": 19,
   "id": "db08bce0-ab06-4446-b236-f56b839f609a",
   "metadata": {},
   "outputs": [],
   "source": [
    "train_dataset_params = {\n",
    "    'generator': generator.generate_2d_diffusion_spd,\n",
    "    'norm_feat': data_utility.normalize_features,\n",
    "    'epoch_len': Config.train_len,\n",
    "    'batch_size': Config.batch_size,\n",
    "    'size': Config.gen_size\n",
    "}\n",
    "\n",
    "valid_dataset_params = {\n",
    "    'generator': generator.generate_2d_diffusion_spd,\n",
    "    'norm_feat': data_utility.normalize_features,\n",
    "    'epoch_len': Config.valid_len,\n",
    "    'batch_size': Config.batch_size,\n",
    "    'size': Config.gen_size\n",
    "}"
   ]
  },
  {
   "cell_type": "code",
   "execution_count": 20,
   "id": "cd6ce842-809f-4bfb-a5b0-26d4e4287597",
   "metadata": {},
   "outputs": [],
   "source": [
    "train_dataset = dataset.SystemDataset(**train_dataset_params)\n",
    "valid_dataset = dataset.SystemDataset(**valid_dataset_params)"
   ]
  },
  {
   "cell_type": "code",
   "execution_count": 21,
   "id": "457018a4-bf6a-4e44-85e8-f2bba294dc13",
   "metadata": {},
   "outputs": [],
   "source": [
    "train_dataloader_params = {\n",
    "    'dataset': train_dataset,\n",
    "    'batch_size': Config.batch_size,\n",
    "    'shuffle': Config.shuffle\n",
    "}\n",
    "\n",
    "valid_dataloader_params = {\n",
    "    'dataset': valid_dataset,\n",
    "    'batch_size': Config.batch_size,\n",
    "    'shuffle': Config.shuffle\n",
    "}"
   ]
  },
  {
   "cell_type": "code",
   "execution_count": 22,
   "id": "cb2d39c1-bf44-4537-9217-2db1d7f40f74",
   "metadata": {},
   "outputs": [],
   "source": [
    "train_dataloader = dataset.get_dataloader(**train_dataloader_params)\n",
    "valid_dataloader = dataset.get_dataloader(**valid_dataloader_params)"
   ]
  },
  {
   "cell_type": "code",
   "execution_count": 23,
   "id": "a699093b-8bfe-4fb0-b29a-6c65e0ccc4a8",
   "metadata": {},
   "outputs": [],
   "source": [
    "A, b = next(iter(train_dataloader))"
   ]
  },
  {
   "cell_type": "code",
   "execution_count": 24,
   "id": "790592ca-3c9a-4361-8842-b6b2a2ffe511",
   "metadata": {},
   "outputs": [
    {
     "name": "stdout",
     "output_type": "stream",
     "text": [
      "Determinent: 1883538048.0\n",
      "Matrix is non-singular.\n",
      "Condition: 3367.59521484375\n"
     ]
    },
    {
     "data": {
      "image/png": "[encoded data removed]",
      "text/plain": [
       "<Figure size 480x480 with 1 Axes>"
      ]
     },
     "metadata": {},
     "output_type": "display_data"
    }
   ],
   "source": [
    "ind = 2\n",
    "data_utility.check_singularity(A, ind)\n",
    "data_utility.check_conditioning(A, ind)\n",
    "data_utility.view_matrix(A, ind)"
   ]
  },
  {
   "cell_type": "markdown",
   "id": "0ee2a0c8-0db8-4248-9b70-df8048e81474",
   "metadata": {},
   "source": [
    "# Device"
   ]
  },
  {
   "cell_type": "code",
   "execution_count": 25,
   "id": "d2250f60-4c70-47be-b76c-65f08d8037d6",
   "metadata": {},
   "outputs": [],
   "source": [
    "device_params = {\n",
    "    'device_pref': Config.device_pref,\n",
    "    'ind_dev': Config.device_ind\n",
    "}"
   ]
  },
  {
   "cell_type": "code",
   "execution_count": 26,
   "id": "ca275a22-798e-4fbb-82d3-9a7d0bd50ee1",
   "metadata": {},
   "outputs": [
    {
     "name": "stdout",
     "output_type": "stream",
     "text": [
      "Now using GPU.\n"
     ]
    }
   ],
   "source": [
    "device = data_utility.set_device(**device_params)"
   ]
  },
  {
   "cell_type": "markdown",
   "id": "408b9b0c-b05f-421a-bf9c-27f745e4e168",
   "metadata": {},
   "source": [
    "# Model"
   ]
  },
  {
   "cell_type": "code",
   "execution_count": 27,
   "id": "7ce0e74f-6582-4c03-a9c2-97a4ab8a8c72",
   "metadata": {},
   "outputs": [],
   "source": [
    "model_params = {\n",
    "    'n':Config.mat_size,\n",
    "    'hidden':Config.hidden,\n",
    "    'batch_size':Config.batch_size,\n",
    "    'sparse_tol':Config.sparse_tol,\n",
    "    'diagonal_bias':Config.diagonal_bias\n",
    "}"
   ]
  },
  {
   "cell_type": "code",
   "execution_count": 28,
   "id": "0f351466-cb77-4fcd-96b2-4a72e24e2736",
   "metadata": {},
   "outputs": [],
   "source": [
    "model = linear.FCN(**model_params).to(device)"
   ]
  },
  {
   "cell_type": "markdown",
   "id": "914686d4-b868-45b5-9f73-cf6ad0f5d345",
   "metadata": {},
   "source": [
    "# Loss Function"
   ]
  },
  {
   "cell_type": "code",
   "execution_count": 29,
   "id": "9ced5c6f-153b-4ffa-8f79-a8823d48e66b",
   "metadata": {},
   "outputs": [],
   "source": [
    "loss_params = {\n",
    "    'l1': Config.l1,\n",
    "    'inv': Config.inv,\n",
    "    'dev': Config.dev,\n",
    "    'cond': Config.cond,\n",
    "    'lambda_diag': Config.lambda_diag,\n",
    "    'batch_size': Config.batch_size,\n",
    "    'size': Config.mat_size\n",
    "}"
   ]
  },
  {
   "cell_type": "code",
   "execution_count": 30,
   "id": "5dc02c95-59de-49a3-87a8-6c42ea76f369",
   "metadata": {},
   "outputs": [],
   "source": [
    "criterion = losses.CondEyeDistance(**loss_params)"
   ]
  },
  {
   "cell_type": "markdown",
   "id": "a6855da2-102c-496f-ab13-60de93cc08a6",
   "metadata": {},
   "source": [
    "# Training"
   ]
  },
  {
   "cell_type": "code",
   "execution_count": 31,
   "id": "6a35ed7a-e9f3-4e20-b16d-0afec887b457",
   "metadata": {},
   "outputs": [],
   "source": [
    "training_params = {\n",
    "    'epoches': Config.epoches,\n",
    "    'criterion': criterion,\n",
    "    'train_loader': train_dataloader,\n",
    "    'valid_loader': valid_dataloader,\n",
    "    'model': model,\n",
    "    'lr': Config.lr,\n",
    "    'size': Config.mat_size,\n",
    "    'batch_size': Config.batch_size,\n",
    "    'device': device,\n",
    "    'verbose': Config.verbose,\n",
    "    'file_path': Config.file_path\n",
    "}"
   ]
  },
  {
   "cell_type": "code",
   "execution_count": null,
   "id": "b51229ca-ff39-4f70-ac56-0aeed94e0d97",
   "metadata": {},
   "outputs": [
    {
     "data": {
      "application/vnd.jupyter.widget-view+json": {
       "model_id": "",
       "version_major": 2,
       "version_minor": 0
      },
      "text/plain": [
       "Train:   0%|          | 0/1000 [00:00<?, ?it/s]"
      ]
     },
     "metadata": {},
     "output_type": "display_data"
    },
    {
     "data": {
      "application/vnd.jupyter.widget-view+json": {
       "model_id": "",
       "version_major": 2,
       "version_minor": 0
      },
      "text/plain": [
       "Valid:   0%|          | 0/100 [00:00<?, ?it/s]"
      ]
     },
     "metadata": {},
     "output_type": "display_data"
    },
    {
     "name": "stdout",
     "output_type": "stream",
     "text": [
      "Epoch: 0, Train: 1.282620256960392, Valid: 0.9835188978910446\n"
     ]
    },
    {
     "data": {
      "application/vnd.jupyter.widget-view+json": {
       "model_id": "",
       "version_major": 2,
       "version_minor": 0
      },
      "text/plain": [
       "Train:   0%|          | 0/1000 [00:00<?, ?it/s]"
      ]
     },
     "metadata": {},
     "output_type": "display_data"
    },
    {
     "data": {
      "application/vnd.jupyter.widget-view+json": {
       "model_id": "",
       "version_major": 2,
       "version_minor": 0
      },
      "text/plain": [
       "Valid:   0%|          | 0/100 [00:00<?, ?it/s]"
      ]
     },
     "metadata": {},
     "output_type": "display_data"
    },
    {
     "name": "stdout",
     "output_type": "stream",
     "text": [
      "Epoch: 1, Train: 0.8735136749744415, Valid: 0.792750921845436\n"
     ]
    },
    {
     "data": {
      "application/vnd.jupyter.widget-view+json": {
       "model_id": "",
       "version_major": 2,
       "version_minor": 0
      },
      "text/plain": [
       "Train:   0%|          | 0/1000 [00:00<?, ?it/s]"
      ]
     },
     "metadata": {},
     "output_type": "display_data"
    },
    {
     "data": {
      "application/vnd.jupyter.widget-view+json": {
       "model_id": "",
       "version_major": 2,
       "version_minor": 0
      },
      "text/plain": [
       "Valid:   0%|          | 0/100 [00:00<?, ?it/s]"
      ]
     },
     "metadata": {},
     "output_type": "display_data"
    },
    {
     "name": "stdout",
     "output_type": "stream",
     "text": [
      "Epoch: 2, Train: 0.7564967480301857, Valid: 0.7338695871829987\n"
     ]
    },
    {
     "data": {
      "application/vnd.jupyter.widget-view+json": {
       "model_id": "",
       "version_major": 2,
       "version_minor": 0
      },
      "text/plain": [
       "Train:   0%|          | 0/1000 [00:00<?, ?it/s]"
      ]
     },
     "metadata": {},
     "output_type": "display_data"
    },
    {
     "data": {
      "application/vnd.jupyter.widget-view+json": {
       "model_id": "",
       "version_major": 2,
       "version_minor": 0
      },
      "text/plain": [
       "Valid:   0%|          | 0/100 [00:00<?, ?it/s]"
      ]
     },
     "metadata": {},
     "output_type": "display_data"
    },
    {
     "name": "stdout",
     "output_type": "stream",
     "text": [
      "Epoch: 3, Train: 0.7207493874430656, Valid: 0.7102351212501525\n"
     ]
    },
    {
     "data": {
      "application/vnd.jupyter.widget-view+json": {
       "model_id": "",
       "version_major": 2,
       "version_minor": 0
      },
      "text/plain": [
       "Train:   0%|          | 0/1000 [00:00<?, ?it/s]"
      ]
     },
     "metadata": {},
     "output_type": "display_data"
    },
    {
     "data": {
      "application/vnd.jupyter.widget-view+json": {
       "model_id": "",
       "version_major": 2,
       "version_minor": 0
      },
      "text/plain": [
       "Valid:   0%|          | 0/100 [00:00<?, ?it/s]"
      ]
     },
     "metadata": {},
     "output_type": "display_data"
    },
    {
     "name": "stdout",
     "output_type": "stream",
     "text": [
      "Epoch: 4, Train: 0.7033489413261413, Valid: 0.6973799705505371\n"
     ]
    },
    {
     "data": {
      "application/vnd.jupyter.widget-view+json": {
       "model_id": "ea2baa95abfb4dbeb90cae1723f93b5d",
       "version_major": 2,
       "version_minor": 0
      },
      "text/plain": [
       "Train:   0%|          | 0/1000 [00:00<?, ?it/s]"
      ]
     },
     "metadata": {},
     "output_type": "display_data"
    }
   ],
   "source": [
    "train_log, valid_log = model_utility.shared_training_loop(**training_params)"
   ]
  },
  {
   "cell_type": "markdown",
   "id": "337e7480-b727-4e9a-8c1d-c91f9ae1577e",
   "metadata": {},
   "source": [
    "# Evaluation"
   ]
  },
  {
   "cell_type": "code",
   "execution_count": null,
   "id": "fdc2f2fd-19d8-4914-90f9-3c888f73a3a5",
   "metadata": {},
   "outputs": [],
   "source": [
    "plot_training_params = {\n",
    "    'train_log': train_log,\n",
    "    'valid_log': valid_log,\n",
    "    'title': 'EX', \n",
    "    'file_path': 'ex.png'\n",
    "}"
   ]
  },
  {
   "cell_type": "code",
   "execution_count": null,
   "id": "776fde50-926b-4c1b-9285-8ff120f5e3be",
   "metadata": {},
   "outputs": [],
   "source": [
    "eval_utility.plot_training(**plot_training_params)"
   ]
  },
  {
   "cell_type": "code",
   "execution_count": null,
   "id": "e1d265a9-2bb1-4c7e-8206-7b16264bf0cd",
   "metadata": {},
   "outputs": [],
   "source": [
    "eval_instance_params = {\n",
    "    'A': next(iter(valid_dataloader))[0],\n",
    "    'model': model,\n",
    "    'ind': 0,\n",
    "    'size': Config.mat_size,\n",
    "    'batch_size': Config.batch_size,\n",
    "    'device': device,\n",
    "    'file_path': 'ex.png'\n",
    "}"
   ]
  },
  {
   "cell_type": "code",
   "execution_count": 19,
   "id": "f605beb2-2ef2-4d8b-8b0c-b8133c317c0f",
   "metadata": {},
   "outputs": [
    {
     "name": "stdout",
     "output_type": "stream",
     "text": [
      "Inner DET: 0.0017384827369824052\n",
      "Output min: -0.23765410482883453\n"
     ]
    },
    {
     "data": {
      "image/png": "[encoded data removed]",
      "text/plain": [
       "<Figure size 1500x500 with 6 Axes>"
      ]
     },
     "metadata": {},
     "output_type": "display_data"
    }
   ],
   "source": [
    "eval_utility.inspect_instance(**eval_instance_params)"
   ]
  },
  {
   "cell_type": "markdown",
   "id": "e16cb0c3-c98e-4483-b0b0-1d36c0e046df",
   "metadata": {},
   "source": [
    "# Model Save/Load"
   ]
  },
  {
   "cell_type": "code",
   "execution_count": 42,
   "id": "b7a01517-3cf1-47bd-84a0-9391f3594370",
   "metadata": {},
   "outputs": [],
   "source": [
    "file_path = '/data/users/jupyter-dam724/RL/precondition-discovery-contextual-bandit/RUNS/testing.pth'"
   ]
  },
  {
   "cell_type": "code",
   "execution_count": 43,
   "id": "0460255e-eb2a-4ce5-9fb4-9d314bb96b30",
   "metadata": {},
   "outputs": [],
   "source": [
    "model_utility.save_model(model, file_path)"
   ]
  },
  {
   "cell_type": "code",
   "execution_count": 44,
   "id": "d86f79df-69a6-4539-b4ba-4ae7867b8c1d",
   "metadata": {},
   "outputs": [
    {
     "name": "stderr",
     "output_type": "stream",
     "text": [
      "/data/users/jupyter-dam724/RL/precondition-discovery-contextual-bandit/Model/utility.py:9: FutureWarning: You are using `torch.load` with `weights_only=False` (the current default value), which uses the default pickle module implicitly. It is possible to construct malicious pickle data which will execute arbitrary code during unpickling (See https://github.com/pytorch/pytorch/blob/main/SECURITY.md#untrusted-models for more details). In a future release, the default value for `weights_only` will be flipped to `True`. This limits the functions that could be executed during unpickling. Arbitrary objects will no longer be allowed to be loaded via this mode unless they are explicitly allowlisted by the user via `torch.serialization.add_safe_globals`. We recommend you start setting `weights_only=True` for any use case where you don't have full control of the loaded file. Please open an issue on GitHub for any issues related to this experimental feature.\n",
      "  model.load_state_dict(torch.load(state_dict_path))\n"
     ]
    }
   ],
   "source": [
    "model_utility.load_model(model, file_path)"
   ]
  },
  {
   "cell_type": "markdown",
   "id": "fb7f5874-9378-4315-8f4d-15ef5fcb1898",
   "metadata": {},
   "source": [
    "# Training Logs Save/Load"
   ]
  },
  {
   "cell_type": "code",
   "execution_count": 45,
   "id": "75d983f4-3a15-4acb-a17d-0fffa9d7bf2a",
   "metadata": {},
   "outputs": [],
   "source": [
    "log_path = '/data/users/jupyter-dam724/RL/precondition-discovery-contextual-bandit/RUNS/logs.npz'"
   ]
  },
  {
   "cell_type": "code",
   "execution_count": 46,
   "id": "25f7a84b-463c-46a1-be05-3559fb8b226d",
   "metadata": {},
   "outputs": [
    {
     "name": "stdout",
     "output_type": "stream",
     "text": [
      "Logs saved to: /data/users/jupyter-dam724/RL/precondition-discovery-contextual-bandit/RUNS/logs.npz\n"
     ]
    }
   ],
   "source": [
    "eval_utility.save_logs(train_log, valid_log, log_path)"
   ]
  },
  {
   "cell_type": "code",
   "execution_count": 47,
   "id": "1c59e622-526d-4c6c-8d05-e7d54d5d51bc",
   "metadata": {},
   "outputs": [
    {
     "name": "stdout",
     "output_type": "stream",
     "text": [
      "Logs read from: /data/users/jupyter-dam724/RL/precondition-discovery-contextual-bandit/RUNS/logs.npz\n"
     ]
    }
   ],
   "source": [
    "train_log, valid_log = eval_utility.read_logs(log_path)"
   ]
  },
  {
   "cell_type": "markdown",
   "id": "4569719b-8f89-45eb-a8b8-b7f9a7212c3a",
   "metadata": {},
   "source": [
    "# Traditional Preconditioners"
   ]
  },
  {
   "cell_type": "code",
   "execution_count": 48,
   "id": "93147839-d08e-41d9-bde7-a56ccb3db49e",
   "metadata": {},
   "outputs": [],
   "source": [
    "import numpy as np"
   ]
  },
  {
   "cell_type": "code",
   "execution_count": 49,
   "id": "c8941a54-583b-42a6-88af-47c88c877d37",
   "metadata": {},
   "outputs": [],
   "source": [
    "data = next(iter(valid_dataloader))[0].numpy()\n",
    "ind = 0"
   ]
  },
  {
   "cell_type": "code",
   "execution_count": 50,
   "id": "8ecaca77-316a-4bce-a21a-7df5a364ba86",
   "metadata": {},
   "outputs": [],
   "source": [
    "trad_precond_params = {\n",
    "    'batch_matrix': data, \n",
    "    'ind': ind, \n",
    "    'fill_factor': 1, \n",
    "    'max_levels': 10, \n",
    "    'strength': 'classical'\n",
    "}"
   ]
  },
  {
   "cell_type": "markdown",
   "id": "6db0fc96-41e1-455d-b7bf-6dca64cbfd80",
   "metadata": {},
   "source": [
    "The preconditioners converge on the block diagonal but is there any other patterning. It also looks like these have a strong main diagonal but the learned representation from the model has a weak diagonal."
   ]
  },
  {
   "cell_type": "code",
   "execution_count": 51,
   "id": "8c2fbacf-fab3-448f-a8a9-963c21c53bc6",
   "metadata": {},
   "outputs": [
    {
     "name": "stderr",
     "output_type": "stream",
     "text": [
      "/data/users/jupyter-dam724/RL/precondition-discovery-contextual-bandit/Model/scipy.py:16: SparseEfficiencyWarning: spilu converted its input to CSC format\n",
      "  ilu = spla.spilu(A, fill_factor)\n",
      "/data/users/jupyter-dam724/.local/lib/python3.9/site-packages/pyamg/aggregation/aggregation.py:215: SparseEfficiencyWarning: Implicit conversion of A to CSR\n",
      "  warn('Implicit conversion of A to CSR', SparseEfficiencyWarning)\n"
     ]
    },
    {
     "data": {
      "image/png": "[encoded data removed]",
      "text/plain": [
       "<Figure size 1500x500 with 6 Axes>"
      ]
     },
     "metadata": {},
     "output_type": "display_data"
    }
   ],
   "source": [
    "jac, ilu, amg = scipy.get_traditional_preconditioners(**trad_precond_params)"
   ]
  },
  {
   "cell_type": "code",
   "execution_count": 52,
   "id": "cb598a88-ac6e-420d-b9bb-942a143a2829",
   "metadata": {},
   "outputs": [
    {
     "name": "stdout",
     "output_type": "stream",
     "text": [
      "Condition: 4052.4207300105154\n",
      "Condition: 4101.16431817365\n",
      "Condition: 2715.4129997751756\n",
      "Condition: 25.000000019119952\n"
     ]
    }
   ],
   "source": [
    "scipy.check_conditioning(data, np.eye(25), 0)\n",
    "scipy.check_conditioning(data, jac, 0)\n",
    "scipy.check_conditioning(data, ilu, 0)\n",
    "scipy.check_conditioning(data, amg, 0)"
   ]
  },
  {
   "cell_type": "code",
   "execution_count": null,
   "id": "8743572f-6259-4429-b1a5-0bc8630485b3",
   "metadata": {},
   "outputs": [],
   "source": []
  }
 ],
 "metadata": {
  "kernelspec": {
   "display_name": "Python 3 (ipykernel)",
   "language": "python",
   "name": "python3"
  },
  "language_info": {
   "codemirror_mode": {
    "name": "ipython",
    "version": 3
   },
   "file_extension": ".py",
   "mimetype": "text/x-python",
   "name": "python",
   "nbconvert_exporter": "python",
   "pygments_lexer": "ipython3",
   "version": "3.9.7"
  }
 },
 "nbformat": 4,
 "nbformat_minor": 5
}
