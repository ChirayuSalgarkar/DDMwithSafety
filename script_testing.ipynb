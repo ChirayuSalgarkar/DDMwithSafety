{
 "cells": [
  {
   "cell_type": "markdown",
   "id": "5214785b-d442-4bc0-803f-6e1cc966d7f4",
   "metadata": {},
   "source": [
    "# Summary\n",
    "\n",
    "This notebook provides a breath of all the features offered in the project. "
   ]
  },
  {
   "cell_type": "markdown",
   "id": "9deb6846-340a-4de1-88d3-ca46472fbe0c",
   "metadata": {},
   "source": [
    "# Imports/Setup"
   ]
  },
  {
   "cell_type": "code",
   "execution_count": 1,
   "id": "ee3f0489-31df-4d50-9265-1b60552edc09",
   "metadata": {},
   "outputs": [
    {
     "name": "stderr",
     "output_type": "stream",
     "text": [
      "/data/users/jupyter-dam724/.local/lib/python3.9/site-packages/torch_geometric/typing.py:68: UserWarning: An issue occurred while importing 'pyg-lib'. Disabling its usage. Stacktrace: /data/users/jupyter-dam724/.local/lib/python3.9/site-packages/libpyg.so: undefined symbol: _ZN3c1010Dispatcher17runRecordFunctionERN2at14RecordFunctionESt17reference_wrapperIKNS_14FunctionSchemaEENS_11DispatchKeyE\n",
      "  warnings.warn(f\"An issue occurred while importing 'pyg-lib'. \"\n",
      "/data/users/jupyter-dam724/.local/lib/python3.9/site-packages/torch_geometric/typing.py:97: UserWarning: An issue occurred while importing 'torch-cluster'. Disabling its usage. Stacktrace: /data/users/jupyter-dam724/.local/lib/python3.9/site-packages/torch_cluster/_version_cuda.so: undefined symbol: _ZN5torch3jit17parseSchemaOrNameERKSs\n",
      "  warnings.warn(f\"An issue occurred while importing 'torch-cluster'. \"\n",
      "/data/users/jupyter-dam724/.local/lib/python3.9/site-packages/torch_geometric/typing.py:113: UserWarning: An issue occurred while importing 'torch-spline-conv'. Disabling its usage. Stacktrace: /data/users/jupyter-dam724/.local/lib/python3.9/site-packages/torch_spline_conv/_version_cuda.so: undefined symbol: _ZN5torch3jit17parseSchemaOrNameERKSs\n",
      "  warnings.warn(\n",
      "/data/users/jupyter-dam724/.local/lib/python3.9/site-packages/torch_geometric/typing.py:124: UserWarning: An issue occurred while importing 'torch-sparse'. Disabling its usage. Stacktrace: /data/users/jupyter-dam724/.local/lib/python3.9/site-packages/torch_sparse/_version_cuda.so: undefined symbol: _ZN5torch3jit17parseSchemaOrNameERKSs\n",
      "  warnings.warn(f\"An issue occurred while importing 'torch-sparse'. \"\n"
     ]
    }
   ],
   "source": [
    "from Data import dataset, generator\n",
    "from Data import utility as data_utility\n",
    "from Evaluation import utility as eval_utility\n",
    "from Model import linear, scipy\n",
    "from Model import utility as model_utility\n",
    "from Objectives import losses"
   ]
  },
  {
   "cell_type": "markdown",
   "id": "41cba0b2-b893-494f-812b-5785e47e5ec4",
   "metadata": {},
   "source": [
    "# Dataset/Dataloader"
   ]
  },
  {
   "cell_type": "code",
   "execution_count": 2,
   "id": "db08bce0-ab06-4446-b236-f56b839f609a",
   "metadata": {},
   "outputs": [],
   "source": [
    "train_dataset_params = {\n",
    "    'generator': generator.generate_2d_diffusion_spd,\n",
    "    'norm_feat': data_utility.normalize_features,\n",
    "    'epoch_len': 1000,\n",
    "    'batch_size': 64,\n",
    "    'size': 5\n",
    "}\n",
    "\n",
    "valid_dataset_params = {\n",
    "    'generator': generator.generate_2d_diffusion_spd,\n",
    "    'norm_feat': data_utility.normalize_features,\n",
    "    'epoch_len': 100,\n",
    "    'batch_size': 64,\n",
    "    'size': 5\n",
    "}"
   ]
  },
  {
   "cell_type": "code",
   "execution_count": 3,
   "id": "cd6ce842-809f-4bfb-a5b0-26d4e4287597",
   "metadata": {},
   "outputs": [],
   "source": [
    "train_dataset = dataset.SystemDataset(**train_dataset_params)\n",
    "valid_dataset = dataset.SystemDataset(**valid_dataset_params)"
   ]
  },
  {
   "cell_type": "code",
   "execution_count": 4,
   "id": "457018a4-bf6a-4e44-85e8-f2bba294dc13",
   "metadata": {},
   "outputs": [],
   "source": [
    "train_dataloader_params = {\n",
    "    'dataset': train_dataset,\n",
    "    'batch_size': 64,\n",
    "    'shuffle': True\n",
    "}\n",
    "\n",
    "valid_dataloader_params = {\n",
    "    'dataset': valid_dataset,\n",
    "    'batch_size': 64,\n",
    "    'shuffle': True\n",
    "}"
   ]
  },
  {
   "cell_type": "code",
   "execution_count": 5,
   "id": "cb2d39c1-bf44-4537-9217-2db1d7f40f74",
   "metadata": {},
   "outputs": [],
   "source": [
    "train_dataloader = dataset.get_dataloader(**train_dataloader_params)\n",
    "valid_dataloader = dataset.get_dataloader(**valid_dataloader_params)"
   ]
  },
  {
   "cell_type": "code",
   "execution_count": 6,
   "id": "a699093b-8bfe-4fb0-b29a-6c65e0ccc4a8",
   "metadata": {},
   "outputs": [],
   "source": [
    "A, b = next(iter(train_dataloader))"
   ]
  },
  {
   "cell_type": "code",
   "execution_count": 7,
   "id": "790592ca-3c9a-4361-8842-b6b2a2ffe511",
   "metadata": {},
   "outputs": [
    {
     "name": "stdout",
     "output_type": "stream",
     "text": [
      "Determinent: 9094575.0\n",
      "Matrix is non-singular.\n",
      "Condition: 6560.13623046875\n"
     ]
    },
    {
     "data": {
      "image/png": "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\n",
      "text/plain": [
       "<Figure size 480x480 with 1 Axes>"
      ]
     },
     "metadata": {},
     "output_type": "display_data"
    }
   ],
   "source": [
    "ind = 2\n",
    "data_utility.check_singularity(A, ind)\n",
    "data_utility.check_conditioning(A, ind)\n",
    "data_utility.view_matrix(A, ind)"
   ]
  },
  {
   "cell_type": "markdown",
   "id": "0ee2a0c8-0db8-4248-9b70-df8048e81474",
   "metadata": {},
   "source": [
    "# Device"
   ]
  },
  {
   "cell_type": "code",
   "execution_count": 8,
   "id": "d2250f60-4c70-47be-b76c-65f08d8037d6",
   "metadata": {},
   "outputs": [],
   "source": [
    "device_params = {\n",
    "    'device_pref': 'cuda',\n",
    "    'ind_dev': 0\n",
    "}"
   ]
  },
  {
   "cell_type": "code",
   "execution_count": 9,
   "id": "ca275a22-798e-4fbb-82d3-9a7d0bd50ee1",
   "metadata": {},
   "outputs": [
    {
     "name": "stdout",
     "output_type": "stream",
     "text": [
      "Now using GPU.\n"
     ]
    }
   ],
   "source": [
    "device = data_utility.set_device(**device_params)"
   ]
  },
  {
   "cell_type": "markdown",
   "id": "408b9b0c-b05f-421a-bf9c-27f745e4e168",
   "metadata": {},
   "source": [
    "# Model"
   ]
  },
  {
   "cell_type": "code",
   "execution_count": 10,
   "id": "7ce0e74f-6582-4c03-a9c2-97a4ab8a8c72",
   "metadata": {},
   "outputs": [],
   "source": [
    "model_params = {\n",
    "    'n':25,\n",
    "    'hidden':256,\n",
    "    'batch_size':64,\n",
    "    'sparse_tol':1e-2\n",
    "}"
   ]
  },
  {
   "cell_type": "code",
   "execution_count": 11,
   "id": "0f351466-cb77-4fcd-96b2-4a72e24e2736",
   "metadata": {},
   "outputs": [],
   "source": [
    "model = linear.FCN(**model_params).to(device)"
   ]
  },
  {
   "cell_type": "markdown",
   "id": "914686d4-b868-45b5-9f73-cf6ad0f5d345",
   "metadata": {},
   "source": [
    "# Loss Function"
   ]
  },
  {
   "cell_type": "code",
   "execution_count": 12,
   "id": "9ced5c6f-153b-4ffa-8f79-a8823d48e66b",
   "metadata": {},
   "outputs": [],
   "source": [
    "loss_params = {\n",
    "    'l1': 1e-5,\n",
    "    'inv': 1e-5,\n",
    "    'dev': 1.0,\n",
    "    'cond': 1e-2,\n",
    "    'batch_size': 64,\n",
    "    'size': 25,\n",
    "}"
   ]
  },
  {
   "cell_type": "code",
   "execution_count": 13,
   "id": "5dc02c95-59de-49a3-87a8-6c42ea76f369",
   "metadata": {},
   "outputs": [],
   "source": [
    "criterion = losses.CondEyeDistance(**loss_params)"
   ]
  },
  {
   "cell_type": "markdown",
   "id": "a6855da2-102c-496f-ab13-60de93cc08a6",
   "metadata": {},
   "source": [
    "# Training"
   ]
  },
  {
   "cell_type": "code",
   "execution_count": 14,
   "id": "6a35ed7a-e9f3-4e20-b16d-0afec887b457",
   "metadata": {},
   "outputs": [],
   "source": [
    "training_params = {\n",
    "    'epoches': 1,\n",
    "    'criterion': criterion,\n",
    "    'train_loader': train_dataloader,\n",
    "    'valid_loader': valid_dataloader,\n",
    "    'model': model,\n",
    "    'lr': 1e-5,\n",
    "    'size': 25,\n",
    "    'batch_size': 64,\n",
    "    'device': device,\n",
    "    'verbose': True,\n",
    "    'file_path': '/data/users/jupyter-dam724/RL/precondition-discovery-contextual-bandit/RUNS/testing.pth'\n",
    "}"
   ]
  },
  {
   "cell_type": "code",
   "execution_count": 15,
   "id": "b51229ca-ff39-4f70-ac56-0aeed94e0d97",
   "metadata": {},
   "outputs": [
    {
     "data": {
      "application/vnd.jupyter.widget-view+json": {
       "model_id": "",
       "version_major": 2,
       "version_minor": 0
      },
      "text/plain": [
       "Train:   0%|          | 0/1000 [00:00<?, ?it/s]"
      ]
     },
     "metadata": {},
     "output_type": "display_data"
    },
    {
     "data": {
      "application/vnd.jupyter.widget-view+json": {
       "model_id": "",
       "version_major": 2,
       "version_minor": 0
      },
      "text/plain": [
       "Valid:   0%|          | 0/100 [00:00<?, ?it/s]"
      ]
     },
     "metadata": {},
     "output_type": "display_data"
    },
    {
     "name": "stdout",
     "output_type": "stream",
     "text": [
      "Epoch: 0, Train: 0.526431025236845, Valid: 0.36470229357481004\n"
     ]
<<<<<<< HEAD
    },
    {
     "data": {
      "application/vnd.jupyter.widget-view+json": {
       "model_id": "",
       "version_major": 2,
       "version_minor": 0
      },
      "text/plain": [
       "Train:   0%|          | 0/1000 [00:00<?, ?it/s]"
      ]
     },
     "metadata": {},
     "output_type": "display_data"
    },
    {
     "data": {
      "application/vnd.jupyter.widget-view+json": {
       "model_id": "",
       "version_major": 2,
       "version_minor": 0
      },
      "text/plain": [
       "Valid:   0%|          | 0/100 [00:00<?, ?it/s]"
      ]
     },
     "metadata": {},
     "output_type": "display_data"
    },
    {
     "name": "stdout",
     "output_type": "stream",
     "text": [
      "Epoch: 1, Train: 0.8735136749744415, Valid: 0.792750921845436\n"
     ]
    },
    {
     "data": {
      "application/vnd.jupyter.widget-view+json": {
       "model_id": "",
       "version_major": 2,
       "version_minor": 0
      },
      "text/plain": [
       "Train:   0%|          | 0/1000 [00:00<?, ?it/s]"
      ]
     },
     "metadata": {},
     "output_type": "display_data"
    },
    {
     "data": {
      "application/vnd.jupyter.widget-view+json": {
       "model_id": "",
       "version_major": 2,
       "version_minor": 0
      },
      "text/plain": [
       "Valid:   0%|          | 0/100 [00:00<?, ?it/s]"
      ]
     },
     "metadata": {},
     "output_type": "display_data"
    },
    {
     "name": "stdout",
     "output_type": "stream",
     "text": [
      "Epoch: 2, Train: 0.7564967480301857, Valid: 0.7338695871829987\n"
     ]
    },
    {
     "data": {
      "application/vnd.jupyter.widget-view+json": {
       "model_id": "",
       "version_major": 2,
       "version_minor": 0
      },
      "text/plain": [
       "Train:   0%|          | 0/1000 [00:00<?, ?it/s]"
      ]
     },
     "metadata": {},
     "output_type": "display_data"
    },
    {
     "data": {
      "application/vnd.jupyter.widget-view+json": {
       "model_id": "",
       "version_major": 2,
       "version_minor": 0
      },
      "text/plain": [
       "Valid:   0%|          | 0/100 [00:00<?, ?it/s]"
      ]
     },
     "metadata": {},
     "output_type": "display_data"
    },
    {
     "name": "stdout",
     "output_type": "stream",
     "text": [
      "Epoch: 3, Train: 0.7207493874430656, Valid: 0.7102351212501525\n"
     ]
    },
    {
     "data": {
      "application/vnd.jupyter.widget-view+json": {
       "model_id": "",
       "version_major": 2,
       "version_minor": 0
      },
      "text/plain": [
       "Train:   0%|          | 0/1000 [00:00<?, ?it/s]"
      ]
     },
     "metadata": {},
     "output_type": "display_data"
    },
    {
     "data": {
      "application/vnd.jupyter.widget-view+json": {
       "model_id": "",
       "version_major": 2,
       "version_minor": 0
      },
      "text/plain": [
       "Valid:   0%|          | 0/100 [00:00<?, ?it/s]"
      ]
     },
     "metadata": {},
     "output_type": "display_data"
    },
    {
     "name": "stdout",
     "output_type": "stream",
     "text": [
      "Epoch: 4, Train: 0.7033489413261413, Valid: 0.6973799705505371\n"
     ]
    },
    {
     "data": {
      "application/vnd.jupyter.widget-view+json": {
       "model_id": "ea2baa95abfb4dbeb90cae1723f93b5d",
       "version_major": 2,
       "version_minor": 0
      },
      "text/plain": [
       "Train:   0%|          | 0/1000 [00:00<?, ?it/s]"
      ]
     },
     "metadata": {},
     "output_type": "display_data"
=======
>>>>>>> parent of 0a85877... updated git ignore and added config for running tests.
    }
   ],
   "source": [
    "train_log, valid_log = model_utility.shared_training_loop(**training_params)"
   ]
  },
  {
   "cell_type": "markdown",
   "id": "337e7480-b727-4e9a-8c1d-c91f9ae1577e",
   "metadata": {},
   "source": [
    "# Evaluation"
   ]
  },
  {
   "cell_type": "code",
   "execution_count": 16,
   "id": "fdc2f2fd-19d8-4914-90f9-3c888f73a3a5",
   "metadata": {},
   "outputs": [],
   "source": [
    "plot_training_params = {\n",
    "    'train_log': train_log,\n",
    "    'valid_log': valid_log,\n",
    "    'title': 'EX', \n",
    "    'file_path': 'ex.png'\n",
    "}"
   ]
  },
  {
   "cell_type": "code",
   "execution_count": 17,
   "id": "776fde50-926b-4c1b-9285-8ff120f5e3be",
   "metadata": {},
   "outputs": [
    {
     "data": {
      "image/png": "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\n",
      "text/plain": [
       "<Figure size 640x480 with 1 Axes>"
      ]
     },
     "metadata": {},
     "output_type": "display_data"
    }
   ],
   "source": [
    "eval_utility.plot_training(**plot_training_params)"
   ]
  },
  {
   "cell_type": "code",
   "execution_count": 18,
   "id": "e1d265a9-2bb1-4c7e-8206-7b16264bf0cd",
   "metadata": {},
   "outputs": [],
   "source": [
    "eval_instance_params = {\n",
    "    'A': next(iter(valid_dataloader))[0],\n",
    "    'model': model,\n",
    "    'ind': 0,\n",
    "    'size': 25,\n",
    "    'batch_size': 64,\n",
    "    'device': device,\n",
    "    'file_path': 'ex.png'\n",
    "}"
   ]
  },
  {
   "cell_type": "code",
   "execution_count": 19,
   "id": "f605beb2-2ef2-4d8b-8b0c-b8133c317c0f",
   "metadata": {},
   "outputs": [
    {
     "name": "stdout",
     "output_type": "stream",
     "text": [
      "Inner DET: -1.150064719013244e-07\n",
      "Output min: -0.13972598314285278\n"
     ]
    },
    {
     "data": {
      "image/png": "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\n",
      "text/plain": [
       "<Figure size 1500x500 with 6 Axes>"
      ]
     },
     "metadata": {},
     "output_type": "display_data"
    }
   ],
   "source": [
    "eval_utility.inspect_instance(**eval_instance_params)"
   ]
  },
  {
   "cell_type": "markdown",
   "id": "e16cb0c3-c98e-4483-b0b0-1d36c0e046df",
   "metadata": {},
   "source": [
    "# Model Save/Load"
   ]
  },
  {
   "cell_type": "code",
   "execution_count": 20,
   "id": "b7a01517-3cf1-47bd-84a0-9391f3594370",
   "metadata": {},
   "outputs": [],
   "source": [
    "file_path = '/data/users/jupyter-dam724/RL/precondition-discovery-contextual-bandit/RUNS/testing.pth'"
   ]
  },
  {
   "cell_type": "code",
   "execution_count": 21,
   "id": "0460255e-eb2a-4ce5-9fb4-9d314bb96b30",
   "metadata": {},
   "outputs": [],
   "source": [
    "model_utility.save_model(model, file_path)"
   ]
  },
  {
   "cell_type": "code",
   "execution_count": 22,
   "id": "d86f79df-69a6-4539-b4ba-4ae7867b8c1d",
   "metadata": {},
   "outputs": [
    {
     "name": "stderr",
     "output_type": "stream",
     "text": [
      "/data/users/jupyter-dam724/RL/precondition-discovery-contextual-bandit/Model/utility.py:9: FutureWarning: You are using `torch.load` with `weights_only=False` (the current default value), which uses the default pickle module implicitly. It is possible to construct malicious pickle data which will execute arbitrary code during unpickling (See https://github.com/pytorch/pytorch/blob/main/SECURITY.md#untrusted-models for more details). In a future release, the default value for `weights_only` will be flipped to `True`. This limits the functions that could be executed during unpickling. Arbitrary objects will no longer be allowed to be loaded via this mode unless they are explicitly allowlisted by the user via `torch.serialization.add_safe_globals`. We recommend you start setting `weights_only=True` for any use case where you don't have full control of the loaded file. Please open an issue on GitHub for any issues related to this experimental feature.\n",
      "  model.load_state_dict(torch.load(state_dict_path))\n"
     ]
    }
   ],
   "source": [
    "model_utility.load_model(model, file_path)"
   ]
  },
  {
   "cell_type": "markdown",
   "id": "fb7f5874-9378-4315-8f4d-15ef5fcb1898",
   "metadata": {},
   "source": [
    "# Training Logs Save/Load"
   ]
  },
  {
   "cell_type": "code",
   "execution_count": 23,
   "id": "75d983f4-3a15-4acb-a17d-0fffa9d7bf2a",
   "metadata": {},
   "outputs": [],
   "source": [
    "log_path = '/data/users/jupyter-dam724/RL/precondition-discovery-contextual-bandit/RUNS/logs.npz'"
   ]
  },
  {
   "cell_type": "code",
   "execution_count": 24,
   "id": "25f7a84b-463c-46a1-be05-3559fb8b226d",
   "metadata": {},
   "outputs": [
    {
     "name": "stdout",
     "output_type": "stream",
     "text": [
      "Logs saved to: /data/users/jupyter-dam724/RL/precondition-discovery-contextual-bandit/RUNS/logs.npz\n"
     ]
    }
   ],
   "source": [
    "eval_utility.save_logs(train_log, valid_log, log_path)"
   ]
  },
  {
   "cell_type": "code",
   "execution_count": 25,
   "id": "1c59e622-526d-4c6c-8d05-e7d54d5d51bc",
   "metadata": {},
   "outputs": [
    {
     "name": "stdout",
     "output_type": "stream",
     "text": [
      "Logs read from: /data/users/jupyter-dam724/RL/precondition-discovery-contextual-bandit/RUNS/logs.npz\n"
     ]
    }
   ],
   "source": [
    "train_log, valid_log = eval_utility.read_logs(log_path)"
   ]
  },
  {
   "cell_type": "markdown",
   "id": "4569719b-8f89-45eb-a8b8-b7f9a7212c3a",
   "metadata": {},
   "source": [
    "# Traditional Preconditioners"
   ]
  },
  {
   "cell_type": "code",
   "execution_count": 8,
   "id": "93147839-d08e-41d9-bde7-a56ccb3db49e",
   "metadata": {},
   "outputs": [],
   "source": [
    "import numpy as np"
   ]
  },
  {
   "cell_type": "code",
   "execution_count": 9,
   "id": "c8941a54-583b-42a6-88af-47c88c877d37",
   "metadata": {},
   "outputs": [],
   "source": [
    "data = next(iter(valid_dataloader))[0].numpy()\n",
    "ind = 0"
   ]
  },
  {
   "cell_type": "code",
   "execution_count": 39,
   "id": "8ecaca77-316a-4bce-a21a-7df5a364ba86",
   "metadata": {},
   "outputs": [],
   "source": [
    "trad_precond_params = {\n",
    "    'batch_matrix': data, \n",
    "    'ind': ind, \n",
    "    'fill_factor': 1, \n",
    "    'max_levels': 10, \n",
    "    'strength': 'classical'\n",
    "}"
   ]
  },
  {
   "cell_type": "markdown",
   "id": "6db0fc96-41e1-455d-b7bf-6dca64cbfd80",
   "metadata": {},
   "source": [
    "The preconditioners converge on the block diagonal but is there any other patterning. It also looks like these have a strong main diagonal but the learned representation from the model has a weak diagonal."
   ]
  },
  {
   "cell_type": "code",
   "execution_count": 40,
   "id": "8c2fbacf-fab3-448f-a8a9-963c21c53bc6",
   "metadata": {},
   "outputs": [
    {
     "data": {
      "image/png": "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\n",
      "text/plain": [
       "<Figure size 1500x500 with 6 Axes>"
      ]
     },
     "metadata": {},
     "output_type": "display_data"
    }
   ],
   "source": [
    "jac, ilu, amg = scipy.get_traditional_preconditioners(**trad_precond_params)"
   ]
  },
  {
   "cell_type": "code",
   "execution_count": 28,
   "id": "cb598a88-ac6e-420d-b9bb-942a143a2829",
   "metadata": {},
   "outputs": [
    {
     "name": "stdout",
     "output_type": "stream",
     "text": [
      "Condition: 5552.891489377142\n",
      "Condition: 5659.829219169382\n",
      "Condition: 3626.609177008255\n",
      "Condition: 25.0\n"
     ]
    }
   ],
   "source": [
    "scipy.check_conditioning(data, np.eye(25), 0)\n",
    "scipy.check_conditioning(data, jac, 0)\n",
    "scipy.check_conditioning(data, ilu, 0)\n",
    "scipy.check_conditioning(data, amg, 0)"
   ]
  }
 ],
 "metadata": {
  "kernelspec": {
   "display_name": "Python 3 (ipykernel)",
   "language": "python",
   "name": "python3"
  },
  "language_info": {
   "codemirror_mode": {
    "name": "ipython",
    "version": 3
   },
   "file_extension": ".py",
   "mimetype": "text/x-python",
   "name": "python",
   "nbconvert_exporter": "python",
   "pygments_lexer": "ipython3",
   "version": "3.9.7"
  }
 },
 "nbformat": 4,
 "nbformat_minor": 5
}
