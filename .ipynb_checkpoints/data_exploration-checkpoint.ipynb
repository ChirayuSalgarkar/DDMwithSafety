{
 "cells": [
  {
   "cell_type": "markdown",
   "id": "d3b6cc12-10cc-41ac-9669-cd7189b6ee12",
   "metadata": {},
   "source": [
    "# Summary\n",
    "\n",
    "Milestone 1 of reinforcement learning project.\n",
    "\n",
    "## TODO\n",
    "1. Solving statistics. (Get something reasonable)\n",
    "2. Check as matrices get larger\n",
    "3. Get avgs \n",
    "    1. Hilbert + perturb (GMRES)\n",
    "        1. [20, 100, 500, 1000] \n",
    "        2. [Jacobi, ILU, AMG]\n",
    "    1. Helmholtz + perturb \n",
    "        1. [20, 100, 500, 1000] \n",
    "        2. [Jacobi, ILU, AMG]\n",
    "\n",
    "## Paper TODO\n",
    "1. Define the Helmholtz equations. How they are discretized.\n",
    "2. Define the perturbations.\n",
    "3. Define DDPG.\n",
    "4. State why RL, and why this algorithm.\n",
    "5. State reward function.\n",
    "6. Stat we are using a GNN, and why (ask why this is import ant for these types of systems).\n",
    "7. Show the current solving statistics for Helmholtz.\n",
    "8. Discuss expected results, outcomes.\n",
    "\n",
    "\n",
    "Two options: GMRES (SS = A) || FMGRES adaptive (SS = r_0)"
   ]
  },
  {
   "cell_type": "markdown",
   "id": "80813498-3692-4c3d-8ec3-7fdc764ed3e0",
   "metadata": {},
   "source": [
    "# Imports/Setup"
   ]
  },
  {
   "cell_type": "code",
   "execution_count": 1,
   "id": "6cd607cf-5606-414d-9138-6d87daa48d9a",
   "metadata": {},
   "outputs": [],
   "source": [
    "from scipy.linalg import hilbert\n",
    "import scipy.linalg as la\n",
    "import scipy.sparse.linalg as spla\n",
    "import numpy as np\n",
    "import scipy \n",
    "import scipy.sparse as sp\n",
    "import matplotlib.pyplot as plt\n",
    "import pyamg"
   ]
  },
  {
   "cell_type": "markdown",
   "id": "c126a955-e3a8-42c5-9271-fa37180a0e5f",
   "metadata": {},
   "source": [
    "# Hilbert Matrices\n",
    "\n",
    "Get the hilbert matrices and inspect them.\n",
    "\n",
    "These matrices are SPD and become significantly ill conditioned as their size increases."
   ]
  },
  {
   "cell_type": "code",
   "execution_count": 2,
   "id": "6566ae4e-9f9a-4ae4-a3d9-f7966b1068f2",
   "metadata": {},
   "outputs": [
    {
     "data": {
      "text/plain": [
       "array([[1.        , 0.5       , 0.33333333],\n",
       "       [0.5       , 0.33333333, 0.25      ],\n",
       "       [0.33333333, 0.25      , 0.2       ]])"
      ]
     },
     "execution_count": 2,
     "metadata": {},
     "output_type": "execute_result"
    }
   ],
   "source": [
    "hilbert(3)"
   ]
  },
  {
   "cell_type": "code",
   "execution_count": 3,
   "id": "bd19f89a-22a4-4237-adee-156524736dcd",
   "metadata": {},
   "outputs": [
    {
     "data": {
      "text/plain": [
       "array([[1.        , 0.5       , 0.33333333, 0.25      , 0.2       ,\n",
       "        0.16666667, 0.14285714, 0.125     , 0.11111111, 0.1       ],\n",
       "       [0.5       , 0.33333333, 0.25      , 0.2       , 0.16666667,\n",
       "        0.14285714, 0.125     , 0.11111111, 0.1       , 0.09090909],\n",
       "       [0.33333333, 0.25      , 0.2       , 0.16666667, 0.14285714,\n",
       "        0.125     , 0.11111111, 0.1       , 0.09090909, 0.08333333],\n",
       "       [0.25      , 0.2       , 0.16666667, 0.14285714, 0.125     ,\n",
       "        0.11111111, 0.1       , 0.09090909, 0.08333333, 0.07692308],\n",
       "       [0.2       , 0.16666667, 0.14285714, 0.125     , 0.11111111,\n",
       "        0.1       , 0.09090909, 0.08333333, 0.07692308, 0.07142857],\n",
       "       [0.16666667, 0.14285714, 0.125     , 0.11111111, 0.1       ,\n",
       "        0.09090909, 0.08333333, 0.07692308, 0.07142857, 0.06666667],\n",
       "       [0.14285714, 0.125     , 0.11111111, 0.1       , 0.09090909,\n",
       "        0.08333333, 0.07692308, 0.07142857, 0.06666667, 0.0625    ],\n",
       "       [0.125     , 0.11111111, 0.1       , 0.09090909, 0.08333333,\n",
       "        0.07692308, 0.07142857, 0.06666667, 0.0625    , 0.05882353],\n",
       "       [0.11111111, 0.1       , 0.09090909, 0.08333333, 0.07692308,\n",
       "        0.07142857, 0.06666667, 0.0625    , 0.05882353, 0.05555556],\n",
       "       [0.1       , 0.09090909, 0.08333333, 0.07692308, 0.07142857,\n",
       "        0.06666667, 0.0625    , 0.05882353, 0.05555556, 0.05263158]])"
      ]
     },
     "execution_count": 3,
     "metadata": {},
     "output_type": "execute_result"
    }
   ],
   "source": [
    "hilbert(10)"
   ]
  },
  {
   "cell_type": "code",
   "execution_count": 4,
   "id": "7579147f-b03a-41ec-a07b-a207c0ccc5cc",
   "metadata": {},
   "outputs": [
    {
     "data": {
      "image/png": "[encoded data removed]",
      "text/plain": [
       "<Figure size 480x480 with 1 Axes>"
      ]
     },
     "metadata": {},
     "output_type": "display_data"
    }
   ],
   "source": [
    "_ = plt.matshow(hilbert(21))"
   ]
  },
  {
   "cell_type": "code",
   "execution_count": 5,
   "id": "2e02c0e5-bf23-4b70-8825-a63ab0f5c4e8",
   "metadata": {},
   "outputs": [],
   "source": [
    "def summary(size):\n",
    "    H = hilbert(size)\n",
    "    print(f'SIZE: {size}, MIN {H.min():.5f}, MEAN {H.mean():.5f}, MAX {H.max():.5f}')"
   ]
  },
  {
   "cell_type": "code",
   "execution_count": 6,
   "id": "2fed5f78-48cc-45d3-a2a1-9b2eed265005",
   "metadata": {},
   "outputs": [
    {
     "name": "stdout",
     "output_type": "stream",
     "text": [
      "SIZE: 10, MIN 0.05263, MEAN 0.13375, MAX 1.00000\n"
     ]
    }
   ],
   "source": [
    "summary(10)"
   ]
  },
  {
   "cell_type": "code",
   "execution_count": 7,
   "id": "ddc3df2b-b9e4-4eb6-a373-d5ff2d727998",
   "metadata": {},
   "outputs": [
    {
     "name": "stdout",
     "output_type": "stream",
     "text": [
      "SIZE: 100, MIN 0.00503, MEAN 0.01381, MAX 1.00000\n"
     ]
    }
   ],
   "source": [
    "summary(100)"
   ]
  },
  {
   "cell_type": "code",
   "execution_count": 8,
   "id": "149a32cc-ab16-4d0c-8611-341251a8ba69",
   "metadata": {},
   "outputs": [
    {
     "name": "stdout",
     "output_type": "stream",
     "text": [
      "SIZE: 1000, MIN 0.00050, MEAN 0.00139, MAX 1.00000\n"
     ]
    }
   ],
   "source": [
    "summary(1000)"
   ]
  },
  {
   "cell_type": "markdown",
   "id": "835e0fc3-58b0-4ebd-a3ad-7f736ff81dba",
   "metadata": {},
   "source": [
    "## Random Pertubations\n",
    "\n",
    "Get different distributions of pertubations."
   ]
  },
  {
   "cell_type": "markdown",
   "id": "4c8cec3a-9ff5-465e-bfac-d97ae9225bd8",
   "metadata": {},
   "source": [
    "### Normal\n",
    "\n",
    "Normally distrubted pertubation."
   ]
  },
  {
   "cell_type": "code",
   "execution_count": 9,
   "id": "01f8c4a1-7c25-41f6-ba1f-1036a69c8eaa",
   "metadata": {},
   "outputs": [],
   "source": [
    "def normal_perturbation(matrix, scale=1e-3):\n",
    "    perturbation = scale * np.random.randn(*matrix.shape) \n",
    "    return matrix + perturbation"
   ]
  },
  {
   "cell_type": "code",
   "execution_count": 10,
   "id": "02771348-af5b-4971-831c-e7e83b6b9727",
   "metadata": {},
   "outputs": [
    {
     "data": {
      "text/plain": [
       "array([[0.99999989, 0.49999982, 0.33333336, 0.24999986],\n",
       "       [0.49999998, 0.33333336, 0.24999989, 0.19999995],\n",
       "       [0.33333324, 0.24999979, 0.2000001 , 0.16666669],\n",
       "       [0.25000006, 0.20000013, 0.16666675, 0.14285713]])"
      ]
     },
     "execution_count": 10,
     "metadata": {},
     "output_type": "execute_result"
    }
   ],
   "source": [
    "normal_perturbation(hilbert(4), scale=1e-7)"
   ]
  },
  {
   "cell_type": "code",
   "execution_count": 11,
   "id": "21ef8b5e-fda9-4afb-ba11-66ea32562fb9",
   "metadata": {},
   "outputs": [
    {
     "data": {
      "image/png": "[encoded data removed]",
      "text/plain": [
       "<Figure size 480x480 with 1 Axes>"
      ]
     },
     "metadata": {},
     "output_type": "display_data"
    }
   ],
   "source": [
    "_ = plt.matshow(normal_perturbation(hilbert(21), scale=1e-2))"
   ]
  },
  {
   "cell_type": "markdown",
   "id": "d57b6cee-4c8f-433c-b939-64e9d5b78303",
   "metadata": {},
   "source": [
    "### Uniform\n",
    "\n",
    "Uniformly distrubted pertubation."
   ]
  },
  {
   "cell_type": "code",
   "execution_count": 12,
   "id": "e932d3ae-0fef-48db-af56-403e8fab1c90",
   "metadata": {},
   "outputs": [],
   "source": [
    "def uniform_perturbation(matrix, low=-1e-3, high=1e-3):\n",
    "    perturbation = np.random.uniform(low, high, size=matrix.shape)\n",
    "    return matrix + perturbation"
   ]
  },
  {
   "cell_type": "code",
   "execution_count": 13,
   "id": "e7770c01-3ef5-4eab-9927-a4d0065d1dd6",
   "metadata": {},
   "outputs": [
    {
     "data": {
      "text/plain": [
       "array([[0.99057132, 0.55923151, 0.26152021, 0.19044161],\n",
       "       [0.42871849, 0.3549702 , 0.25428574, 0.28110314],\n",
       "       [0.29273544, 0.22867125, 0.17583288, 0.12397551],\n",
       "       [0.22208203, 0.17665999, 0.1451549 , 0.14961345]])"
      ]
     },
     "execution_count": 13,
     "metadata": {},
     "output_type": "execute_result"
    }
   ],
   "source": [
    "uniform_perturbation(hilbert(4), low=-1e-1, high=1e-1)"
   ]
  },
  {
   "cell_type": "code",
   "execution_count": 14,
   "id": "3d143261-9735-4ee1-b6f5-971cde53c02b",
   "metadata": {},
   "outputs": [
    {
     "data": {
      "image/png": "[encoded data removed]",
      "text/plain": [
       "<Figure size 480x480 with 1 Axes>"
      ]
     },
     "metadata": {},
     "output_type": "display_data"
    }
   ],
   "source": [
    "_ = plt.matshow(uniform_perturbation(hilbert(21), low=-1e-1, high=1e-1))"
   ]
  },
  {
   "cell_type": "markdown",
   "id": "95826d06-1bec-4cd6-9cfb-2f2621b506dd",
   "metadata": {},
   "source": [
    "## b Vectors\n",
    "\n",
    "Randomly initialized b vectors."
   ]
  },
  {
   "cell_type": "markdown",
   "id": "2ff3acbc-bb02-4415-8c01-b8ab7263be80",
   "metadata": {},
   "source": [
    "### Normal\n",
    "\n",
    "Normally distrubted vector."
   ]
  },
  {
   "cell_type": "code",
   "execution_count": 15,
   "id": "0faf3e33-9517-4461-9c4e-0e4822594163",
   "metadata": {},
   "outputs": [],
   "source": [
    "def normal_b_vector(size, scale=1e-3):\n",
    "    return scale * np.random.randn(size)"
   ]
  },
  {
   "cell_type": "code",
   "execution_count": 16,
   "id": "cdf093c0-6b0a-4c66-81c7-d0e6816529ea",
   "metadata": {},
   "outputs": [
    {
     "data": {
      "text/plain": [
       "array([-1.3310456 ,  1.11169754,  1.01893507])"
      ]
     },
     "execution_count": 16,
     "metadata": {},
     "output_type": "execute_result"
    }
   ],
   "source": [
    "normal_b_vector(hilbert(3).shape[0], scale=1)"
   ]
  },
  {
   "cell_type": "markdown",
   "id": "abec1327-0490-4f7b-9e73-9b52b10e80c6",
   "metadata": {},
   "source": [
    "### Uniform\n",
    "\n",
    "Uniformly distrubted vector."
   ]
  },
  {
   "cell_type": "code",
   "execution_count": 17,
   "id": "9a9e1ef0-3183-4807-8689-fd3a7ba00526",
   "metadata": {},
   "outputs": [],
   "source": [
    "def uniform_b_vector(size, low=-1e-3, high=1e-3):\n",
    "    return np.random.uniform(low, high, size=size)"
   ]
  },
  {
   "cell_type": "code",
   "execution_count": 18,
   "id": "baf6eb87-aa9c-4f3e-a395-59357a561609",
   "metadata": {},
   "outputs": [
    {
     "data": {
      "text/plain": [
       "array([0.3564938 , 0.86640514, 0.90512386])"
      ]
     },
     "execution_count": 18,
     "metadata": {},
     "output_type": "execute_result"
    }
   ],
   "source": [
    "uniform_b_vector(hilbert(3).shape[0], low=-2, high=2)"
   ]
  },
  {
   "cell_type": "markdown",
   "id": "0614cc68-59ce-4245-bcd4-785067da0934",
   "metadata": {},
   "source": [
    "## Solvers\n",
    "\n",
    "Different types of commonly used solvers."
   ]
  },
  {
   "cell_type": "code",
   "execution_count": 19,
   "id": "8cb1f7ca-dfd2-42e7-b98d-b59aa299a601",
   "metadata": {},
   "outputs": [],
   "source": [
    "class Callback:\n",
    "    def __init__(self):\n",
    "        self.cb = 0\n",
    "\n",
    "    def log(self, r):\n",
    "        self.cb += 1"
   ]
  },
  {
   "cell_type": "markdown",
   "id": "40526fbb-e677-42c2-b10e-e8007f61ab07",
   "metadata": {},
   "source": [
    "### Conjugate Gradient (CG)\n",
    "\n",
    "Solver good for SPD."
   ]
  },
  {
   "cell_type": "code",
   "execution_count": 20,
   "id": "0146f080-1e6d-4d1c-a48c-6e3840972f9b",
   "metadata": {},
   "outputs": [],
   "source": [
    "A = normal_perturbation(hilbert(3), scale=1e-1)\n",
    "b = normal_b_vector(A.shape[0], scale=1)\n",
    "cb = Callback()\n",
    "\n",
    "x, exit_code = spla.cg(A, b, callback=cb.log)"
   ]
  },
  {
   "cell_type": "markdown",
   "id": "29f70baa-586c-424d-9019-a1ed251499d4",
   "metadata": {},
   "source": [
    "An exit code > 0 indicates no convergence."
   ]
  },
  {
   "cell_type": "code",
   "execution_count": 21,
   "id": "527d3ffe-cd9a-4e91-aaa3-f0b5f2c14b01",
   "metadata": {},
   "outputs": [
    {
     "data": {
      "text/plain": [
       "(30, 30)"
      ]
     },
     "execution_count": 21,
     "metadata": {},
     "output_type": "execute_result"
    }
   ],
   "source": [
    "exit_code, cb.cb"
   ]
  },
  {
   "cell_type": "markdown",
   "id": "5d70fd65-69ba-43d9-98cf-aa3fb0a3837c",
   "metadata": {},
   "source": [
    "### Generalized Minimal RESidual (GMRES)\n",
    "\n",
    "Solver good for non-symmetric, indefinite."
   ]
  },
  {
   "cell_type": "code",
   "execution_count": 22,
   "id": "ec5ba952-87da-411a-a91e-4003a82c1b74",
   "metadata": {},
   "outputs": [],
   "source": [
    "A = normal_perturbation(hilbert(20), scale=1e-1)\n",
    "b = normal_b_vector(A.shape[0], scale=1)\n",
    "cb = Callback()\n",
    "\n",
    "x, exit_code = spla.gmres(A, b, callback_type='legacy', callback=cb.log, maxiter=10000, restart=10)"
   ]
  },
  {
   "cell_type": "code",
   "execution_count": 23,
   "id": "63f3bcd1-4434-4da6-8d2b-dd97b05909e0",
   "metadata": {},
   "outputs": [
    {
     "data": {
      "text/plain": [
       "(10000, 10000)"
      ]
     },
     "execution_count": 23,
     "metadata": {},
     "output_type": "execute_result"
    }
   ],
   "source": [
    "exit_code, cb.cb"
   ]
  },
  {
   "cell_type": "markdown",
   "id": "5f139de7-183e-4931-8917-0e9db3bf94f4",
   "metadata": {},
   "source": [
    "## Preconditioning\n",
    "\n",
    "Common preconditioning techniques."
   ]
  },
  {
   "cell_type": "markdown",
   "id": "0e0f9368-71b0-4f4e-b37d-f1e6a81fc060",
   "metadata": {},
   "source": [
    "### Jacobi\n",
    "\n",
    "M = diag(A) preconditioner."
   ]
  },
  {
   "cell_type": "code",
   "execution_count": null,
   "id": "cfb67c26-515b-4751-8a1d-33e197a1d1bf",
   "metadata": {},
   "outputs": [],
   "source": [
    "A = normal_perturbation(hilbert(20), scale=1e-1)\n",
    "b = normal_b_vector(A.shape[0], scale=1)\n",
    "M = np.eye(A.shape[0]) * (1 / np.diag(A))\n",
    "cb = Callback()\n",
    "\n",
    "x, exit_code = spla.gmres(A, b, M=M, callback_type='legacy', callback=cb.log, maxiter=10000, restart=10, rtol=1e-12)"
   ]
  },
  {
   "cell_type": "code",
   "execution_count": null,
   "id": "2b8ba2d6-8ea7-4982-b449-915a7ecce399",
   "metadata": {},
   "outputs": [],
   "source": [
    "exit_code, cb.cb"
   ]
  },
  {
   "cell_type": "code",
   "execution_count": null,
   "id": "b4df71d2-5e39-4d34-a8de-7a214d0b27d7",
   "metadata": {},
   "outputs": [],
   "source": [
    "plt.matshow(M)\n",
    "np.linalg.cond(M @ A), np.linalg.cond(A)"
   ]
  },
  {
   "cell_type": "markdown",
   "id": "0378d55d-aa99-4276-a423-8f559cbb7ea7",
   "metadata": {},
   "source": [
    "### Incomplete LU (ILU)\n",
    "\n",
    "Approximates the LU decomposition."
   ]
  },
  {
   "cell_type": "code",
   "execution_count": null,
   "id": "fc6d2017-1ffd-4ea8-a62d-d1c510544683",
   "metadata": {},
   "outputs": [],
   "source": [
    "A = normal_perturbation(hilbert(100), scale=1e-2)\n",
    "b = normal_b_vector(A.shape[0], scale=1)\n",
    "\n",
    "ilu = spla.spilu(A)\n",
    "Mx = lambda x: ilu.solve(x)\n",
    "M = spla.LinearOperator(A.shape, Mx)\n",
    "\n",
    "cb = Callback()\n",
    "\n",
    "x, exit_code = spla.gmres(A, b, M=M, callback_type='legacy', callback=cb.log, maxiter=10000, restart=20, rtol=1e-12)"
   ]
  },
  {
   "cell_type": "markdown",
   "id": "b8bd713d-641c-4a28-8dba-0846eb8d7d2b",
   "metadata": {},
   "source": [
    "Can effiecently precondition for perturbed hilbert matrices."
   ]
  },
  {
   "cell_type": "code",
   "execution_count": null,
   "id": "adddf656-82ed-450b-9088-3933f61466d6",
   "metadata": {},
   "outputs": [],
   "source": [
    "exit_code, cb.cb"
   ]
  },
  {
   "cell_type": "code",
   "execution_count": null,
   "id": "d6b57adc-b2b0-4aef-823a-181892771f0a",
   "metadata": {},
   "outputs": [],
   "source": [
    "plt.matshow(M.dot(np.eye(100)))\n",
    "np.linalg.cond(M @ A), np.linalg.cond(A)"
   ]
  },
  {
   "cell_type": "code",
   "execution_count": null,
   "id": "4fb674db-d7ef-4368-a01f-edf3155b6cb1",
   "metadata": {},
   "outputs": [],
   "source": [
    "A = normal_perturbation(hilbert(1000), scale=1e-2)\n",
    "b = normal_b_vector(A.shape[0], scale=1)\n",
    "\n",
    "ilu = spla.spilu(A)\n",
    "Mx = lambda x: ilu.solve(x)\n",
    "M = spla.LinearOperator(A.shape, Mx)\n",
    "\n",
    "cb = Callback()\n",
    "\n",
    "x, exit_code = spla.gmres(M @ A, M @ b, callback_type='legacy', callback=cb.log, maxiter=10000, restart=20, rtol=1e-12)"
   ]
  },
  {
   "cell_type": "markdown",
   "id": "d8a49352-b780-40a6-85c7-b6bb74438a91",
   "metadata": {},
   "source": [
    "*We also get equal speedup using this approach.*"
   ]
  },
  {
   "cell_type": "code",
   "execution_count": null,
   "id": "e3dec626-bc62-4c01-a576-32846ff1224e",
   "metadata": {},
   "outputs": [],
   "source": [
    "exit_code, cb.cb"
   ]
  },
  {
   "cell_type": "markdown",
   "id": "c5e01d8d-b3d2-45ab-ad64-90982ad698be",
   "metadata": {},
   "source": [
    "## Solver Statistics\n",
    "\n",
    "Understand more about the significant of A and b."
   ]
  },
  {
   "cell_type": "code",
   "execution_count": null,
   "id": "2c5c8b7d-cc6d-460f-86da-bfdb34be27ad",
   "metadata": {},
   "outputs": [],
   "source": []
  },
  {
   "cell_type": "code",
   "execution_count": null,
   "id": "4ceab342-a18a-4a30-bdd2-b01c6e5d9180",
   "metadata": {},
   "outputs": [],
   "source": []
  },
  {
   "cell_type": "code",
   "execution_count": null,
   "id": "4df2149e-1d9a-4a53-ba98-da4303ea8aa7",
   "metadata": {},
   "outputs": [],
   "source": []
  },
  {
   "cell_type": "code",
   "execution_count": null,
   "id": "bac75006-4a30-4699-89cd-547548c93d96",
   "metadata": {},
   "outputs": [],
   "source": []
  },
  {
   "cell_type": "markdown",
   "id": "aa4b1361-200b-4145-a4c4-7b707ded6e46",
   "metadata": {},
   "source": [
    "# Helmholtz Matrix\n",
    "\n",
    "..."
   ]
  },
  {
   "cell_type": "code",
   "execution_count": null,
   "id": "814f5ab2-2743-4ba5-9abe-ec9407918b1f",
   "metadata": {},
   "outputs": [],
   "source": [
    "def test_singularity(mat):\n",
    "    det_mat = np.linalg.det(mat)\n",
    "\n",
    "    if np.isclose(det_mat, 0):\n",
    "        print(\"Matrix is singular.\")\n",
    "    else:\n",
    "        print(\"Matrix is non-singular.\")\n",
    "        \n",
    "    rank_mat = np.linalg.matrix_rank(mat)\n",
    "    if rank_mat < A.shape[0]:\n",
    "        print(\"Matrix is singular.\")\n",
    "    else:\n",
    "        print(\"Matrix is non-singular.\")"
   ]
  },
  {
   "cell_type": "code",
   "execution_count": null,
   "id": "b92571b9-77c0-47b0-9ddd-4ffc0fa703a3",
   "metadata": {},
   "outputs": [],
   "source": [
    "def test_inconsistent(A, b):\n",
    "    augmented_matrix = np.column_stack((A, b))\n",
    "\n",
    "    # Perform LU decomposition and check for inconsistent row\n",
    "    P, L, U = scipy.linalg.lu(augmented_matrix)\n",
    "\n",
    "    # Check last row of U for inconsistency (e.g., [0 0 0 | c])\n",
    "    if np.allclose(U[-1, :-1], 0) and not np.isclose(U[-1, -1], 0):\n",
    "        print(\"System is inconsistent.\")\n",
    "    else:\n",
    "        print(\"System may be consistent.\")\n",
    "        \n",
    "    rank_A = np.linalg.matrix_rank(A)\n",
    "    rank_augmented = np.linalg.matrix_rank(augmented_matrix)\n",
    "\n",
    "    if rank_A != rank_augmented:\n",
    "        print(\"System is inconsistent.\")\n",
    "    else:\n",
    "        print(\"System is consistent or has infinitely many solutions.\")"
   ]
  },
  {
   "cell_type": "code",
   "execution_count": null,
   "id": "fe1feac0-6a14-4ff0-9a81-103df71fccd9",
   "metadata": {},
   "outputs": [],
   "source": [
    "def get_helmholtz(n, wavesize):\n",
    "    L = 1.0 \n",
    "    k = wavesize \n",
    "    h = L / (n - 1)  \n",
    "\n",
    "    # Discretization of Helmholtz operator (1D)\n",
    "    diagonals = [np.ones(n-1), -2*np.ones(n), np.ones(n-1)]\n",
    "\n",
    "    return (sp.diags(diagonals, [-1, 0, 1]) / h**2 + k**2 * sp.eye(n)).toarray()"
   ]
  },
  {
   "cell_type": "code",
   "execution_count": null,
   "id": "038771b3-a8dd-4573-9858-a1f25e7ab2b4",
   "metadata": {},
   "outputs": [],
   "source": [
    "get_helmholtz(5, 100)"
   ]
  },
  {
   "cell_type": "code",
   "execution_count": null,
   "id": "672985cf-6cb6-4010-b4a5-9535197c8f4d",
   "metadata": {},
   "outputs": [],
   "source": [
    "_ = plt.matshow(get_helmholtz(100, 100))"
   ]
  },
  {
   "cell_type": "code",
   "execution_count": null,
   "id": "3eba518f-2d2a-4433-a832-6b53bbbbcf8f",
   "metadata": {},
   "outputs": [],
   "source": [
    "def summary(size, wave):\n",
    "    H = get_helmholtz(size, wave)\n",
    "    print(f'SIZE: {size}, MIN {H.min():.5f}, MEAN {H.mean():.5f}, MAX {H.max():.5f}')"
   ]
  },
  {
   "cell_type": "code",
   "execution_count": null,
   "id": "e951dfc0-4a50-4deb-9373-d1a084b54158",
   "metadata": {},
   "outputs": [],
   "source": [
    "summary(5, 100)"
   ]
  },
  {
   "cell_type": "code",
   "execution_count": null,
   "id": "62cf9f00-89af-4863-8e85-d15cc013fe75",
   "metadata": {},
   "outputs": [],
   "source": [
    "summary(5, 10)"
   ]
  },
  {
   "cell_type": "code",
   "execution_count": null,
   "id": "ba95b293-6f62-4f02-b0a2-86ac7d5061ea",
   "metadata": {},
   "outputs": [],
   "source": [
    "summary(1000, 100)"
   ]
  },
  {
   "cell_type": "code",
   "execution_count": null,
   "id": "34031e6f-9326-46d9-a6f7-c3e1bfb6b558",
   "metadata": {},
   "outputs": [],
   "source": [
    "summary(1000, 1)"
   ]
  },
  {
   "cell_type": "markdown",
   "id": "886d4dbc-00c9-4b1d-ac44-34ea0a913cb0",
   "metadata": {},
   "source": [
    "## Randomness & Perturbations\n",
    "\n",
    "Apply randomness to the initialization and perturbations to matrices."
   ]
  },
  {
   "cell_type": "code",
   "execution_count": null,
   "id": "e9bf830e-7554-43b6-8430-d85eeb962ba1",
   "metadata": {},
   "outputs": [],
   "source": [
    "def generate_random_helmholtz(n):\n",
    "    L = 1.0\n",
    "    k = np.random.uniform(10, 200)  # Random wavenumber\n",
    "    h = L / (n - 1)  \n",
    "\n",
    "    # Discretization of Helmholtz operator (1D)\n",
    "    diagonals = [np.ones(n-1), -2*np.ones(n), np.ones(n-1)]\n",
    "\n",
    "    helmholtz = sp.diags(diagonals, [-1, 0, 1]) / h**2 + k**2 * sp.eye(n)\n",
    "\n",
    "    # Ensure no perturbations on the tridiagnonal\n",
    "    perturb = sp.random(n, n, density=0.001) * np.max(helmholtz)\n",
    "    perturb.setdiag(0)\n",
    "    \n",
    "    for i in [-1, 1]:  \n",
    "        diag_indices = np.arange(max(0, -i), min(n, n - i)) \n",
    "        perturb[diag_indices, diag_indices + i] = 0\n",
    "        \n",
    "    return helmholtz + perturb"
   ]
  },
  {
   "cell_type": "code",
   "execution_count": null,
   "id": "a9b77ba1-daae-4dd7-8897-d498a93158dc",
   "metadata": {},
   "outputs": [],
   "source": [
    "def get_sparsity(mat):\n",
    "    return (mat != 0).sum() / (mat.shape[0] * mat.shape[0])"
   ]
  },
  {
   "cell_type": "code",
   "execution_count": null,
   "id": "e575610a-738d-4a8a-8531-7f322f0a80f3",
   "metadata": {},
   "outputs": [],
   "source": [
    "_ = plt.matshow(generate_random_helmholtz(500).toarray())"
   ]
  },
  {
   "cell_type": "code",
   "execution_count": null,
   "id": "65e1a2ac-02d4-4927-96a1-5d3cc63f4693",
   "metadata": {},
   "outputs": [],
   "source": [
    "print(f'{get_sparsity(generate_random_helmholtz(500).toarray())*100:.3f}%') "
   ]
  },
  {
   "cell_type": "code",
   "execution_count": null,
   "id": "512ef5c4-6ed8-4c6b-97fb-3aa6f063f8ad",
   "metadata": {},
   "outputs": [],
   "source": [
    "test_singularity(generate_random_helmholtz(500).toarray())"
   ]
  },
  {
   "cell_type": "markdown",
   "id": "3c643427-7a78-4948-a41a-7168f97a6752",
   "metadata": {},
   "source": [
    "## b Vectors\n",
    "\n",
    "*Using the same as before.*"
   ]
  },
  {
   "cell_type": "markdown",
   "id": "ffd743a7-45c0-42b9-8da1-853f4aab3691",
   "metadata": {},
   "source": [
    "## Solvers\n",
    "\n",
    "Testing solvers on this data."
   ]
  },
  {
   "cell_type": "markdown",
   "id": "906d4235-415c-4541-905c-ae7248b9bdcb",
   "metadata": {},
   "source": [
    "### Conjugate Gradient (CG)\n",
    "\n",
    "Solver good for SPD."
   ]
  },
  {
   "cell_type": "code",
   "execution_count": null,
   "id": "7c985d18-8698-4b24-a760-8a52983f2812",
   "metadata": {},
   "outputs": [],
   "source": [
    "A = generate_random_helmholtz(500)\n",
    "b = normal_b_vector(A.shape[0], scale=1)\n",
    "cb = Callback()\n",
    "\n",
    "x, exit_code = spla.cg(A, b, callback=cb.log, rtol=1e-12, maxiter=10000)"
   ]
  },
  {
   "cell_type": "code",
   "execution_count": null,
   "id": "77343b06-438e-43d5-9867-56e732ab4f1c",
   "metadata": {},
   "outputs": [],
   "source": [
    "exit_code, cb.cb"
   ]
  },
  {
   "cell_type": "markdown",
   "id": "fbdcb7dc-baa7-4bf6-af59-d5c48053be0b",
   "metadata": {},
   "source": [
    "### Generalized Minimal RESidual (GMRES)\n",
    "\n",
    "Solver good for non-symmetric, indefinite."
   ]
  },
  {
   "cell_type": "code",
   "execution_count": null,
   "id": "397ff23f-f045-47bc-b8e7-5af33ea3d7b5",
   "metadata": {},
   "outputs": [],
   "source": [
    "A = generate_random_helmholtz(750)\n",
    "b = normal_b_vector(A.shape[0], scale=1)\n",
    "cb = Callback()\n",
    "\n",
    "x, exit_code = spla.gmres(A, b, callback_type='legacy', callback=cb.log, maxiter=2000000, restart=30, rtol=1e-5)"
   ]
  },
  {
   "cell_type": "code",
   "execution_count": null,
   "id": "803adfd1-9aeb-4aac-886d-2336fe7c6cbf",
   "metadata": {},
   "outputs": [],
   "source": [
    "exit_code, cb.cb"
   ]
  },
  {
   "cell_type": "markdown",
   "id": "82a4a1c4-a9dc-415a-a5e7-4130901b0fda",
   "metadata": {},
   "source": [
    "## Preconditioning\n",
    "\n",
    "This time tested on both GMRES and CG."
   ]
  },
  {
   "cell_type": "markdown",
   "id": "295b4169-6286-4dbc-bb9d-fe8062ef1682",
   "metadata": {},
   "source": [
    "### Jacobi\n",
    "\n",
    "M = diag(A) preconditioner."
   ]
  },
  {
   "cell_type": "code",
   "execution_count": null,
   "id": "20c0468d-6470-4b49-bf9e-6212f52bf22e",
   "metadata": {},
   "outputs": [],
   "source": [
    "A = generate_random_helmholtz(500).toarray()\n",
    "b = normal_b_vector(A.shape[0], scale=1)\n",
    "M = np.eye(A.shape[0]) * (1 / np.diag(A))\n",
    "cb = Callback()\n",
    "\n",
    "x, exit_code = spla.cg(A, b, callback=cb.log, rtol=1e-12, maxiter=10000)"
   ]
  },
  {
   "cell_type": "code",
   "execution_count": null,
   "id": "6f2dc993-c650-4cca-874c-9cbb85dab153",
   "metadata": {},
   "outputs": [],
   "source": [
    "exit_code, cb.cb"
   ]
  },
  {
   "cell_type": "code",
   "execution_count": null,
   "id": "0d5c55d3-00e7-4d39-8c1f-fb42a57707b8",
   "metadata": {},
   "outputs": [],
   "source": [
    "test_inconsistent(A, b)"
   ]
  },
  {
   "cell_type": "code",
   "execution_count": null,
   "id": "665a65ca-ad9b-46c8-82cf-732f7734549c",
   "metadata": {},
   "outputs": [],
   "source": [
    "A = generate_random_helmholtz(500).toarray()\n",
    "b = normal_b_vector(A.shape[0], scale=1)\n",
    "M = np.eye(A.shape[0]) * (1 / np.diag(A))\n",
    "cb = Callback()\n",
    "\n",
    "x, exit_code = spla.gmres(A, b, M=M, callback_type='legacy', callback=cb.log, maxiter=10000, restart=10, rtol=1e-12)"
   ]
  },
  {
   "cell_type": "code",
   "execution_count": null,
   "id": "d916efeb-fee7-47ce-8e5d-9a0f53702c70",
   "metadata": {},
   "outputs": [],
   "source": [
    "exit_code, cb.cb"
   ]
  },
  {
   "cell_type": "code",
   "execution_count": null,
   "id": "15c8cae7-9098-4307-869c-914131a10e21",
   "metadata": {},
   "outputs": [],
   "source": [
    "test_inconsistent(A, b)"
   ]
  },
  {
   "cell_type": "code",
   "execution_count": null,
   "id": "8a350884-f325-437f-ba53-fe858f0c44e1",
   "metadata": {},
   "outputs": [],
   "source": [
    "_ = plt.matshow(M)\n",
    "np.linalg.cond(M @ A), np.linalg.cond(A)"
   ]
  },
  {
   "cell_type": "markdown",
   "id": "66c45a72-c198-4dbb-b9da-ad4066d5dfca",
   "metadata": {},
   "source": [
    "### Incomplete LU (ILU)\n",
    "\n",
    "Approximates the LU decomposition."
   ]
  },
  {
   "cell_type": "code",
   "execution_count": null,
   "id": "c8114a86-49ef-4f47-81b3-1936fb32e6e8",
   "metadata": {},
   "outputs": [],
   "source": [
    "A = generate_random_helmholtz(500).toarray()\n",
    "b = normal_b_vector(A.shape[0], scale=1)\n",
    "\n",
    "ilu = spla.spilu(A)\n",
    "Mx = lambda x: ilu.solve(x)\n",
    "M = spla.LinearOperator(A.shape, Mx)\n",
    "\n",
    "cb = Callback()\n",
    "\n",
    "x, exit_code = spla.cg(A, b, callback=cb.log, rtol=1e-12, maxiter=10000)"
   ]
  },
  {
   "cell_type": "code",
   "execution_count": null,
   "id": "63f52b11-7520-4997-93e6-6b52d491a011",
   "metadata": {},
   "outputs": [],
   "source": [
    "exit_code, cb.cb"
   ]
  },
  {
   "cell_type": "code",
   "execution_count": null,
   "id": "079a9127-4311-4e2e-8cf0-95c569f483c5",
   "metadata": {},
   "outputs": [],
   "source": [
    "test_inconsistent(A, b)"
   ]
  },
  {
   "cell_type": "code",
   "execution_count": null,
   "id": "59ac7f3b-f7e6-41df-b92d-ff63537de6d3",
   "metadata": {},
   "outputs": [],
   "source": [
    "A = generate_random_helmholtz(500).toarray()\n",
    "b = normal_b_vector(A.shape[0], scale=1)\n",
    "\n",
    "ilu = spla.spilu(A)\n",
    "Mx = lambda x: ilu.solve(x)\n",
    "M = spla.LinearOperator(A.shape, Mx)\n",
    "\n",
    "cb = Callback()\n",
    "\n",
    "x, exit_code = spla.gmres(A, b, M=M, callback_type='legacy', callback=cb.log, maxiter=10000, restart=20)"
   ]
  },
  {
   "cell_type": "code",
   "execution_count": null,
   "id": "6fffeab2-08a2-4706-b89a-d3c680d24e80",
   "metadata": {},
   "outputs": [],
   "source": [
    "exit_code, cb.cb"
   ]
  },
  {
   "cell_type": "code",
   "execution_count": null,
   "id": "43a1b95c-2f63-425e-830f-d4b25ff1f52d",
   "metadata": {},
   "outputs": [],
   "source": [
    "test_inconsistent(A, b)"
   ]
  },
  {
   "cell_type": "code",
   "execution_count": null,
   "id": "c76d4303-a12d-4904-87e9-5813f57abf06",
   "metadata": {},
   "outputs": [],
   "source": [
    "plt.matshow(M.dot(np.eye(500)))\n",
    "np.linalg.cond(M @ A), np.linalg.cond(A)"
   ]
  },
  {
   "cell_type": "markdown",
   "id": "061d36b6-5fa7-4aed-bf21-9209f6936d23",
   "metadata": {},
   "source": [
    "### AMG\n",
    "\n",
    "Good for large sparse systems."
   ]
  },
  {
   "cell_type": "code",
   "execution_count": null,
   "id": "6da3cabd-4bd9-4050-87c1-26a85318f1f5",
   "metadata": {},
   "outputs": [],
   "source": [
    "A = generate_random_helmholtz(500).toarray()\n",
    "b = normal_b_vector(A.shape[0], scale=1)\n",
    "\n",
    "# Create the AMG preconditioner\n",
    "ml = pyamg.smoothed_aggregation_solver(A)\n",
    "M = ml.aspreconditioner()\n",
    "\n",
    "cb = Callback()\n",
    "\n",
    "x, exit_code = spla.gmres(M @ A, M @ b, callback_type='legacy', callback=cb.log, maxiter=10000, restart=20)"
   ]
  },
  {
   "cell_type": "code",
   "execution_count": null,
   "id": "f2774f1c-f2c7-4703-81d6-ed73c6da7e97",
   "metadata": {},
   "outputs": [],
   "source": [
    "exit_code, cb.cb"
   ]
  },
  {
   "cell_type": "code",
   "execution_count": null,
   "id": "554182da-fe36-4a09-b47b-06b944b3eb2c",
   "metadata": {},
   "outputs": [],
   "source": [
    "test_inconsistent(A, b)"
   ]
  },
  {
   "cell_type": "code",
   "execution_count": null,
   "id": "a5c73b51-4400-487d-854e-e566c8be222d",
   "metadata": {},
   "outputs": [],
   "source": [
    "plt.matshow(M.dot(np.eye(500)))\n",
    "np.linalg.cond(M @ A), np.linalg.cond(A)"
   ]
  },
  {
   "cell_type": "markdown",
   "id": "7beaf75d-7110-4af3-8f32-1dbc704105ae",
   "metadata": {},
   "source": [
    "## Solver Statistics\n",
    "\n",
    "Understand more about the significant of A and b."
   ]
  },
  {
   "cell_type": "code",
   "execution_count": null,
   "id": "5371e6c7-b1fe-46d5-9249-6142b9dcac9d",
   "metadata": {},
   "outputs": [],
   "source": [
    "def get_precond(A, precon):\n",
    "    if precon == 'ILU':\n",
    "        ilu = spla.spilu(A)\n",
    "        Mx = lambda x: ilu.solve(x)\n",
    "        return spla.LinearOperator(A.shape, Mx)\n",
    "        \n",
    "    elif precon == 'AMG':\n",
    "        ml = pyamg.smoothed_aggregation_solver(A)\n",
    "        return ml.aspreconditioner()"
   ]
  },
  {
   "cell_type": "markdown",
   "id": "df057836-50ea-487d-9d30-b5e7afa479ee",
   "metadata": {},
   "source": [
    "Max cutoff is 1,000,000 iterations."
   ]
  },
  {
   "cell_type": "code",
   "execution_count": null,
   "id": "825f3691-7503-4d02-8b10-f049d7a17ba9",
   "metadata": {},
   "outputs": [],
   "source": [
    "def generate_gmres_stats(n, iterations, precon=None):\n",
    "    logs_iter = np.zeros(iterations)\n",
    "    logs_exit = np.zeros(iterations)\n",
    "    logs_condition = np.zeros(iterations)\n",
    "    for iteration in range(iterations):\n",
    "        A = generate_random_helmholtz(n)\n",
    "        b = normal_b_vector(A.shape[0], scale=1)\n",
    "        cb = Callback()\n",
    "        \n",
    "        if precon is not None:\n",
    "            M = get_precond(A, precon)\n",
    "            x, exit_code = spla.gmres(M @ A, M @ b, callback_type='legacy', callback=cb.log, maxiter=100000, restart=30, rtol=1e-5)\n",
    "            logs_condition[iteration] = np.linalg.cond(M @ A)\n",
    "        else:\n",
    "            x, exit_code = spla.gmres(A, b, callback_type='legacy', callback=cb.log, maxiter=100000, restart=30, rtol=1e-5)\n",
    "            logs_condition[iteration] = np.linalg.cond(A.toarray())\n",
    "        \n",
    "        logs_iter[iteration] = cb.cb\n",
    "        logs_exit[iteration] = 0 if exit_code == 0 else 1\n",
    "        \n",
    "    return logs_iter, logs_exit, logs_condition"
   ]
  },
  {
   "cell_type": "code",
   "execution_count": null,
   "id": "f565a5a9-1d1a-4207-90ad-613ae420779b",
   "metadata": {},
   "outputs": [],
   "source": [
    "solver_stats = {}\n",
    "iterations = 15"
   ]
  },
  {
   "cell_type": "code",
   "execution_count": null,
   "id": "fc08089c-8b43-4d07-8704-2bab4e95110f",
   "metadata": {},
   "outputs": [],
   "source": [
    "for pre in [None, 'ILU', 'AMG']:\n",
    "    for it in [50, 100, 500, 750, 1000]:\n",
    "        solver_stats[f'{pre}_{it}'] = generate_gmres_stats(it, iterations, precon=pre)\n",
    "        print(f'Done: {pre}, {it}')"
   ]
  },
  {
   "cell_type": "code",
   "execution_count": null,
   "id": "6ea1f30d-9ed2-43fc-a91c-23046119f09b",
   "metadata": {},
   "outputs": [],
   "source": [
    "solver_stats"
   ]
  },
  {
   "cell_type": "code",
   "execution_count": null,
   "id": "d40a547c-8ea7-4399-ab7f-e0b073a32452",
   "metadata": {},
   "outputs": [],
   "source": []
  },
  {
   "cell_type": "code",
   "execution_count": null,
   "id": "0c2ec5e5-a25e-46c3-a516-06e8901c9584",
   "metadata": {},
   "outputs": [],
   "source": []
  },
  {
   "cell_type": "code",
   "execution_count": null,
   "id": "36bf54e0-fb88-448c-8e2e-7ed84fd85e78",
   "metadata": {},
   "outputs": [],
   "source": []
  }
 ],
 "metadata": {
  "kernelspec": {
   "display_name": "Python 3 (ipykernel)",
   "language": "python",
   "name": "python3"
  },
  "language_info": {
   "codemirror_mode": {
    "name": "ipython",
    "version": 3
   },
   "file_extension": ".py",
   "mimetype": "text/x-python",
   "name": "python",
   "nbconvert_exporter": "python",
   "pygments_lexer": "ipython3",
   "version": "3.9.7"
  }
 },
 "nbformat": 4,
 "nbformat_minor": 5
}
