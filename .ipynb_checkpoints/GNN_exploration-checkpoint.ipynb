{
 "cells": [
  {
   "cell_type": "markdown",
   "id": "55540ac9-8389-4ce5-a740-f3afb68bfc84",
   "metadata": {},
   "source": [
    "# Summary\n",
    "\n",
    "Notebook to understand how GNN work.\n",
    "\n",
    "## TODO\n",
    "\n",
    "1. Data representations.\n",
    "    - Node-level.\n",
    "    - Edge-level.\n",
    "2. Create Datasets for corresponding representations.\n",
    "3. Loss function (distance to identity).\n",
    "4. Test different networks on each of the datasets.\n",
    "    - Determine how large they can get.\n",
    "    - Hyperparameters.\n",
    "    - Skipping? Residuals?"
   ]
  },
  {
   "cell_type": "markdown",
   "id": "3bfb2b42-1e27-461e-af51-77dc29aa925c",
   "metadata": {},
   "source": [
    "# Imports/Setup"
   ]
  },
  {
   "cell_type": "code",
   "execution_count": 6,
   "id": "9a770304-30a8-421b-89ec-2e60b5605162",
   "metadata": {},
   "outputs": [
    {
     "name": "stderr",
     "output_type": "stream",
     "text": [
      "/data/users/jupyter-dam724/.local/lib/python3.9/site-packages/torch_geometric/typing.py:68: UserWarning: An issue occurred while importing 'pyg-lib'. Disabling its usage. Stacktrace: /data/users/jupyter-dam724/.local/lib/python3.9/site-packages/libpyg.so: undefined symbol: _ZN3c1010Dispatcher17runRecordFunctionERN2at14RecordFunctionESt17reference_wrapperIKNS_14FunctionSchemaEENS_11DispatchKeyE\n",
      "  warnings.warn(f\"An issue occurred while importing 'pyg-lib'. \"\n",
      "/data/users/jupyter-dam724/.local/lib/python3.9/site-packages/torch_geometric/typing.py:86: UserWarning: An issue occurred while importing 'torch-scatter'. Disabling its usage. Stacktrace: /data/users/jupyter-dam724/.local/lib/python3.9/site-packages/torch_scatter/_version_cuda.so: undefined symbol: _ZN5torch3jit17parseSchemaOrNameERKSs\n",
      "  warnings.warn(f\"An issue occurred while importing 'torch-scatter'. \"\n",
      "/data/users/jupyter-dam724/.local/lib/python3.9/site-packages/torch_geometric/typing.py:97: UserWarning: An issue occurred while importing 'torch-cluster'. Disabling its usage. Stacktrace: /data/users/jupyter-dam724/.local/lib/python3.9/site-packages/torch_cluster/_version_cuda.so: undefined symbol: _ZN5torch3jit17parseSchemaOrNameERKSs\n",
      "  warnings.warn(f\"An issue occurred while importing 'torch-cluster'. \"\n",
      "/data/users/jupyter-dam724/.local/lib/python3.9/site-packages/torch_geometric/typing.py:113: UserWarning: An issue occurred while importing 'torch-spline-conv'. Disabling its usage. Stacktrace: /data/users/jupyter-dam724/.local/lib/python3.9/site-packages/torch_spline_conv/_version_cuda.so: undefined symbol: _ZN5torch3jit17parseSchemaOrNameERKSs\n",
      "  warnings.warn(\n",
      "/data/users/jupyter-dam724/.local/lib/python3.9/site-packages/torch_geometric/typing.py:124: UserWarning: An issue occurred while importing 'torch-sparse'. Disabling its usage. Stacktrace: /data/users/jupyter-dam724/.local/lib/python3.9/site-packages/torch_sparse/_version_cuda.so: undefined symbol: _ZN5torch3jit17parseSchemaOrNameERKSs\n",
      "  warnings.warn(f\"An issue occurred while importing 'torch-sparse'. \"\n"
     ]
    }
   ],
   "source": [
    "import torch\n",
    "from torch_geometric.data import Data\n",
    "import numpy as np\n",
    "import scipy.linalg as la\n",
    "import scipy.sparse.linalg as spla\n",
    "import scipy \n",
    "import scipy.sparse as sp\n",
    "import matplotlib.pyplot as plt\n",
    "from torch_geometric.nn import GATConv\n",
    "import torch.nn as nn"
   ]
  },
  {
   "cell_type": "markdown",
   "id": "4aa5e0ce-398e-42a7-bdb7-9019054b04b0",
   "metadata": {},
   "source": [
    "# Dataset Generation\n",
    "\n",
    "Helper functions to generate the dataset."
   ]
  },
  {
   "cell_type": "code",
   "execution_count": 7,
   "id": "1e12bc01-d905-4453-95e5-0daec72a72d7",
   "metadata": {},
   "outputs": [],
   "source": [
    "def generate_random_helmholtz(n, density=0.001):\n",
    "    L = 1.0\n",
    "    k = np.random.uniform(10, 200)  # Random wavenumber\n",
    "    h = L / (n - 1)  \n",
    "\n",
    "    # Discretization of Helmholtz operator (1D)\n",
    "    diagonals = [np.ones(n-1), -2*np.ones(n), np.ones(n-1)]\n",
    "\n",
    "    helmholtz = sp.diags(diagonals, [-1, 0, 1]) / h**2 + k**2 * sp.eye(n)\n",
    "\n",
    "    # Ensure no perturbations on the tridiagnonal\n",
    "    perturb = sp.random(n, n, density=density) * np.max(helmholtz)\n",
    "    perturb.setdiag(0)\n",
    "    \n",
    "    for i in [-1, 1]:  \n",
    "        diag_indices = np.arange(max(0, -i), min(n, n - i)) \n",
    "        perturb[diag_indices, diag_indices + i] = 0\n",
    "        \n",
    "    return helmholtz + perturb"
   ]
  },
  {
   "cell_type": "code",
   "execution_count": 8,
   "id": "ec0af5cc-8dd5-4136-ab5f-e69470860155",
   "metadata": {},
   "outputs": [],
   "source": [
    "def test_singularity(mat):\n",
    "    det_mat = np.linalg.det(mat)\n",
    "\n",
    "    if np.isclose(det_mat, 0):\n",
    "        print(\"Matrix is singular.\")\n",
    "        return False\n",
    "        \n",
    "    rank_mat = np.linalg.matrix_rank(mat)\n",
    "    if rank_mat < mat.shape[0]:\n",
    "        print(\"Matrix is singular.\")\n",
    "        return False\n",
    "    \n",
    "    print(\"Matrix is non-singular.\")\n",
    "        \n",
    "    return True"
   ]
  },
  {
   "cell_type": "code",
   "execution_count": 9,
   "id": "c2bb289b-5ae6-43ee-bc09-5401b38d7500",
   "metadata": {},
   "outputs": [],
   "source": [
    "def get_sparsity(mat):\n",
    "    return ((mat != 0).sum() / (mat.shape[0] * mat.shape[0]))"
   ]
  },
  {
   "cell_type": "code",
   "execution_count": 10,
   "id": "b13fa00f-8c69-4c38-9224-db7308270dbf",
   "metadata": {},
   "outputs": [],
   "source": [
    "def get_condition(mat):\n",
    "    return np.linalg.cond(mat)"
   ]
  },
  {
   "cell_type": "markdown",
   "id": "7a0c987f-2531-40cc-80a5-21f79b72610f",
   "metadata": {},
   "source": [
    "*Sanity check 01.*"
   ]
  },
  {
   "cell_type": "code",
   "execution_count": 12,
   "id": "69c1c8a1-ff5e-4c4c-9588-a1fbae22d962",
   "metadata": {},
   "outputs": [
    {
     "name": "stdout",
     "output_type": "stream",
     "text": [
      "22831.35326172067\n",
      "0.8959999999999999%\n",
      "Matrix is non-singular.\n"
     ]
    },
    {
     "data": {
      "image/png": "[encoded data removed]",
      "text/plain": [
       "<Figure size 480x480 with 1 Axes>"
      ]
     },
     "metadata": {},
     "output_type": "display_data"
    }
   ],
   "source": [
    "mat = generate_random_helmholtz(500).toarray()\n",
    "\n",
    "_ = plt.matshow(mat, cmap='gray')\n",
    "print(get_condition(mat))\n",
    "print(f'{get_sparsity(mat)*100}%')\n",
    "_ = test_singularity(mat)"
   ]
  },
  {
   "cell_type": "code",
   "execution_count": 16,
   "id": "29832aa0-cf00-45a2-8441-3b4cc68d0595",
   "metadata": {},
   "outputs": [],
   "source": [
    "mattorch = torch.from_numpy(mat)"
   ]
  },
  {
   "cell_type": "markdown",
   "id": "844e2024-8208-4357-8ee8-5904954719bb",
   "metadata": {},
   "source": [
    "# Data Representation\n",
    "\n",
    "Different ways to represent data in graphical context.\n",
    "\n",
    "## Edge List (Adjacency Matrix)\n",
    "\n",
    "Edge Index: List of the nonzero connections between nodes.\n",
    "\n",
    "Edge Weights: Weight of the direction node connection.\n",
    "\n",
    "Uses $\\text{dense_to_sparse}(\\cdot)$ helper function."
   ]
  },
  {
   "cell_type": "code",
   "execution_count": 13,
   "id": "95b40957-67dc-44c8-a447-f853a929ce30",
   "metadata": {},
   "outputs": [],
   "source": [
    "from torch_geometric.utils import dense_to_sparse"
   ]
  },
  {
   "cell_type": "code",
   "execution_count": 38,
   "id": "73250b25-c832-4fe1-8a78-47a5ef0e904a",
   "metadata": {},
   "outputs": [],
   "source": [
    "edge_index, edge_weight = dense_to_sparse(mattorch)\n",
    "graph_data_edge = Data(edge_index=edge_index, edge_attr=edge_weights)"
   ]
  },
  {
   "cell_type": "code",
   "execution_count": 39,
   "id": "18e111ba-8ef4-4b74-a977-345c87dc2760",
   "metadata": {},
   "outputs": [
    {
     "name": "stdout",
     "output_type": "stream",
     "text": [
      "Edge Index:\n",
      " tensor([[  0,   0,   0,  ..., 498, 499, 499],\n",
      "        [  0,   1,  61,  ..., 499, 498, 499]]) torch.Size([2, 2240])\n",
      "Edge Weights:\n",
      " tensor([-458299.5256,  249001.0000,  213863.2464,  ...,  249001.0000,\n",
      "         249001.0000, -458299.5256], dtype=torch.float64) torch.Size([2240])\n"
     ]
    }
   ],
   "source": [
    "print(\"Edge Index:\\n\", graph_data_edge.edge_index, graph_data_edge.edge_index.shape)\n",
    "print(\"Edge Weights:\\n\", graph_data_edge.edge_attr, graph_data_edge.edge_attr.shape)"
   ]
  },
  {
   "cell_type": "markdown",
   "id": "bfca0a00-0702-4b02-afe1-ea59b699607e",
   "metadata": {},
   "source": [
    "## Edge List (Explicit)\n",
    "\n",
    "Same thing as above but with explicit calculations."
   ]
  },
  {
   "cell_type": "code",
   "execution_count": 40,
   "id": "a8406c36-c03e-4c25-93be-5457560ff9c2",
   "metadata": {},
   "outputs": [],
   "source": [
    "source_nodes, target_nodes = mattorch.nonzero(as_tuple=True)\n",
    "edge_weights = mattorch[source_nodes, target_nodes]\n",
    "edge_index = torch.stack([source_nodes, target_nodes], dim=0)"
   ]
  },
  {
   "cell_type": "code",
   "execution_count": 41,
   "id": "a4dde0a3-f4fa-4d07-aac2-e5e9b7504d85",
   "metadata": {},
   "outputs": [
    {
     "name": "stdout",
     "output_type": "stream",
     "text": [
      "Edge Index:\n",
      " tensor([[  0,   0,   0,  ..., 498, 499, 499],\n",
      "        [  0,   1,  61,  ..., 499, 498, 499]]) torch.Size([2, 2240])\n",
      "Edge Weights:\n",
      " tensor([-458299.5256,  249001.0000,  213863.2464,  ...,  249001.0000,\n",
      "         249001.0000, -458299.5256], dtype=torch.float64) torch.Size([2240])\n"
     ]
    }
   ],
   "source": [
    "print(\"Edge Index:\\n\", edge_index, edge_index.shape)\n",
    "print(\"Edge Weights:\\n\", edge_weight, edge_weight.shape)"
   ]
  },
  {
   "cell_type": "markdown",
   "id": "93097962-98df-4652-b5bb-4608a1b02fb2",
   "metadata": {},
   "source": [
    "## Nodes + Edges\n",
    "\n",
    "Node Feature Vectors: Each column (node) has a corresponding feature vector.\n",
    "\n",
    "Edge Index: What connects to what.\n",
    "\n",
    "Edge Weights: The weight of those connections."
   ]
  },
  {
   "cell_type": "code",
   "execution_count": 96,
   "id": "ff074562-5c8c-4131-b10b-066d0d4e4747",
   "metadata": {},
   "outputs": [],
   "source": [
    "node_features = mattorch"
   ]
  },
  {
   "cell_type": "code",
   "execution_count": 97,
   "id": "bdae5f14-104f-491a-b14f-da60994f0f26",
   "metadata": {},
   "outputs": [],
   "source": [
    "source_nodes, target_nodes = mattorch.nonzero(as_tuple=True)\n",
    "edge_index = torch.stack([source_nodes, target_nodes], dim=0)\n",
    "edge_weights = mattorch[source_nodes, target_nodes]"
   ]
  },
  {
   "cell_type": "code",
   "execution_count": 98,
   "id": "c6b74f65-90f6-486e-ad97-bc445684d014",
   "metadata": {},
   "outputs": [],
   "source": [
    "graph_data_node_edge = Data(x=node_features, edge_index=edge_index, edge_attr=edge_weights)"
   ]
  },
  {
   "cell_type": "code",
   "execution_count": 99,
   "id": "6d9c0bef-fe25-4cf8-8dd3-8d9db7a65406",
   "metadata": {},
   "outputs": [
    {
     "name": "stdout",
     "output_type": "stream",
     "text": [
      "Node Features:\n",
      " tensor([[-458299.5256,  249001.0000,       0.0000,  ...,       0.0000,\n",
      "               0.0000,       0.0000],\n",
      "        [ 249001.0000, -458299.5256,  249001.0000,  ...,       0.0000,\n",
      "               0.0000,       0.0000],\n",
      "        [      0.0000,  249001.0000, -458299.5256,  ...,       0.0000,\n",
      "               0.0000,       0.0000],\n",
      "        ...,\n",
      "        [      0.0000,       0.0000,       0.0000,  ..., -458299.5256,\n",
      "          249001.0000,       0.0000],\n",
      "        [      0.0000,       0.0000,       0.0000,  ...,  249001.0000,\n",
      "         -458299.5256,  249001.0000],\n",
      "        [      0.0000,       0.0000,       0.0000,  ...,       0.0000,\n",
      "          249001.0000, -458299.5256]], dtype=torch.float64) torch.Size([500, 500])\n",
      "Edge Index:\n",
      " tensor([[  0,   0,   0,  ..., 498, 499, 499],\n",
      "        [  0,   1,  61,  ..., 499, 498, 499]]) torch.Size([2, 2240])\n",
      "Edge Weights (Edge Attributes):\n",
      " tensor([-458299.5256,  249001.0000,  213863.2464,  ...,  249001.0000,\n",
      "         249001.0000, -458299.5256], dtype=torch.float64) torch.Size([2240])\n"
     ]
    }
   ],
   "source": [
    "print(\"Node Features:\\n\", graph_data_node_edge.x, graph_data_node_edge.x.shape)\n",
    "print(\"Edge Index:\\n\", graph_data_node_edge.edge_index, graph_data_node_edge.edge_index.shape)\n",
    "print(\"Edge Weights (Edge Attributes):\\n\", graph_data_node_edge.edge_attr, graph_data_node_edge.edge_attr.shape)"
   ]
  },
  {
   "cell_type": "markdown",
   "id": "53ce45d9-0cf3-4373-8fde-e790acee939a",
   "metadata": {},
   "source": [
    "# Graph Datasets\n",
    "\n",
    "Create multiple datasets to test effectiveness of graph representations.\n",
    "\n",
    "## Helper Functions\n",
    "\n",
    "Functions to preprocess data."
   ]
  },
  {
   "cell_type": "code",
   "execution_count": 110,
   "id": "eb3b6099-5534-490a-8f92-72dbd22cb670",
   "metadata": {},
   "outputs": [],
   "source": [
    "def normalize_features(graph_data):\n",
    "    x_min = graph_data.x.min()\n",
    "    x_max = graph_data.x.max()\n",
    "    out = (graph_data.x - x_min) / (x_max - x_min + 1e-8)\n",
    "    return out.float()\n",
    "\n",
    "def normalize_edge_attr(graph_data):\n",
    "    e_min = graph_data.edge_attr.min()\n",
    "    e_max = graph_data.edge_attr.max()\n",
    "    out = (graph_data.edge_attr - e_min) / (e_max - e_min + 1e-8)\n",
    "    return out.float()"
   ]
  },
  {
   "cell_type": "code",
   "execution_count": 111,
   "id": "0b7ce6eb-ad26-4711-a1bb-ecb6331fb91b",
   "metadata": {},
   "outputs": [
    {
     "data": {
      "text/plain": [
       "tensor([[0.0000, 1.0000, 0.6480,  ..., 0.6480, 0.6480, 0.6480],\n",
       "        [1.0000, 0.0000, 1.0000,  ..., 0.6480, 0.6480, 0.6480],\n",
       "        [0.6480, 1.0000, 0.0000,  ..., 0.6480, 0.6480, 0.6480],\n",
       "        ...,\n",
       "        [0.6480, 0.6480, 0.6480,  ..., 0.0000, 1.0000, 0.6480],\n",
       "        [0.6480, 0.6480, 0.6480,  ..., 1.0000, 0.0000, 1.0000],\n",
       "        [0.6480, 0.6480, 0.6480,  ..., 0.6480, 1.0000, 0.0000]])"
      ]
     },
     "execution_count": 111,
     "metadata": {},
     "output_type": "execute_result"
    }
   ],
   "source": [
    "normalize_features(graph_data_node_edge)"
   ]
  },
  {
   "cell_type": "code",
   "execution_count": 112,
   "id": "2f6616a3-409a-4288-b303-60a18ecf4ce6",
   "metadata": {},
   "outputs": [
    {
     "data": {
      "text/plain": [
       "tensor([0.0000, 1.0000, 0.9503,  ..., 1.0000, 1.0000, 0.0000])"
      ]
     },
     "execution_count": 112,
     "metadata": {},
     "output_type": "execute_result"
    }
   ],
   "source": [
    "normalize_edge_attr(graph_data_node_edge)"
   ]
  },
  {
   "cell_type": "markdown",
   "id": "c0ebf439-8d6e-4935-9782-1bdcc3cfb022",
   "metadata": {},
   "source": [
    "## *(Edge Only)* Dataset\n",
    "\n",
    "Dataset to test *(Edge Only)*. Using batching.\n",
    "\n",
    "*This dataset is not possible from what I have seen. You need some type of node features.*"
   ]
  },
  {
   "cell_type": "markdown",
   "id": "11b3fad2-8d24-4fa4-9584-31fcdd9a8871",
   "metadata": {},
   "source": [
    "## *(Edge + Nodes)* Dataset\n",
    "\n",
    "Dataset to test *(Edge + Nodes)*. Using batching."
   ]
  },
  {
   "cell_type": "code",
   "execution_count": null,
   "id": "16f00816-d3bd-438b-89be-932ef35fe806",
   "metadata": {},
   "outputs": [],
   "source": []
  },
  {
   "cell_type": "code",
   "execution_count": null,
   "id": "3bfc7128-554b-4686-85fc-1e47233b9a7b",
   "metadata": {},
   "outputs": [],
   "source": []
  },
  {
   "cell_type": "code",
   "execution_count": null,
   "id": "739ccd5c-0b17-4ad2-b7d3-133539fa1fb2",
   "metadata": {},
   "outputs": [],
   "source": []
  },
  {
   "cell_type": "code",
   "execution_count": null,
   "id": "3ecbbb4b-a1d9-48ce-8bc1-edce074deb1b",
   "metadata": {},
   "outputs": [],
   "source": []
  },
  {
   "cell_type": "markdown",
   "id": "75b0d8dd-6aaa-4b9a-b92e-c9d403fa69f7",
   "metadata": {},
   "source": [
    "# Objectives\n",
    "\n",
    "Loss functions for networks."
   ]
  },
  {
   "cell_type": "code",
   "execution_count": null,
   "id": "8f9e1642-7fa3-49a9-8612-ae8465550a14",
   "metadata": {},
   "outputs": [],
   "source": []
  },
  {
   "cell_type": "code",
   "execution_count": null,
   "id": "17200a24-3063-455a-86d3-1c9bfc3a848d",
   "metadata": {},
   "outputs": [],
   "source": []
  },
  {
   "cell_type": "code",
   "execution_count": null,
   "id": "c04860f2-c802-4177-9ea6-3d30d9add961",
   "metadata": {},
   "outputs": [],
   "source": []
  },
  {
   "cell_type": "code",
   "execution_count": null,
   "id": "38443cc3-3476-4bbe-87d4-7473be6ed23b",
   "metadata": {},
   "outputs": [],
   "source": []
  },
  {
   "cell_type": "code",
   "execution_count": null,
   "id": "3edb81df-16ea-437a-824f-118ad949110d",
   "metadata": {},
   "outputs": [],
   "source": []
  },
  {
   "cell_type": "markdown",
   "id": "2a62ac91-3267-48b3-b949-380b8f0462c4",
   "metadata": {},
   "source": [
    "# Graph Networks\n",
    "\n",
    "Trying different types of networks.\n",
    "\n",
    "### Notes\n",
    "\n",
    "- Experiment with and w/o \"Edge-Attr\""
   ]
  },
  {
   "cell_type": "markdown",
   "id": "e371c75d-66d0-42e9-9196-2ede8059d677",
   "metadata": {},
   "source": [
    "## Graph Convolutional Network (GCN)\n",
    "\n",
    "Message passing over node features. The **edge-index** and **edge-attr** do not change and indicate strength of the message passing between the nodes."
   ]
  },
  {
   "cell_type": "code",
   "execution_count": 58,
   "id": "23cd8ac8-b374-445a-936e-37bb05856758",
   "metadata": {},
   "outputs": [],
   "source": [
    "from torch_geometric.nn import GCNConv"
   ]
  },
  {
   "cell_type": "code",
   "execution_count": 126,
   "id": "396d7d98-1991-482b-828c-868b47252a79",
   "metadata": {},
   "outputs": [],
   "source": [
    "x = normalize_features(graph_data_node_edge)\n",
    "e_ind = graph_data_node_edge.edge_index.int()\n",
    "e_attr = normalize_edge_attr(graph_data_node_edge)"
   ]
  },
  {
   "cell_type": "code",
   "execution_count": 143,
   "id": "bda6b3ca-2dd3-43ec-a753-3b9dbb0683eb",
   "metadata": {},
   "outputs": [],
   "source": [
    "class GCN(torch.nn.Module):\n",
    "    def __init__(self, in_channels=500, out_channels=500, l1_lambda=1e-1):\n",
    "        super().__init__()\n",
    "        \n",
    "        self.l1_lambda = l1_lambda\n",
    "\n",
    "        self.conv1 = GCNConv(in_channels, 100)\n",
    "        self.conv2 = GCNConv(100, 200)\n",
    "        self.conv3 = GCNConv(200, out_channels)\n",
    "        self.tanh = nn.Tanh()\n",
    "        \n",
    "    def forward(self, x, edge_index, edge_attr):\n",
    "        h = self.conv1(x=x, edge_index=edge_index, edge_weight=edge_attr)\n",
    "        h = self.tanh(h)\n",
    "        h = self.conv2(x=h, edge_index=edge_index, edge_weight=edge_attr)\n",
    "        h = self.tanh(h)\n",
    "        h = self.conv3(x=h, edge_index=edge_index, edge_weight=edge_attr)\n",
    "        h = self.tanh(h)  \n",
    "                    \n",
    "        return h, self.l1_lambda * torch.norm(h, p=1) # l1 regularizaition ? (promote sparsity)"
   ]
  },
  {
   "cell_type": "code",
   "execution_count": 144,
   "id": "f28f3dc1-0760-4acd-abe8-aa5756fa10f5",
   "metadata": {},
   "outputs": [],
   "source": [
    "GCN = GCN()"
   ]
  },
  {
   "cell_type": "code",
   "execution_count": 145,
   "id": "b1b84daf-63e7-4ca0-9ac0-8076aec8898a",
   "metadata": {},
   "outputs": [
    {
     "data": {
      "text/plain": [
       "(tensor([[-0.2255,  0.4053, -0.0706,  ..., -0.0905,  0.2175, -0.0724],\n",
       "         [-0.3435,  0.5869, -0.1303,  ..., -0.1548,  0.3677, -0.1241],\n",
       "         [-0.3589,  0.5994, -0.1071,  ..., -0.1428,  0.3593, -0.1242],\n",
       "         ...,\n",
       "         [-0.2908,  0.5386, -0.1254,  ..., -0.1691,  0.3237, -0.1106],\n",
       "         [-0.3784,  0.5766, -0.1158,  ..., -0.1152,  0.3539, -0.1181],\n",
       "         [-0.2146,  0.4160, -0.0895,  ..., -0.1274,  0.2369, -0.0775]],\n",
       "        grad_fn=<TanhBackward0>),\n",
       " tensor(5543.6929, grad_fn=<MulBackward0>))"
      ]
     },
     "execution_count": 145,
     "metadata": {},
     "output_type": "execute_result"
    }
   ],
   "source": [
    "GCN(x, e_ind, e_attr)"
   ]
  },
  {
   "cell_type": "markdown",
   "id": "75d998ce-2336-4549-89be-052efacfca39",
   "metadata": {},
   "source": [
    "## Graph Attention Network (GAT)\n",
    "\n",
    "..."
   ]
  },
  {
   "cell_type": "code",
   "execution_count": 146,
   "id": "3ca73609-28a9-4876-8426-f2666814fa10",
   "metadata": {},
   "outputs": [],
   "source": [
    "from torch_geometric.nn import GATConv"
   ]
  },
  {
   "cell_type": "code",
   "execution_count": 189,
   "id": "8e1b5deb-165d-44cd-a9fb-b9043ea5711f",
   "metadata": {},
   "outputs": [],
   "source": [
    "class GAT(nn.Module):\n",
    "    def __init__(self, in_channels=500, out_channels=500, l1_lambda=1e-1):\n",
    "        super().__init__()\n",
    "        \n",
    "        self.l1_lambda = l1_lambda\n",
    "        \n",
    "        self.conv1 = GATConv(500, 100, heads=1, dropout=0.25)\n",
    "        self.conv2 = GATConv(100, 200, heads=3, dropout=0.25) # (heads * outchannels)\n",
    "        self.conv3 = GATConv(600, 500, heads=1)\n",
    "        \n",
    "        self.tanh = nn.Tanh()\n",
    "\n",
    "    def forward(self, x, edge_index, edge_attr):\n",
    "        h = self.conv1(x=x, edge_index=edge_index, edge_attr=edge_attr)\n",
    "        h = self.tanh(h)\n",
    "        h = self.conv2(x=h, edge_index=edge_index, edge_attr=edge_attr)\n",
    "        h = self.tanh(h)\n",
    "        h = self.conv3(x=h, edge_index=edge_index, edge_attr=edge_attr)\n",
    "        h = self.tanh(h)  \n",
    "                    \n",
    "        return h, self.l1_lambda * torch.norm(h, p=1) # l1 regularizaition ? (promote sparsity)|"
   ]
  },
  {
   "cell_type": "code",
   "execution_count": 190,
   "id": "b28e3f2b-9e29-42c5-8b4f-730377f3eaca",
   "metadata": {},
   "outputs": [],
   "source": [
    "gat = GAT()"
   ]
  },
  {
   "cell_type": "code",
   "execution_count": 191,
   "id": "7c5ce38f-09f3-457f-bfbc-8b9dc1b7aa17",
   "metadata": {},
   "outputs": [
    {
     "data": {
      "text/plain": [
       "(tensor([[ 0.2824, -0.3640, -0.3375,  ..., -0.0515, -0.4371,  0.1734],\n",
       "         [ 0.2822, -0.3651, -0.3312,  ..., -0.0519, -0.4339,  0.1657],\n",
       "         [ 0.2649, -0.3583, -0.3181,  ..., -0.0529, -0.4097,  0.1417],\n",
       "         ...,\n",
       "         [ 0.3161, -0.4035, -0.2785,  ..., -0.1107, -0.4286,  0.1960],\n",
       "         [ 0.3163, -0.3921, -0.2705,  ..., -0.1088, -0.3910,  0.1749],\n",
       "         [ 0.2774, -0.3769, -0.2996,  ..., -0.0743, -0.3669,  0.1291]],\n",
       "        grad_fn=<TanhBackward0>),\n",
       " tensor(5558.5483, grad_fn=<MulBackward0>))"
      ]
     },
     "execution_count": 191,
     "metadata": {},
     "output_type": "execute_result"
    }
   ],
   "source": [
    "gat(x, e_ind.to(torch.int64), e_attr)"
   ]
  },
  {
   "cell_type": "code",
   "execution_count": null,
   "id": "a1523b21-7eee-44e8-ade5-a7f03fd3b225",
   "metadata": {},
   "outputs": [],
   "source": []
  },
  {
   "cell_type": "markdown",
   "id": "53c7a5eb-1ad1-4c65-9408-0fdd9910beb7",
   "metadata": {},
   "source": [
    "## Graph Transformer (TransformerConv)\n",
    "\n",
    "..."
   ]
  },
  {
   "cell_type": "code",
   "execution_count": 148,
   "id": "82efd023-7825-4ff3-84ab-121233e04242",
   "metadata": {},
   "outputs": [],
   "source": [
    "from torch_geometric.nn import TransformerConv"
   ]
  },
  {
   "cell_type": "code",
   "execution_count": null,
   "id": "edf8edc1-2d5f-45ad-bb53-f1b91f0d743b",
   "metadata": {},
   "outputs": [],
   "source": []
  },
  {
   "cell_type": "code",
   "execution_count": null,
   "id": "38745e2d-2e8a-429b-a9bc-e912292a96fe",
   "metadata": {},
   "outputs": [],
   "source": []
  },
  {
   "cell_type": "code",
   "execution_count": null,
   "id": "56da789f-c7ee-43a8-ab5e-1da20c5afdca",
   "metadata": {},
   "outputs": [],
   "source": []
  },
  {
   "cell_type": "markdown",
   "id": "d414ef48-a7fd-4aef-a5b5-07e236b2d29a",
   "metadata": {},
   "source": [
    "## Chebyshev Spectral Graph Convolutional Operator (ChebConv)\n",
    "\n",
    "..."
   ]
  },
  {
   "cell_type": "code",
   "execution_count": 147,
   "id": "13cb9de2-bd0a-4e6a-8b5e-8c980ef7c13a",
   "metadata": {},
   "outputs": [],
   "source": [
    "from torch_geometric.nn import ChebConv"
   ]
  },
  {
   "cell_type": "code",
   "execution_count": null,
   "id": "cf61167f-f7f5-4e45-9ecf-145940f50a07",
   "metadata": {},
   "outputs": [],
   "source": []
  },
  {
   "cell_type": "code",
   "execution_count": null,
   "id": "f1415a44-6620-40eb-8947-7ff7f7fdb559",
   "metadata": {},
   "outputs": [],
   "source": []
  },
  {
   "cell_type": "code",
   "execution_count": null,
   "id": "49f43d77-439e-4eeb-b004-d4222fd2c171",
   "metadata": {},
   "outputs": [],
   "source": []
  },
  {
   "cell_type": "code",
   "execution_count": null,
   "id": "ced6a6ae-fee7-4041-8693-7ceec235f27a",
   "metadata": {},
   "outputs": [],
   "source": []
  }
 ],
 "metadata": {
  "kernelspec": {
   "display_name": "Python 3 (ipykernel)",
   "language": "python",
   "name": "python3"
  },
  "language_info": {
   "codemirror_mode": {
    "name": "ipython",
    "version": 3
   },
   "file_extension": ".py",
   "mimetype": "text/x-python",
   "name": "python",
   "nbconvert_exporter": "python",
   "pygments_lexer": "ipython3",
   "version": "3.9.7"
  }
 },
 "nbformat": 4,
 "nbformat_minor": 5
}
