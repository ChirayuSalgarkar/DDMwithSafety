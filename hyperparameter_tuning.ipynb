{
 "cells": [
  {
   "cell_type": "markdown",
   "id": "7ea5fbe9-5a1d-462f-8e13-c33f2b87775a",
   "metadata": {},
   "source": [
    "# HyperParameter Tuning\n",
    "\n",
    "This notebook serves to show the hyperparameter tuning process.\n",
    "\n",
    "## TODO\n",
    "1. Alot."
   ]
  },
  {
   "cell_type": "markdown",
   "id": "06907b55-ec48-485a-8575-ec456bf54933",
   "metadata": {},
   "source": [
    "# Imports/Setups"
   ]
  },
  {
   "cell_type": "code",
   "execution_count": null,
   "id": "c11c1a92-d90f-47f6-bc2a-0c742ddc862c",
   "metadata": {},
   "outputs": [],
   "source": []
  },
  {
   "cell_type": "code",
   "execution_count": null,
   "id": "608c42ba-5aaa-4fcb-92ca-d7bc5879519d",
   "metadata": {},
   "outputs": [],
   "source": []
  },
  {
   "cell_type": "code",
   "execution_count": null,
   "id": "526f958b-54a3-4939-8594-a1d80fd175c0",
   "metadata": {},
   "outputs": [],
   "source": []
  },
  {
   "cell_type": "code",
   "execution_count": null,
   "id": "fadb8dcb-bab6-4730-a358-98f5128f569f",
   "metadata": {},
   "outputs": [],
   "source": []
  },
  {
   "cell_type": "code",
   "execution_count": null,
   "id": "74644905-204c-4164-8222-89919e6f761a",
   "metadata": {},
   "outputs": [],
   "source": []
  },
  {
   "cell_type": "code",
   "execution_count": null,
   "id": "16ab661c-478f-453d-b7f6-0ee1b98a71ce",
   "metadata": {},
   "outputs": [],
   "source": []
  },
  {
   "cell_type": "code",
   "execution_count": null,
   "id": "1c6a21f7-54af-4704-8f8b-c1a9c2d0b547",
   "metadata": {},
   "outputs": [],
   "source": []
  }
 ],
 "metadata": {
  "kernelspec": {
   "display_name": "Python 3 (ipykernel)",
   "language": "python",
   "name": "python3"
  },
  "language_info": {
   "codemirror_mode": {
    "name": "ipython",
    "version": 3
   },
   "file_extension": ".py",
   "mimetype": "text/x-python",
   "name": "python",
   "nbconvert_exporter": "python",
   "pygments_lexer": "ipython3",
   "version": "3.9.7"
  }
 },
 "nbformat": 4,
 "nbformat_minor": 5
}
