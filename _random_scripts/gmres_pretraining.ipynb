{
 "cells": [
  {
   "cell_type": "markdown",
   "id": "d602e0ee-11c3-4dc8-8b11-a1b764a75d6b",
   "metadata": {},
   "source": [
    "# Summary\n",
    "\n",
    "Milestone 3 of reinforcement learning project. Notebook to get a GMRES that (1) works on GPU and (2) works with batched data.\n",
    "\n",
    "## TODO\n",
    "\n",
    "1. Finish testing.\n",
    "2. Setup dataset from other notebook.\n",
    "3. Integrate the GPU GMRES with the loss to see how much a single step will cost.\n",
    "4. Improve loss from Milestone 2.\n",
    "    1. Vectorize it.\n",
    "    2. Additional terms for sparsity?\n",
    "5. Begin to pretrain actor.\n",
    "    1. First experiment with models.\n",
    "        1. Minimize eye_dist.\n",
    "        2. Try different layers.\n",
    "        3. Try edge prediction. \n",
    "        4. REALLY TRY TO GET SPARSITY. (Log-sum penalty) ?\n",
    "    2. Anything that works, store in a python file.\n",
    "    3. Build out a python file that has models that have worked.\n",
    "    4. Make sure to save weights and successfully plots to /Weights and /Plots\n",
    "6. Train just on small (results).\n",
    "7. Train just on large (results).\n",
    "8. Train SMALLER -> freeze middle -> finetune on large.\n",
    "9. If SMALLER -> LARGER leads to shorter training times and >= results, include as a novelty presented in paper (like many PDE discretization techniques, it is common to control the size, we found results that suggest that the model can generalize well to smaller discretization spaces and be applied effectively to larger state spaces)."
   ]
  },
  {
   "cell_type": "markdown",
   "id": "10aa0577-82ac-4284-b98c-ae00a1ba75e7",
   "metadata": {},
   "source": [
    "# Dataset\n",
    "\n",
    "Same helmholtz dataset from milestone 2."
   ]
  },
  {
   "cell_type": "code",
   "execution_count": 1,
   "id": "c11ca998-fcad-40e9-ae16-c01323c74429",
   "metadata": {},
   "outputs": [
    {
     "name": "stderr",
     "output_type": "stream",
     "text": [
      "/data/users/jupyter-dam724/.local/lib/python3.9/site-packages/torch_geometric/typing.py:68: UserWarning: An issue occurred while importing 'pyg-lib'. Disabling its usage. Stacktrace: /data/users/jupyter-dam724/.local/lib/python3.9/site-packages/libpyg.so: undefined symbol: _ZN3c1010Dispatcher17runRecordFunctionERN2at14RecordFunctionESt17reference_wrapperIKNS_14FunctionSchemaEENS_11DispatchKeyE\n",
      "  warnings.warn(f\"An issue occurred while importing 'pyg-lib'. \"\n",
      "/data/users/jupyter-dam724/.local/lib/python3.9/site-packages/torch_geometric/typing.py:97: UserWarning: An issue occurred while importing 'torch-cluster'. Disabling its usage. Stacktrace: /data/users/jupyter-dam724/.local/lib/python3.9/site-packages/torch_cluster/_version_cuda.so: undefined symbol: _ZN5torch3jit17parseSchemaOrNameERKSs\n",
      "  warnings.warn(f\"An issue occurred while importing 'torch-cluster'. \"\n",
      "/data/users/jupyter-dam724/.local/lib/python3.9/site-packages/torch_geometric/typing.py:113: UserWarning: An issue occurred while importing 'torch-spline-conv'. Disabling its usage. Stacktrace: /data/users/jupyter-dam724/.local/lib/python3.9/site-packages/torch_spline_conv/_version_cuda.so: undefined symbol: _ZN5torch3jit17parseSchemaOrNameERKSs\n",
      "  warnings.warn(\n",
      "/data/users/jupyter-dam724/.local/lib/python3.9/site-packages/torch_geometric/typing.py:124: UserWarning: An issue occurred while importing 'torch-sparse'. Disabling its usage. Stacktrace: /data/users/jupyter-dam724/.local/lib/python3.9/site-packages/torch_sparse/_version_cuda.so: undefined symbol: _ZN5torch3jit17parseSchemaOrNameERKSs\n",
      "  warnings.warn(f\"An issue occurred while importing 'torch-sparse'. \"\n"
     ]
    }
   ],
   "source": [
    "from torch_geometric.data import Dataset, Data\n",
    "from torch_geometric.loader import DataLoader\n",
    "from torch_geometric.utils import dense_to_sparse\n",
    "import numpy as np\n",
    "import scipy.sparse as sp\n",
    "import scipy.sparse.linalg as spla\n",
    "import torch"
   ]
  },
  {
   "cell_type": "code",
   "execution_count": 45,
   "id": "a7882a5a-fe31-4ee0-9398-f2f8d28bedd4",
   "metadata": {},
   "outputs": [],
   "source": [
    "def generate_random_helmholtz(n, density=0.1):\n",
    "    L = 1.0\n",
    "    k = np.random.uniform(1, 2)  # Random wavenumber\n",
    "    h = L / (n - 1)  \n",
    "\n",
    "    # Discretization of Helmholtz operator (1D)\n",
    "    diagonals = [np.ones(n-1), -2*np.ones(n), np.ones(n-1)]\n",
    "\n",
    "    helmholtz = sp.diags(diagonals, [-1, 0, 1]) / h**2 + k**2 * sp.eye(n)\n",
    "\n",
    "    # Ensure no perturbations on the tridiagnonal\n",
    "    perturb = sp.random(n, n, density=density) * np.max(helmholtz)\n",
    "    \n",
    "    perturb.setdiag(0)  # Main diagonal\n",
    "    perturb.setdiag(0, k=1)  # First upper diagonal\n",
    "    perturb.setdiag(0, k=-1)  # First lower diagonal\n",
    "        \n",
    "    return helmholtz+perturb"
   ]
  },
  {
   "cell_type": "code",
   "execution_count": 46,
   "id": "ef3dfb36-cfa2-4242-bfc7-f51ac64e2a4a",
   "metadata": {},
   "outputs": [],
   "source": [
    "def test_singularity(mat):\n",
    "    det_mat = np.linalg.det(mat)\n",
    "    print(det_mat)\n",
    "\n",
    "    if np.isclose(det_mat, 0):\n",
    "        print(\"Matrix is singular.\")\n",
    "        return False\n",
    "        \n",
    "    rank_mat = np.linalg.matrix_rank(mat)\n",
    "    if rank_mat < mat.shape[0]:\n",
    "        print(\"Matrix is singular.\")\n",
    "        return False\n",
    "    \n",
    "    print(\"Matrix is non-singular.\")\n",
    "        \n",
    "    return True"
   ]
  },
  {
   "cell_type": "code",
   "execution_count": 50,
   "id": "92577d95-64c0-4cab-ae8d-6b3bc1eeaa35",
   "metadata": {},
   "outputs": [
    {
     "name": "stdout",
     "output_type": "stream",
     "text": [
      "-9.440187e-07\n",
      "Matrix is non-singular.\n"
     ]
    },
    {
     "data": {
      "text/plain": [
       "True"
      ]
     },
     "execution_count": 50,
     "metadata": {},
     "output_type": "execute_result"
    }
   ],
   "source": [
    "test_singularity(normalize_features(torch.from_numpy(generate_random_helmholtz(20).toarray())))"
   ]
  },
  {
   "cell_type": "code",
   "execution_count": null,
   "id": "698d4e28-350f-4765-82fe-96427efdb5ae",
   "metadata": {},
   "outputs": [
    {
     "name": "stdout",
     "output_type": "stream",
     "text": [
      "tensor(934.8749)\n"
     ]
    }
   ],
   "source": [
    "u, s, v = torch.svd(normalize_features(torch.from_numpy(generate_random_helmholtz(20).toarray())))\n",
    "\n",
    "# Condition number: ratio of largest to smallest singular value\n",
    "condition_number = s.max() / s.min()\n",
    "print(condition_number)"
   ]
  },
  {
   "cell_type": "code",
   "execution_count": 51,
   "id": "9726f166-d3bd-4a1b-870d-24c78432b81a",
   "metadata": {},
   "outputs": [],
   "source": [
    "import matplotlib.pyplot as plt"
   ]
  },
  {
   "cell_type": "code",
   "execution_count": 52,
   "id": "74d0da70-ab11-4338-8dc4-c3799d77500b",
   "metadata": {},
   "outputs": [
    {
     "data": {
      "text/plain": [
       "<matplotlib.image.AxesImage at 0x7f7c35874700>"
      ]
     },
     "execution_count": 52,
     "metadata": {},
     "output_type": "execute_result"
    },
    {
     "data": {
      "image/png": "[encoded data removed]",
      "text/plain": [
       "<Figure size 480x480 with 1 Axes>"
      ]
     },
     "metadata": {},
     "output_type": "display_data"
    }
   ],
   "source": [
    "plt.matshow(normalize_features(torch.from_numpy(generate_random_helmholtz(20).toarray())))"
   ]
  },
  {
   "cell_type": "code",
   "execution_count": 7,
   "id": "eccbacf1-b35c-4991-9d2f-71e45b43e7b3",
   "metadata": {},
   "outputs": [],
   "source": [
    "def normalize_features(graph_data):\n",
    "    x_min = graph_data.min()\n",
    "    x_max = graph_data.max()\n",
    "    out = (graph_data - x_min) / (x_max - x_min + 1e-8)\n",
    "    return out.float()\n",
    "\n",
    "def normalize_edge_attr(graph_data):\n",
    "    e_min = graph_data.min()\n",
    "    e_max = graph_data.max()\n",
    "    out = (graph_data - e_min) / (e_max - e_min + 1e-8)\n",
    "    return out.float()"
   ]
  },
  {
   "cell_type": "code",
   "execution_count": 145,
   "id": "c216aa77-3dcc-4661-902a-e80b980cbbd0",
   "metadata": {},
   "outputs": [],
   "source": [
    "class HelmHoltzDataset(Dataset):\n",
    "    def __init__(self, generator, checker, norm_feat, norm_edge, epoch_len, size=500, density=0.001, transform=None):\n",
    "        super().__init__(None, transform)\n",
    "        \n",
    "        self.epoch_len = epoch_len\n",
    "        self.mat_size = size\n",
    "        self.mat_density = density\n",
    "        \n",
    "        self.generator = generator\n",
    "        self.checker = checker\n",
    "        \n",
    "        self.norm_features = norm_feat\n",
    "        self.norm_edge_attr = norm_edge\n",
    "\n",
    "    def len(self):\n",
    "        return self.epoch_len\n",
    "\n",
    "    def get(self, idx):\n",
    "        mat = self.generator(self.mat_size, self.mat_density)\n",
    "        \n",
    "        source_nodes, target_nodes = mat.nonzero()\n",
    "        \n",
    "        mat = torch.from_numpy(mat.toarray())\n",
    "        source_nodes = torch.from_numpy(source_nodes)\n",
    "        target_nodes = torch.from_numpy(target_nodes)\n",
    "        \n",
    "        edge_weights = mat[source_nodes, target_nodes]\n",
    "        edge_index = torch.stack([source_nodes, target_nodes], dim=0).to(torch.int64)\n",
    "        \n",
    "        node_features = mat.float()\n",
    "        edge_weights = self.norm_edge_attr(edge_weights)\n",
    "\n",
    "        data = Data(x=node_features, edge_index=edge_index, edge_attr=edge_weights)\n",
    "        return data"
   ]
  },
  {
   "cell_type": "code",
   "execution_count": 146,
   "id": "cc2aa68b-2272-463e-a6c4-47b7f81f6599",
   "metadata": {},
   "outputs": [],
   "source": [
    "dataset = HelmHoltzDataset(generate_random_helmholtz, test_singularity, normalize_features, normalize_edge_attr, 64*1000)\n",
    "vdataset = HelmHoltzDataset(generate_random_helmholtz, test_singularity, normalize_features, normalize_edge_attr, 64*100)"
   ]
  },
  {
   "cell_type": "code",
   "execution_count": 147,
   "id": "39e31575-7465-4257-9f59-9bf5258d0187",
   "metadata": {},
   "outputs": [],
   "source": [
    "dataloader = DataLoader(dataset, batch_size=1, shuffle=True)\n",
    "vdataloader = DataLoader(vdataset, batch_size=1, shuffle=True)"
   ]
  },
  {
   "cell_type": "code",
   "execution_count": 148,
   "id": "3f0c5de5-3c21-4461-af27-51a405f64137",
   "metadata": {},
   "outputs": [
    {
     "data": {
      "text/plain": [
       "DataBatch(x=[500, 500], edge_index=[2, 2241], edge_attr=[2241], batch=[500], ptr=[2])"
      ]
     },
     "execution_count": 148,
     "metadata": {},
     "output_type": "execute_result"
    }
   ],
   "source": [
    "next(iter(dataloader))"
   ]
  },
  {
   "cell_type": "markdown",
   "id": "7f1d6544-94dc-4b46-a5b1-8635215142f6",
   "metadata": {},
   "source": [
    "# GPU-GMRES\n",
    "\n",
    "Computes GMRES solvers. Possibly get it to work with batches but I gave up.\n",
    "\n",
    "Authored by https://github.com/devzhk/Pytorch-linalg "
   ]
  },
  {
   "cell_type": "code",
   "execution_count": 18,
   "id": "4a0c4afe-1ddb-4dd5-8753-01a0c9d59230",
   "metadata": {},
   "outputs": [],
   "source": [
    "from PytorchLinalg.linalg import GMRES\n",
    "import torch\n",
    "import scipy.sparse.linalg as spla"
   ]
  },
  {
   "cell_type": "code",
   "execution_count": 14,
   "id": "07459288-e72b-4478-b90b-dad715643309",
   "metadata": {},
   "outputs": [],
   "source": [
    "device = torch.device('cuda' if torch.cuda.is_available() else 'cpu')"
   ]
  },
  {
   "cell_type": "code",
   "execution_count": 15,
   "id": "c7b31fbd-6f9e-4b4c-adba-820d4f613428",
   "metadata": {},
   "outputs": [],
   "source": [
    "def solve(A, b):   \n",
    "    A, b = A.to(device), b.to(device)\n",
    "    return GMRES(A, b, track=True)"
   ]
  },
  {
   "cell_type": "code",
   "execution_count": 16,
   "id": "4ca151af-4d12-46f1-b7be-14f62fc04a74",
   "metadata": {},
   "outputs": [],
   "source": [
    "def manual_test(A, b, x):\n",
    "    return torch.linalg.norm(A @ x - b)"
   ]
  },
  {
   "cell_type": "code",
   "execution_count": 30,
   "id": "ea1d422b-9d31-48b6-a767-4ba399f59dbc",
   "metadata": {},
   "outputs": [],
   "source": [
    "def solve_scipy(A, b):\n",
    "    A, b = A.cpu().numpy(), b.cpu().numpy()\n",
    "    x, exit = spla.gmres(A, b, maxiter=20)\n",
    "    print(exit)\n",
    "    return x"
   ]
  },
  {
   "cell_type": "markdown",
   "id": "7184a048-af05-4840-ab4e-aea0f21fd1c1",
   "metadata": {},
   "source": [
    "## Testing\n",
    "\n",
    "Make sure this actually works."
   ]
  },
  {
   "cell_type": "markdown",
   "id": "6a495b1b-e14a-4177-8bd4-6275e5744f7e",
   "metadata": {},
   "source": [
    "### Random (Garbage)\n",
    "\n",
    "Should fail. No gurantee the matrix is any good."
   ]
  },
  {
   "cell_type": "code",
   "execution_count": 31,
   "id": "304d6158-c089-4b7e-8c61-eb8badd470a3",
   "metadata": {},
   "outputs": [],
   "source": [
    "def random_usage(n=20):    \n",
    "    A = torch.randn(n, n, device=device)\n",
    "    \n",
    "    b = torch.randn(n, device=device)\n",
    "    \n",
    "    # Solve the systems\n",
    "    sol, (conv_iter, errs) = solve(A, b)\n",
    "    print (conv_iter)\n",
    "    print(errs[-1] if len(errs) > 0 else []) # rel_tol\n",
    "    \n",
    "    return A, b, sol, conv_iter, errs"
   ]
  },
  {
   "cell_type": "code",
   "execution_count": 32,
   "id": "f1092c07-4057-49dd-9605-b48b927ac80a",
   "metadata": {},
   "outputs": [
    {
     "name": "stdout",
     "output_type": "stream",
     "text": [
      "19\n",
      "2.8677703767243656e-07\n"
     ]
    }
   ],
   "source": [
    "A, b, sol, conv_iter, errs = random_usage()"
   ]
  },
  {
   "cell_type": "code",
   "execution_count": 33,
   "id": "7af914d1-3a00-4340-8582-64babf3acdfa",
   "metadata": {},
   "outputs": [
    {
     "data": {
      "text/plain": [
       "'GMRES: 2.1422588361019734e-06, ZEROS: 3.5401222705841064'"
      ]
     },
     "execution_count": 33,
     "metadata": {},
     "output_type": "execute_result"
    }
   ],
   "source": [
    "f'GMRES: {manual_test(A, b, sol)}, ZEROS: {manual_test(A, b, torch.zeros(20, device=device))}'"
   ]
  },
  {
   "cell_type": "code",
   "execution_count": 34,
   "id": "c64979b3-67e5-4caa-ab89-2370edd6139d",
   "metadata": {},
   "outputs": [
    {
     "name": "stdout",
     "output_type": "stream",
     "text": [
      "0\n"
     ]
    }
   ],
   "source": [
    "x = solve_scipy(A, b)"
   ]
  },
  {
   "cell_type": "code",
   "execution_count": 35,
   "id": "fcc97c55-19e6-436e-963d-ca2466edcc2d",
   "metadata": {},
   "outputs": [
    {
     "data": {
      "text/plain": [
       "'GMRES: 1.998992274820921e-06, ZEROS: 3.5401222705841064'"
      ]
     },
     "execution_count": 35,
     "metadata": {},
     "output_type": "execute_result"
    }
   ],
   "source": [
    "f'GMRES: {manual_test(A, b, torch.from_numpy(x).to(device))}, ZEROS: {manual_test(A, b, torch.zeros(20, device=device))}'"
   ]
  },
  {
   "cell_type": "markdown",
   "id": "6d3f6b8c-af2c-4fc9-a226-5899063e2cfc",
   "metadata": {},
   "source": [
    "### Random (Identity)\n",
    "\n",
    "Converge in a single iteration."
   ]
  },
  {
   "cell_type": "code",
   "execution_count": 19,
   "id": "a054cef4-7f17-449f-a513-04af109354a3",
   "metadata": {},
   "outputs": [],
   "source": [
    "def eye_usage(n=500):    \n",
    "    A = torch.eye(n, device=device)\n",
    "    \n",
    "    b = torch.randn(n, device=device)\n",
    "    \n",
    "    # Solve the systems\n",
    "    sol, (conv_iter, errs) = solve(A, b)\n",
    "    print (conv_iter)\n",
    "    print(errs[-1] if len(errs) > 0 else [])\n",
    "    \n",
    "    return A, b, sol, conv_iter, errs"
   ]
  },
  {
   "cell_type": "code",
   "execution_count": 20,
   "id": "df4f6678-fb65-4ce3-94ea-188d19f01e78",
   "metadata": {},
   "outputs": [
    {
     "name": "stdout",
     "output_type": "stream",
     "text": [
      "0\n",
      "0.0\n"
     ]
    }
   ],
   "source": [
    "A, b, sol, conv_iter, errs = eye_usage()"
   ]
  },
  {
   "cell_type": "code",
   "execution_count": 21,
   "id": "b5694abf-1f39-4756-a652-345b1fc2f251",
   "metadata": {},
   "outputs": [
    {
     "name": "stdout",
     "output_type": "stream",
     "text": [
      "0\n"
     ]
    }
   ],
   "source": [
    "x = solve_scipy(A, b)"
   ]
  },
  {
   "cell_type": "markdown",
   "id": "be78bd27-635f-4364-80ae-aca2989b2d6b",
   "metadata": {},
   "source": [
    "### Hilbert\n",
    "\n",
    "Hilbert matrices from Milestone 1. Need a try catch for errors that arise from givens rotation."
   ]
  },
  {
   "cell_type": "code",
   "execution_count": 22,
   "id": "756fd159-a2a8-4ce0-9136-9fd00e705f0d",
   "metadata": {},
   "outputs": [],
   "source": [
    "from scipy.linalg import hilbert"
   ]
  },
  {
   "cell_type": "code",
   "execution_count": 23,
   "id": "51b5eb5f-0901-47bb-b85f-6a26d96334b2",
   "metadata": {},
   "outputs": [],
   "source": [
    "def hilbert_usage(n=500):    \n",
    "    A = torch.tensor(hilbert(n)).to(device, torch.float)\n",
    "    \n",
    "    b = torch.randn(n, device=device)\n",
    "    \n",
    "    # Solve the systems\n",
    "    try:\n",
    "        sol, (conv_iter, errs) = solve(A, b)\n",
    "    except ValueError as e:\n",
    "        print(f'ValueError: {e}, Givens-Rotation-Issue')\n",
    "        return A, b, torch.zeros(n, device=device), -1, []\n",
    "    \n",
    "    print (conv_iter)\n",
    "    print(errs[-1] if len(errs) > 0 else [])\n",
    "    \n",
    "    return A, b, sol, conv_iter, errs"
   ]
  },
  {
   "cell_type": "code",
   "execution_count": 24,
   "id": "85a8aced-ceb8-4088-9a15-23b9c56cc67d",
   "metadata": {
    "tags": []
   },
   "outputs": [
    {
     "name": "stdout",
     "output_type": "stream",
     "text": [
      "ValueError: 15-th cosine contains NaN, Givens-Rotation-Issue\n"
     ]
    }
   ],
   "source": [
    "A, b, sol, conv_iter, errs = hilbert_usage()"
   ]
  },
  {
   "cell_type": "code",
   "execution_count": 25,
   "id": "a26630c3-6808-4cec-8029-4a9d0fbed0c1",
   "metadata": {},
   "outputs": [
    {
     "data": {
      "text/plain": [
       "'GMRES: 22.40157127380371, ZEROS: 22.40157127380371'"
      ]
     },
     "execution_count": 25,
     "metadata": {},
     "output_type": "execute_result"
    }
   ],
   "source": [
    "f'GMRES: {manual_test(A, b, sol)}, ZEROS: {manual_test(A, b, torch.zeros(500, device=device))}'"
   ]
  },
  {
   "cell_type": "code",
   "execution_count": 26,
   "id": "03b4508f-5483-4cf7-af78-1b9d4748a292",
   "metadata": {},
   "outputs": [
    {
     "name": "stdout",
     "output_type": "stream",
     "text": [
      "1000\n"
     ]
    }
   ],
   "source": [
    "x = solve_scipy(A, b)"
   ]
  },
  {
   "cell_type": "code",
   "execution_count": 27,
   "id": "d0976fd0-647d-435b-a482-ef3c3874a86b",
   "metadata": {},
   "outputs": [
    {
     "data": {
      "text/plain": [
       "'GMRES: 705.8778076171875, ZEROS: 22.40157127380371'"
      ]
     },
     "execution_count": 27,
     "metadata": {},
     "output_type": "execute_result"
    }
   ],
   "source": [
    "f'GMRES: {manual_test(A, b, torch.from_numpy(x).to(device))}, ZEROS: {manual_test(A, b, torch.zeros(500, device=device))}'"
   ]
  },
  {
   "cell_type": "markdown",
   "id": "cf89e8ab-5fb9-4827-9db4-f7ea38b57886",
   "metadata": {},
   "source": [
    "### Helmholtz \n",
    "\n",
    "Helmholtz matrices from Milestone 1."
   ]
  },
  {
   "cell_type": "code",
   "execution_count": 28,
   "id": "e2110e76-2426-49f9-b301-4fa12ce7f3f2",
   "metadata": {},
   "outputs": [],
   "source": [
    "import numpy as np\n",
    "import scipy.sparse as sp"
   ]
  },
  {
   "cell_type": "code",
   "execution_count": 29,
   "id": "00b3b476-2382-471c-8761-ddea706c07ab",
   "metadata": {},
   "outputs": [],
   "source": [
    "def generate_random_helmholtz(n, density=0.001):\n",
    "    L = 1.0\n",
    "    k = np.random.uniform(10, 200)  # Random wavenumber\n",
    "    h = L / (n - 1)  \n",
    "\n",
    "    # Discretization of Helmholtz operator (1D)\n",
    "    diagonals = [np.ones(n-1), -2*np.ones(n), np.ones(n-1)]\n",
    "\n",
    "    helmholtz = sp.diags(diagonals, [-1, 0, 1]) / h**2 + k**2 * sp.eye(n)\n",
    "\n",
    "    # Ensure no perturbations on the tridiagnonal\n",
    "    perturb = sp.random(n, n, density=density) * np.max(helmholtz)\n",
    "    \n",
    "    perturb.setdiag(0)  # Main diagonal\n",
    "    perturb.setdiag(0, k=1)  # First upper diagonal\n",
    "    perturb.setdiag(0, k=-1)  # First lower diagonal\n",
    "        \n",
    "    return helmholtz + perturb"
   ]
  },
  {
   "cell_type": "code",
   "execution_count": 30,
   "id": "be506626-1e96-4cf9-9a0f-67137e4be033",
   "metadata": {},
   "outputs": [],
   "source": [
    "def helmholtz_usage(n=500):    \n",
    "    A = torch.from_numpy(generate_random_helmholtz(n).toarray()).to(device, torch.float)\n",
    "    \n",
    "    b = torch.randn(n, device=device)\n",
    "    \n",
    "    # Solve the systems\n",
    "    try:\n",
    "        sol, (conv_iter, errs) = solve(A, b)\n",
    "    except ValueError as e:\n",
    "        print(f'ValueError: {e}, Givens-Rotation-Issue')\n",
    "        return A, b, torch.zeros(n, device=device), -1, []\n",
    "    \n",
    "    print (conv_iter)\n",
    "    print(errs[-1] if len(errs) > 0 else [])\n",
    "    \n",
    "    return A, b, sol, conv_iter, errs"
   ]
  },
  {
   "cell_type": "code",
   "execution_count": 31,
   "id": "f6989bcd-1a3b-44b0-8355-dd5cc1225701",
   "metadata": {},
   "outputs": [
    {
     "name": "stdout",
     "output_type": "stream",
     "text": [
      "499\n",
      "4.7439782065339386e-05\n"
     ]
    }
   ],
   "source": [
    "A, b, sol, conv_iter, errs = helmholtz_usage()"
   ]
  },
  {
   "cell_type": "code",
   "execution_count": 32,
   "id": "9840e79e-37c1-49b6-babf-d7a767ca6895",
   "metadata": {},
   "outputs": [
    {
     "data": {
      "text/plain": [
       "'GMRES: 0.00218977895565331, ZEROS: 23.201364517211914'"
      ]
     },
     "execution_count": 32,
     "metadata": {},
     "output_type": "execute_result"
    }
   ],
   "source": [
    "f'GMRES: {manual_test(A, b, sol)}, ZEROS: {manual_test(A, b, torch.zeros(500, device=device))}'"
   ]
  },
  {
   "cell_type": "code",
   "execution_count": 33,
   "id": "2e14a92b-3fe4-4015-a4a0-061862e6f9d5",
   "metadata": {},
   "outputs": [
    {
     "name": "stdout",
     "output_type": "stream",
     "text": [
      "1000\n"
     ]
    }
   ],
   "source": [
    "x = solve_scipy(A, b)"
   ]
  },
  {
   "cell_type": "code",
   "execution_count": 34,
   "id": "5d0a0079-6e25-480d-8fae-dbb16ba7e5b4",
   "metadata": {},
   "outputs": [
    {
     "data": {
      "text/plain": [
       "'GMRES: 1.1512666940689087, ZEROS: 23.201364517211914'"
      ]
     },
     "execution_count": 34,
     "metadata": {},
     "output_type": "execute_result"
    }
   ],
   "source": [
    "f'GMRES: {manual_test(A, b, torch.from_numpy(x).to(device))}, ZEROS: {manual_test(A, b, torch.zeros(500, device=device))}'"
   ]
  },
  {
   "cell_type": "markdown",
   "id": "94f1249e-3a0e-4403-afbc-6df89420d884",
   "metadata": {},
   "source": [
    "## Loss Integration\n",
    "\n",
    "Identity distance from Milestone 2 (with vectorized form). This will be the form going forward.\n",
    "\n",
    "Update:\n",
    "    Collapses onto zero matrix. Maximize distance from the zero matrix. This may also cause issues. They should be weighted.\n",
    "\n",
    "\\begin{equation}\n",
    "    \\mathcal{L} = \\alpha_1\\|XA - I\\|_{fro} + \\alpha_2\\|A\\|_1 - \\alpha_3\\|A\\|_{fro}\n",
    "\\end{equation}\n",
    "where $X$ is the input, $A$ is the output, and $\\alpha = \\left[1.0, 1.0, 0.01\\right]$.\n",
    "\n",
    "### TODO"
   ]
  },
  {
   "cell_type": "code",
   "execution_count": 41,
   "id": "28d6f6da-59d1-43f3-aac0-8c30d0914d7f",
   "metadata": {},
   "outputs": [],
   "source": [
    "from torch import nn"
   ]
  },
  {
   "cell_type": "code",
   "execution_count": 42,
   "id": "e8fd2a9d-9158-41ed-8a00-1cdb6911b685",
   "metadata": {},
   "outputs": [],
   "source": [
    "class IdenittyDistance(nn.Module):\n",
    "    def __init__(self, l1=None, logsum=None):\n",
    "        super().__init__()\n",
    "        self.l1 = l1\n",
    "        self.logsum = logsum\n",
    "        \n",
    "    def forward(self, inp, outp):\n",
    "        avg_loss = 0\n",
    "        \n",
    "        batch_size = inp.ptr.shape[0] - 1\n",
    "        identity = torch.eye(500, device=inp.x.device).expand(batch_size, -1, -1)\n",
    "        inner_product = torch.bmm(outp.view(batch_size, 500, 500), inp.x.view(batch_size, 500, 500))\n",
    "        det = torch.mean(torch.abs(torch.linalg.det(inner_product))).item()\n",
    "        \n",
    "        # TODO : Pre-pre, idk man\n",
    "        \n",
    "        # Maximize the determinent | Minimize the condition number     \n",
    "        if False and det < 1.0:\n",
    "            slog_det = torch.log(torch.abs(torch.linalg.det(inner_product)))\n",
    "            avg_loss += -torch.mean(slog_det) * 1.0\n",
    "            \n",
    "        else:\n",
    "            #eye_frobenius_loss = torch.norm(inner_product - identity, p='fro', dim=(1, 2))\n",
    "            #avg_loss += torch.mean(eye_frobenius_loss) * 1.0\n",
    "        \n",
    "            singular_values = torch.linalg.svdvals(inner_product)\n",
    "            log_singular_values = torch.log(singular_values)\n",
    "            log_cond = log_singular_values.max(dim=1).values - log_singular_values.min(dim=1).values\n",
    "            avg_loss += torch.mean(log_cond) * 1.0\n",
    "        \n",
    "            if self.l1 is not None:\n",
    "                avg_loss += self.l1 * torch.norm(outp, p=1) * 1.0\n",
    "            elif self.logsum is not None:\n",
    "                avg_loss += torch.sum(torch.log(1 + torch.abs(outp) / self.logsum))\n",
    "        \n",
    "        return avg_loss"
   ]
  },
  {
   "cell_type": "markdown",
   "id": "226fed77-e5d9-4eea-abd3-90576ba26071",
   "metadata": {},
   "source": [
    "# Models\n",
    "\n",
    "Potential models for actor network.\n",
    "\n",
    "**NOTE:** Aim for a model roughly 10 GBs in size. Need room for critic, actor, and GMRES. "
   ]
  },
  {
   "cell_type": "code",
   "execution_count": 43,
   "id": "136ebae2-96aa-460c-abe8-86e8e3434fcf",
   "metadata": {},
   "outputs": [],
   "source": [
    "from tqdm.notebook import tqdm\n",
    "import torch.optim as optim\n",
    "import torch.nn.utils as nn_utils"
   ]
  },
  {
   "cell_type": "code",
   "execution_count": 69,
   "id": "3f485930-2a6b-4b07-ba4a-578343b9cd3a",
   "metadata": {},
   "outputs": [],
   "source": [
    "def shared_training_loop(epoches, criterion, train_loader, valid_loader, model, lr, b=None):\n",
    "    optimizer = optim.Adam(model.parameters(), lr=lr)\n",
    "    scheduler = optim.lr_scheduler.ReduceLROnPlateau(optimizer, mode='min', factor=0.1, patience=5, verbose=True, threshold=1e-3)\n",
    "\n",
    "    train_log, valid_log = np.zeros(epoches), np.zeros(epoches)\n",
    "    \n",
    "    for epoch in range(epoches):\n",
    "        \n",
    "        train_loss = 0\n",
    "        model.train()\n",
    "        t_loader = tqdm(train_loader, desc=f'Train', leave=False, mininterval=2.0)\n",
    "        for batch in t_loader:\n",
    "            batch = batch.to(device)\n",
    "            output = model(batch.x, batch.edge_index) if b is None else model(batch.x, batch.edge_index, batch.batch)\n",
    "            loss = criterion(batch, output.to_dense())\n",
    "\n",
    "            t_loader.set_postfix(train_loss=loss.item())\n",
    "            train_loss += loss.item()\n",
    "\n",
    "            optimizer.zero_grad() \n",
    "            loss.backward()\n",
    "            optimizer.step()\n",
    "            \n",
    "        valid_loss = 0\n",
    "        model.eval()\n",
    "        v_loader = tqdm(valid_loader, desc=f'Valid', leave=False, mininterval=2.0)\n",
    "        for batch in v_loader:\n",
    "            with torch.no_grad():\n",
    "                batch = batch.to(device)\n",
    "                output = model(batch.x, batch.edge_index) if b is None else model(batch.x, batch.edge_index, batch.batch)\n",
    "                loss = criterion(batch, output.to_dense())\n",
    "\n",
    "                v_loader.set_postfix(valid_loss=loss.item())\n",
    "                valid_loss += loss.item()\n",
    "                \n",
    "        print(f'Epoch: {epoch}, Train: {train_loss/len(t_loader)}, Valid: {valid_loss/len(v_loader)}')\n",
    "        train_log[epoch], valid_log[epoch] = train_loss, valid_loss\n",
    "        \n",
    "        scheduler.step(valid_loss)\n",
    "        \n",
    "    return train_log, valid_log"
   ]
  },
  {
   "cell_type": "code",
   "execution_count": 45,
   "id": "72fd21bc-a78e-4e00-9255-be684d08ae66",
   "metadata": {},
   "outputs": [],
   "source": [
    "import matplotlib.pyplot as plt"
   ]
  },
  {
   "cell_type": "code",
   "execution_count": 46,
   "id": "47d39a2e-d7f0-4612-82da-2649886dd3ad",
   "metadata": {},
   "outputs": [],
   "source": [
    "def plot_training(train_log, valid_log, title='EX', filename='ex'):\n",
    "    plt.plot(train_log, label=\"Train\")\n",
    "    plt.plot(valid_log, label=\"Valid\")\n",
    "    plt.title(f'{title}: Train/Valid Log')\n",
    "    plt.xlabel('Epoch')\n",
    "    plt.ylabel('Loss')\n",
    "    plt.legend()\n",
    "    \n",
    "    plt.savefig(f'{filename}.png')\n",
    "    plt.show()"
   ]
  },
  {
   "cell_type": "markdown",
   "id": "a3a323ca-f384-4a17-af8e-fb6ca930df93",
   "metadata": {},
   "source": [
    "## (Node Feature) Models\n",
    "\n",
    "Models in which the direct node feature output is used as the estimate."
   ]
  },
  {
   "cell_type": "code",
   "execution_count": 1,
   "id": "7907be0b-bc8a-4697-85e0-ef056e2002e8",
   "metadata": {},
   "outputs": [
    {
     "name": "stderr",
     "output_type": "stream",
     "text": [
      "/data/users/jupyter-dam724/.local/lib/python3.9/site-packages/torch_geometric/typing.py:68: UserWarning: An issue occurred while importing 'pyg-lib'. Disabling its usage. Stacktrace: /data/users/jupyter-dam724/.local/lib/python3.9/site-packages/libpyg.so: undefined symbol: _ZN3c1010Dispatcher17runRecordFunctionERN2at14RecordFunctionESt17reference_wrapperIKNS_14FunctionSchemaEENS_11DispatchKeyE\n",
      "  warnings.warn(f\"An issue occurred while importing 'pyg-lib'. \"\n",
      "/data/users/jupyter-dam724/.local/lib/python3.9/site-packages/torch_geometric/typing.py:97: UserWarning: An issue occurred while importing 'torch-cluster'. Disabling its usage. Stacktrace: /data/users/jupyter-dam724/.local/lib/python3.9/site-packages/torch_cluster/_version_cuda.so: undefined symbol: _ZN5torch3jit17parseSchemaOrNameERKSs\n",
      "  warnings.warn(f\"An issue occurred while importing 'torch-cluster'. \"\n",
      "/data/users/jupyter-dam724/.local/lib/python3.9/site-packages/torch_geometric/typing.py:113: UserWarning: An issue occurred while importing 'torch-spline-conv'. Disabling its usage. Stacktrace: /data/users/jupyter-dam724/.local/lib/python3.9/site-packages/torch_spline_conv/_version_cuda.so: undefined symbol: _ZN5torch3jit17parseSchemaOrNameERKSs\n",
      "  warnings.warn(\n",
      "/data/users/jupyter-dam724/.local/lib/python3.9/site-packages/torch_geometric/typing.py:124: UserWarning: An issue occurred while importing 'torch-sparse'. Disabling its usage. Stacktrace: /data/users/jupyter-dam724/.local/lib/python3.9/site-packages/torch_sparse/_version_cuda.so: undefined symbol: _ZN5torch3jit17parseSchemaOrNameERKSs\n",
      "  warnings.warn(f\"An issue occurred while importing 'torch-sparse'. \"\n"
     ]
    }
   ],
   "source": [
    "from neuralIncompleteFactorization.neuralif import models"
   ]
  },
  {
   "cell_type": "code",
   "execution_count": 7,
   "id": "eb09bc9a-b92a-4bfa-988e-14f8e27f6cbc",
   "metadata": {},
   "outputs": [],
   "source": [
    "kwargs = {\n",
    "    \"latent_size\": 16, \n",
    "    \"message_passing_steps\": 4, \n",
    "    \"skip_connections\": 1,                  \n",
    "    \"augment_nodes\": 1, \n",
    "    \"global_features\": 0, \n",
    "    \"decode_nodes\": 4,                  \n",
    "    \"normalize_diag\": True, \n",
    "    \"activation\": True, \n",
    "    \"aggregate\": None, \n",
    "    \"graph_norm\": None,\n",
    "    \"two_hop\": None, \n",
    "    \"edge_features\": 4, \n",
    "    \"normalize\": None\n",
    "}\n",
    "\n",
    "model = models.PreCondNet(**kwargs)"
   ]
  },
  {
   "cell_type": "code",
   "execution_count": 9,
   "id": "6cd05fc8-08f8-4383-b7aa-b2e3e76b5e2b",
   "metadata": {},
   "outputs": [],
   "source": [
    "from neuralIncompleteFactorization.apps import data"
   ]
  },
  {
   "cell_type": "code",
   "execution_count": 15,
   "id": "9ced9aa7-1648-47cd-a8c2-a8fe9636f085",
   "metadata": {},
   "outputs": [],
   "source": [
    "data = data.matrix_to_graph(generate_random_helmholtz(500), np.random.rand(500))"
   ]
  },
  {
   "cell_type": "code",
   "execution_count": 16,
   "id": "87f426bf-b196-49a0-8e98-b97f381815a5",
   "metadata": {},
   "outputs": [
    {
     "data": {
      "text/plain": [
       "Data(x=[500, 1], edge_index=[2, 2236], edge_attr=[2236, 1])"
      ]
     },
     "execution_count": 16,
     "metadata": {},
     "output_type": "execute_result"
    }
   ],
   "source": [
    "data"
   ]
  },
  {
   "cell_type": "code",
   "execution_count": 24,
   "id": "6066d066-ea17-44a2-8075-4f25e04bb59a",
   "metadata": {},
   "outputs": [
    {
     "data": {
      "text/plain": [
       "<matplotlib.image.AxesImage at 0x7fdd272dd520>"
      ]
     },
     "execution_count": 24,
     "metadata": {},
     "output_type": "execute_result"
    },
    {
     "data": {
      "image/png": "[encoded data removed]",
      "text/plain": [
       "<Figure size 480x480 with 1 Axes>"
      ]
     },
     "metadata": {},
     "output_type": "display_data"
    }
   ],
   "source": [
    "plt.matshow(model(data)[0].detach().to_dense())"
   ]
  },
  {
   "cell_type": "code",
   "execution_count": null,
   "id": "e8c9d7d6-cf32-4246-9d13-2ee6ab8da125",
   "metadata": {},
   "outputs": [],
   "source": []
  },
  {
   "cell_type": "code",
   "execution_count": 8,
   "id": "3d64fa5c-49f8-494c-a27c-b046925789d6",
   "metadata": {},
   "outputs": [
    {
     "data": {
      "text/plain": [
       "PreCondNet(\n",
       "  (mps): ModuleList(\n",
       "    (0): GraphNet(\n",
       "      (aggregate): MeanAggregation()\n",
       "      (global_aggregate): MeanAggregation()\n",
       "      (edge_block): MLP(\n",
       "        (m): Sequential(\n",
       "          (0): Linear(in_features=17, out_features=16, bias=True)\n",
       "          (1): ReLU()\n",
       "          (2): Linear(in_features=16, out_features=1, bias=True)\n",
       "        )\n",
       "      )\n",
       "      (node_block): MLP(\n",
       "        (m): Sequential(\n",
       "          (0): Linear(in_features=9, out_features=16, bias=True)\n",
       "          (1): ReLU()\n",
       "          (2): Linear(in_features=16, out_features=8, bias=True)\n",
       "        )\n",
       "      )\n",
       "    )\n",
       "    (1-3): 3 x GraphNet(\n",
       "      (aggregate): MeanAggregation()\n",
       "      (global_aggregate): MeanAggregation()\n",
       "      (edge_block): MLP(\n",
       "        (m): Sequential(\n",
       "          (0): Linear(in_features=18, out_features=16, bias=True)\n",
       "          (1): ReLU()\n",
       "          (2): Linear(in_features=16, out_features=1, bias=True)\n",
       "        )\n",
       "      )\n",
       "      (node_block): MLP(\n",
       "        (m): Sequential(\n",
       "          (0): Linear(in_features=9, out_features=16, bias=True)\n",
       "          (1): ReLU()\n",
       "          (2): Linear(in_features=16, out_features=8, bias=True)\n",
       "        )\n",
       "      )\n",
       "    )\n",
       "  )\n",
       ")"
      ]
     },
     "execution_count": 8,
     "metadata": {},
     "output_type": "execute_result"
    }
   ],
   "source": [
    "model"
   ]
  },
  {
   "cell_type": "code",
   "execution_count": null,
   "id": "63030d08-d1fd-4399-acb1-d4efe3a725e0",
   "metadata": {},
   "outputs": [],
   "source": []
  },
  {
   "cell_type": "code",
   "execution_count": null,
   "id": "19899384-074f-43dd-b93f-43946888f069",
   "metadata": {},
   "outputs": [],
   "source": []
  },
  {
   "cell_type": "code",
   "execution_count": null,
   "id": "eebd4f3e-841d-474b-8c63-2f7858603168",
   "metadata": {},
   "outputs": [],
   "source": []
  },
  {
   "cell_type": "code",
   "execution_count": null,
   "id": "4bb13a99-6ccf-4d56-a87d-7332aaae8dfd",
   "metadata": {},
   "outputs": [],
   "source": []
  },
  {
   "cell_type": "markdown",
   "id": "7c3c6548-331c-4cca-a8a7-042677421dbe",
   "metadata": {},
   "source": [
    "### TransformerConv\n",
    "\n",
    "Uses a transformer network to pass messages."
   ]
  },
  {
   "cell_type": "code",
   "execution_count": 49,
   "id": "a76f045a-18d4-4b60-aa22-38e1fa762456",
   "metadata": {},
   "outputs": [],
   "source": [
    "from torch_geometric.nn import TransformerConv"
   ]
  },
  {
   "cell_type": "code",
   "execution_count": 42,
   "id": "583d2b91-9e11-417e-b774-605f9acd37f0",
   "metadata": {},
   "outputs": [],
   "source": [
    "class GraphTransformer(nn.Module):\n",
    "    def __init__(self, in_channels=500, hidden_channels=128, out_channels=500, heads=5, dropout=0.25, num_layers=5):\n",
    "        super(GraphTransformer, self).__init__()\n",
    "        \n",
    "        self.activation = nn.Tanh()\n",
    "        self.layers = nn.ModuleList()\n",
    "        \n",
    "        self.layers.append(TransformerConv(in_channels, hidden_channels, heads=heads, dropout=dropout))\n",
    "        for _ in range(num_layers-2):\n",
    "            self.layers.append(TransformerConv(hidden_channels * heads, hidden_channels, heads=heads, dropout=dropout))\n",
    "        self.layers.append(TransformerConv(hidden_channels * heads, out_channels, heads=heads, dropout=dropout, concat=False))\n",
    "\n",
    "    def forward(self, x, edge_index):\n",
    "        for conv in self.layers[:-1]:\n",
    "            x = conv(x, edge_index)\n",
    "            x = self.activation(x)\n",
    "        \n",
    "        x = self.layers[-1](x, edge_index)\n",
    "        \n",
    "        return x"
   ]
  },
  {
   "cell_type": "code",
   "execution_count": 43,
   "id": "17a68680-d8c8-43a2-9a9d-a5c1aa042736",
   "metadata": {},
   "outputs": [
    {
     "name": "stderr",
     "output_type": "stream",
     "text": [
      "/tmp/ipykernel_1245591/1449974174.py:2: FutureWarning: You are using `torch.load` with `weights_only=False` (the current default value), which uses the default pickle module implicitly. It is possible to construct malicious pickle data which will execute arbitrary code during unpickling (See https://github.com/pytorch/pytorch/blob/main/SECURITY.md#untrusted-models for more details). In a future release, the default value for `weights_only` will be flipped to `True`. This limits the functions that could be executed during unpickling. Arbitrary objects will no longer be allowed to be loaded via this mode unless they are explicitly allowlisted by the user via `torch.serialization.add_safe_globals`. We recommend you start setting `weights_only=True` for any use case where you don't have full control of the loaded file. Please open an issue on GitHub for any issues related to this experimental feature.\n",
      "  gtransformer.load_state_dict(torch.load('temp.pth'))\n"
     ]
    },
    {
     "data": {
      "text/plain": [
       "<All keys matched successfully>"
      ]
     },
     "execution_count": 43,
     "metadata": {},
     "output_type": "execute_result"
    }
   ],
   "source": [
    "#gtransformer = GraphTransformer()\n",
    "#gtransformer.load_state_dict(torch.load('temp.pth'))"
   ]
  },
  {
   "cell_type": "code",
   "execution_count": 44,
   "id": "4d1f9b12-cf35-4a56-b4a0-aaa97666709e",
   "metadata": {},
   "outputs": [],
   "source": [
    "epoches = 10\n",
    "loader = dataloader\n",
    "vloader = vdataloader\n",
    "#model = gtransformer.to(device)\n",
    "lr = 1e-5"
   ]
  },
  {
   "cell_type": "code",
   "execution_count": 45,
   "id": "16880d14-7d26-40a0-8d00-9b9a481e33d1",
   "metadata": {},
   "outputs": [],
   "source": [
    "#criterion = IdenittyDistance()"
   ]
  },
  {
   "cell_type": "code",
   "execution_count": 46,
   "id": "e54d9eb4-a7cf-4044-859e-b8e41b34d9c1",
   "metadata": {
    "scrolled": true,
    "tags": []
   },
   "outputs": [
    {
     "name": "stderr",
     "output_type": "stream",
     "text": [
      "/data/users/jupyter-dam724/.local/lib/python3.9/site-packages/torch/optim/lr_scheduler.py:62: UserWarning: The verbose parameter is deprecated. Please use get_last_lr() to access the learning rate.\n",
      "  warnings.warn(\n"
     ]
    },
    {
     "data": {
      "application/vnd.jupyter.widget-view+json": {
       "model_id": "",
       "version_major": 2,
       "version_minor": 0
      },
      "text/plain": [
       "Train:   0%|          | 0/1000 [00:00<?, ?it/s]"
      ]
     },
     "metadata": {},
     "output_type": "display_data"
    },
    {
     "data": {
      "application/vnd.jupyter.widget-view+json": {
       "model_id": "",
       "version_major": 2,
       "version_minor": 0
      },
      "text/plain": [
       "Valid:   0%|          | 0/100 [00:00<?, ?it/s]"
      ]
     },
     "metadata": {},
     "output_type": "display_data"
    },
    {
     "name": "stdout",
     "output_type": "stream",
     "text": [
      "Epoch: 0, Train: 21.471683229446413, Valid: 23.720226669311522\n"
     ]
    },
    {
     "data": {
      "application/vnd.jupyter.widget-view+json": {
       "model_id": "41bb4d06917f435d92966f78e07096dc",
       "version_major": 2,
       "version_minor": 0
      },
      "text/plain": [
       "Train:   0%|          | 0/1000 [00:00<?, ?it/s]"
      ]
     },
     "metadata": {},
     "output_type": "display_data"
    },
    {
     "name": "stderr",
     "output_type": "stream",
     "text": [
      "IOPub message rate exceeded.\n",
      "The Jupyter server will temporarily stop sending output\n",
      "to the client in order to avoid crashing it.\n",
      "To change this limit, set the config variable\n",
      "`--ServerApp.iopub_msg_rate_limit`.\n",
      "\n",
      "Current values:\n",
      "ServerApp.iopub_msg_rate_limit=1000.0 (msgs/sec)\n",
      "ServerApp.rate_limit_window=3.0 (secs)\n",
      "\n"
     ]
    },
    {
     "data": {
      "application/vnd.jupyter.widget-view+json": {
       "model_id": "06fe8722897d4236a353a1e3e51bc747",
       "version_major": 2,
       "version_minor": 0
      },
      "text/plain": [
       "Valid:   0%|          | 0/100 [00:00<?, ?it/s]"
      ]
     },
     "metadata": {},
     "output_type": "display_data"
    },
    {
     "name": "stderr",
     "output_type": "stream",
     "text": [
      "IOPub message rate exceeded.\n",
      "The Jupyter server will temporarily stop sending output\n",
      "to the client in order to avoid crashing it.\n",
      "To change this limit, set the config variable\n",
      "`--ServerApp.iopub_msg_rate_limit`.\n",
      "\n",
      "Current values:\n",
      "ServerApp.iopub_msg_rate_limit=1000.0 (msgs/sec)\n",
      "ServerApp.rate_limit_window=3.0 (secs)\n",
      "\n"
     ]
    },
    {
     "data": {
      "application/vnd.jupyter.widget-view+json": {
       "model_id": "",
       "version_major": 2,
       "version_minor": 0
      },
      "text/plain": [
       "Valid:   0%|          | 0/100 [00:00<?, ?it/s]"
      ]
     },
     "metadata": {},
     "output_type": "display_data"
    },
    {
     "name": "stdout",
     "output_type": "stream",
     "text": [
      "Epoch: 7, Train: 21.391578102111815, Valid: 23.527362289428712\n"
     ]
    },
    {
     "data": {
      "application/vnd.jupyter.widget-view+json": {
       "model_id": "b29c65628b0b4a3d9578e5983ac53159",
       "version_major": 2,
       "version_minor": 0
      },
      "text/plain": [
       "Train:   0%|          | 0/1000 [00:00<?, ?it/s]"
      ]
     },
     "metadata": {},
     "output_type": "display_data"
    },
    {
     "name": "stderr",
     "output_type": "stream",
     "text": [
      "IOPub message rate exceeded.\n",
      "The Jupyter server will temporarily stop sending output\n",
      "to the client in order to avoid crashing it.\n",
      "To change this limit, set the config variable\n",
      "`--ServerApp.iopub_msg_rate_limit`.\n",
      "\n",
      "Current values:\n",
      "ServerApp.iopub_msg_rate_limit=1000.0 (msgs/sec)\n",
      "ServerApp.rate_limit_window=3.0 (secs)\n",
      "\n"
     ]
    }
   ],
   "source": [
    "#train_log, valid_log = shared_training_loop(epoches, criterion, loader, vloader, model, lr)"
   ]
  },
  {
   "cell_type": "code",
   "execution_count": 48,
   "id": "ccc79f4c-d0ba-42e4-b5a1-33e087e33a71",
   "metadata": {},
   "outputs": [
    {
     "data": {
      "image/png": "[encoded data removed]",
      "text/plain": [
       "<Figure size 640x480 with 1 Axes>"
      ]
     },
     "metadata": {},
     "output_type": "display_data"
    }
   ],
   "source": [
    "#plot_training(train_log /len(loader), valid_log/len(vloader))"
   ]
  },
  {
   "cell_type": "code",
   "execution_count": 49,
   "id": "23186495-5950-4bb2-b0a3-30b5c77430ec",
   "metadata": {},
   "outputs": [],
   "source": [
    "def testing(model, dataset):\n",
    "    d = dataset.get(0)\n",
    "    out = model(d.x.to(device), d.edge_index.to(device))\n",
    "    \n",
    "    print(torch.norm(out.detach().cpu() @ d.x - torch.eye(500), p=2))\n",
    "    print(torch.norm(out.detach().cpu() @ d.x, p=2))\n",
    "    print(torch.norm(out.detach().cpu(), p=2))\n",
    "    print(torch.norm(torch.eye(500), p=2))\n",
    "    print(torch.linalg.det(out.detach().cpu()))\n",
    "    \n",
    "    print(torch.abs(torch.linalg.det(out.detach().cpu() @ d.x)))\n",
    "    print(torch.abs(torch.linalg.det(out.detach().cpu() @ d.x)))\n",
    "    plt.matshow(out.detach().cpu())\n",
    "    plt.matshow(d.x)\n",
    "    plt.matshow(d.x @  out.detach().cpu())"
   ]
  },
  {
   "cell_type": "code",
   "execution_count": 50,
   "id": "eab2c3d6-f368-41a4-9e36-6efc8cf718c1",
   "metadata": {},
   "outputs": [
    {
     "name": "stdout",
     "output_type": "stream",
     "text": [
      "tensor(32.0027)\n",
      "tensor(23.9043)\n",
      "tensor(4.1071)\n",
      "tensor(22.3607)\n",
      "tensor(-0.)\n",
      "tensor(0.)\n",
      "tensor(0.)\n"
     ]
    },
    {
     "data": {
      "image/png": "[encoded data removed]",
      "text/plain": [
       "<Figure size 480x480 with 1 Axes>"
      ]
     },
     "metadata": {},
     "output_type": "display_data"
    },
    {
     "data": {
      "image/png": "[encoded data removed]",
      "text/plain": [
       "<Figure size 480x480 with 1 Axes>"
      ]
     },
     "metadata": {},
     "output_type": "display_data"
    },
    {
     "data": {
      "image/png": "[encoded data removed]",
      "text/plain": [
       "<Figure size 480x480 with 1 Axes>"
      ]
     },
     "metadata": {},
     "output_type": "display_data"
    }
   ],
   "source": [
    "#testing(gtransformer, dataset)"
   ]
  },
  {
   "cell_type": "markdown",
   "id": "5cad0c04-5192-4e5b-a6a8-139923fd352f",
   "metadata": {},
   "source": [
    "### GCN\n",
    "\n",
    "The basic GNN convolutional model."
   ]
  },
  {
   "cell_type": "code",
   "execution_count": null,
   "id": "900ad564-285c-4bd8-8c40-fe66ce4feeec",
   "metadata": {},
   "outputs": [],
   "source": []
  },
  {
   "cell_type": "code",
   "execution_count": null,
   "id": "c2210d24-dc07-47f3-b9c7-d1c47d53f654",
   "metadata": {},
   "outputs": [],
   "source": []
  },
  {
   "cell_type": "code",
   "execution_count": null,
   "id": "ea91afca-f07a-4b9d-86ba-fb0b70329dc5",
   "metadata": {},
   "outputs": [],
   "source": []
  },
  {
   "cell_type": "code",
   "execution_count": null,
   "id": "a3044618-6c9e-410a-a0ac-c4fdc8983bda",
   "metadata": {},
   "outputs": [],
   "source": []
  },
  {
   "cell_type": "markdown",
   "id": "c5f67365-9be5-4ce4-923b-6e544414343a",
   "metadata": {},
   "source": [
    "### ChebConv\n",
    "\n",
    "A hihger order convolutional model. **May be worth it to connect K with spectral properties of my input?**"
   ]
  },
  {
   "cell_type": "code",
   "execution_count": null,
   "id": "1edb2d4b-38cd-4c9e-ae07-e307bc9509ef",
   "metadata": {},
   "outputs": [],
   "source": []
  },
  {
   "cell_type": "code",
   "execution_count": null,
   "id": "3f4081f8-ea40-467a-a740-64705d6bc1ec",
   "metadata": {},
   "outputs": [],
   "source": []
  },
  {
   "cell_type": "code",
   "execution_count": null,
   "id": "3b216c70-47b1-4efb-93e6-5db748e25322",
   "metadata": {},
   "outputs": [],
   "source": []
  },
  {
   "cell_type": "code",
   "execution_count": null,
   "id": "46ac2f10-9762-4587-8ea6-06a5010a67a8",
   "metadata": {},
   "outputs": [],
   "source": []
  },
  {
   "cell_type": "code",
   "execution_count": null,
   "id": "a7826d7d-1707-4904-94d5-8cdc8f2099f0",
   "metadata": {},
   "outputs": [],
   "source": []
  },
  {
   "cell_type": "markdown",
   "id": "aecb65c2-8d9d-4af3-8b30-733ddef0bca5",
   "metadata": {},
   "source": [
    "## (Edge Prediction) Models\n",
    "\n",
    "Models in which the node features are passed in pairs to linear layers and compute an edge weight.\n",
    "\n",
    "Sharing a training loop means some things like edge prediction will happen within the model class.\n",
    "\n",
    "This model fixes the sparsity to be exactly the same as the input by only computing entries on the edge indexes."
   ]
  },
  {
   "cell_type": "markdown",
   "id": "8bcde470-e4bf-4f07-8272-53153f0e13d5",
   "metadata": {},
   "source": [
    "### TransformerConv\n",
    "\n",
    "Uses a transformer network to pass messages.\n",
    "\n",
    "This model is very broken. Some sort of index out of bounds, need to figure out where the issue is."
   ]
  },
  {
   "cell_type": "code",
   "execution_count": 105,
   "id": "cd9afcdd-68d6-4579-8e46-4aa2be865166",
   "metadata": {},
   "outputs": [],
   "source": [
    "class GraphTransformer(nn.Module):\n",
    "    def __init__(self, in_channels=500, hidden_channels=128, heads=5, dropout=0.25, num_layers=5):\n",
    "        super(GraphTransformer, self).__init__()\n",
    "        \n",
    "        self.activation = nn.ReLU()\n",
    "        self.layers = nn.ModuleList()\n",
    "        \n",
    "        self.layers.append(TransformerConv(in_channels, hidden_channels, heads=heads, dropout=dropout))\n",
    "        for _ in range(num_layers - 2):\n",
    "            self.layers.append(TransformerConv(hidden_channels * heads, hidden_channels, heads=heads, dropout=dropout))\n",
    "        self.layers.append(TransformerConv(hidden_channels * heads, in_channels, heads=heads, dropout=dropout, concat=False))\n",
    "        \n",
    "        self.edge_scorer = nn.Linear(2 * in_channels, 1)  \n",
    "\n",
    "    def forward(self, x_in, edge_index, batch):\n",
    "        x = x_in\n",
    "        for conv in self.layers:\n",
    "            x = conv(x, edge_index)\n",
    "            x = self.activation(x)\n",
    "            \n",
    "        # Compute edge scores\n",
    "        row, col = edge_index  # source and target node indices for each edge\n",
    "        edge_features = torch.cat([x[row], x[col]], dim=-1)  # Concatenate source and target embeddings\n",
    "        edge_scores = self.edge_scorer(edge_features).squeeze(-1)  # Shape: (num_edges,)\n",
    "        \n",
    "        # Initialize batched sparse matrices\n",
    "        num_nodes = 500\n",
    "        batch_size = batch.max().item() + 1\n",
    "        \n",
    "        # Select edges belonging to the i-th graph in the batch\n",
    "        batch_mask = (batch[row] == 0)\n",
    "        batch_edges = edge_index[:, batch_mask]\n",
    "        batch_scores = edge_scores[batch_mask]\n",
    "\n",
    "        # Create a sparse matrix for the i-th graph\n",
    "        sparse_matrix = torch.sparse_coo_tensor(\n",
    "            batch_edges,\n",
    "            batch_scores,\n",
    "            (num_nodes, num_nodes)\n",
    "        )\n",
    "        \n",
    "        return sparse_matrix"
   ]
  },
  {
   "cell_type": "code",
   "execution_count": 151,
   "id": "c9a18dfd-f7f5-4c57-bf61-eaf15cd90122",
   "metadata": {},
   "outputs": [],
   "source": [
    "gtransformer = GraphTransformer()"
   ]
  },
  {
   "cell_type": "code",
   "execution_count": 152,
   "id": "c215029f-ac05-460f-a74c-8628fe1e8a2c",
   "metadata": {},
   "outputs": [],
   "source": [
    "epoches = 10\n",
    "loader = dataloader\n",
    "vloader = vdataloader\n",
    "model = gtransformer.to(device)\n",
    "lr = 1e-5"
   ]
  },
  {
   "cell_type": "code",
   "execution_count": 153,
   "id": "1127b7f9-f728-4615-abd8-a251a8fb5e35",
   "metadata": {},
   "outputs": [],
   "source": [
    "criterion = IdenittyDistance()"
   ]
  },
  {
   "cell_type": "code",
   "execution_count": 154,
   "id": "1979f70f-297d-42ad-a254-692ca7206655",
   "metadata": {},
   "outputs": [],
   "source": [
    "d = next(iter(loader)).to(device)"
   ]
  },
  {
   "cell_type": "code",
   "execution_count": 155,
   "id": "6fee70e4-5b9f-43ac-ad9a-0bc3a7b15708",
   "metadata": {},
   "outputs": [
    {
     "data": {
      "application/vnd.jupyter.widget-view+json": {
       "model_id": "4e814a9f9d58410a91b34dbd8d540c4f",
       "version_major": 2,
       "version_minor": 0
      },
      "text/plain": [
       "Train:   0%|          | 0/64000 [00:00<?, ?it/s]"
      ]
     },
     "metadata": {},
     "output_type": "display_data"
    },
    {
     "name": "stderr",
     "output_type": "stream",
     "text": [
      "IOPub message rate exceeded.\n",
      "The Jupyter server will temporarily stop sending output\n",
      "to the client in order to avoid crashing it.\n",
      "To change this limit, set the config variable\n",
      "`--ServerApp.iopub_msg_rate_limit`.\n",
      "\n",
      "Current values:\n",
      "ServerApp.iopub_msg_rate_limit=1000.0 (msgs/sec)\n",
      "ServerApp.rate_limit_window=3.0 (secs)\n",
      "\n",
      "IOPub message rate exceeded.\n",
      "The Jupyter server will temporarily stop sending output\n",
      "to the client in order to avoid crashing it.\n",
      "To change this limit, set the config variable\n",
      "`--ServerApp.iopub_msg_rate_limit`.\n",
      "\n",
      "Current values:\n",
      "ServerApp.iopub_msg_rate_limit=1000.0 (msgs/sec)\n",
      "ServerApp.rate_limit_window=3.0 (secs)\n",
      "\n"
     ]
    },
    {
     "ename": "KeyboardInterrupt",
     "evalue": "",
     "output_type": "error",
     "traceback": [
      "\u001b[0;31m---------------------------------------------------------------------------\u001b[0m",
      "\u001b[0;31mKeyboardInterrupt\u001b[0m                         Traceback (most recent call last)",
      "Cell \u001b[0;32mIn[155], line 1\u001b[0m\n\u001b[0;32m----> 1\u001b[0m train_log, valid_log \u001b[38;5;241m=\u001b[39m \u001b[43mshared_training_loop\u001b[49m\u001b[43m(\u001b[49m\u001b[43mepoches\u001b[49m\u001b[43m,\u001b[49m\u001b[43m \u001b[49m\u001b[43mcriterion\u001b[49m\u001b[43m,\u001b[49m\u001b[43m \u001b[49m\u001b[43mloader\u001b[49m\u001b[43m,\u001b[49m\u001b[43m \u001b[49m\u001b[43mvloader\u001b[49m\u001b[43m,\u001b[49m\u001b[43m \u001b[49m\u001b[43mmodel\u001b[49m\u001b[43m,\u001b[49m\u001b[43m \u001b[49m\u001b[43mlr\u001b[49m\u001b[43m,\u001b[49m\u001b[43m \u001b[49m\u001b[43mb\u001b[49m\u001b[38;5;241;43m=\u001b[39;49m\u001b[38;5;28;43;01mTrue\u001b[39;49;00m\u001b[43m)\u001b[49m\n",
      "Cell \u001b[0;32mIn[69], line 15\u001b[0m, in \u001b[0;36mshared_training_loop\u001b[0;34m(epoches, criterion, train_loader, valid_loader, model, lr, b)\u001b[0m\n\u001b[1;32m     13\u001b[0m batch \u001b[38;5;241m=\u001b[39m batch\u001b[38;5;241m.\u001b[39mto(device)\n\u001b[1;32m     14\u001b[0m output \u001b[38;5;241m=\u001b[39m model(batch\u001b[38;5;241m.\u001b[39mx, batch\u001b[38;5;241m.\u001b[39medge_index) \u001b[38;5;28;01mif\u001b[39;00m b \u001b[38;5;129;01mis\u001b[39;00m \u001b[38;5;28;01mNone\u001b[39;00m \u001b[38;5;28;01melse\u001b[39;00m model(batch\u001b[38;5;241m.\u001b[39mx, batch\u001b[38;5;241m.\u001b[39medge_index, batch\u001b[38;5;241m.\u001b[39mbatch)\n\u001b[0;32m---> 15\u001b[0m loss \u001b[38;5;241m=\u001b[39m \u001b[43mcriterion\u001b[49m\u001b[43m(\u001b[49m\u001b[43mbatch\u001b[49m\u001b[43m,\u001b[49m\u001b[43m \u001b[49m\u001b[43moutput\u001b[49m\u001b[38;5;241;43m.\u001b[39;49m\u001b[43mto_dense\u001b[49m\u001b[43m(\u001b[49m\u001b[43m)\u001b[49m\u001b[43m)\u001b[49m\n\u001b[1;32m     17\u001b[0m t_loader\u001b[38;5;241m.\u001b[39mset_postfix(train_loss\u001b[38;5;241m=\u001b[39mloss\u001b[38;5;241m.\u001b[39mitem())\n\u001b[1;32m     18\u001b[0m train_loss \u001b[38;5;241m+\u001b[39m\u001b[38;5;241m=\u001b[39m loss\u001b[38;5;241m.\u001b[39mitem()\n",
      "File \u001b[0;32m~/.local/lib/python3.9/site-packages/torch/nn/modules/module.py:1736\u001b[0m, in \u001b[0;36mModule._wrapped_call_impl\u001b[0;34m(self, *args, **kwargs)\u001b[0m\n\u001b[1;32m   1734\u001b[0m     \u001b[38;5;28;01mreturn\u001b[39;00m \u001b[38;5;28mself\u001b[39m\u001b[38;5;241m.\u001b[39m_compiled_call_impl(\u001b[38;5;241m*\u001b[39margs, \u001b[38;5;241m*\u001b[39m\u001b[38;5;241m*\u001b[39mkwargs)  \u001b[38;5;66;03m# type: ignore[misc]\u001b[39;00m\n\u001b[1;32m   1735\u001b[0m \u001b[38;5;28;01melse\u001b[39;00m:\n\u001b[0;32m-> 1736\u001b[0m     \u001b[38;5;28;01mreturn\u001b[39;00m \u001b[38;5;28;43mself\u001b[39;49m\u001b[38;5;241;43m.\u001b[39;49m\u001b[43m_call_impl\u001b[49m\u001b[43m(\u001b[49m\u001b[38;5;241;43m*\u001b[39;49m\u001b[43margs\u001b[49m\u001b[43m,\u001b[49m\u001b[43m \u001b[49m\u001b[38;5;241;43m*\u001b[39;49m\u001b[38;5;241;43m*\u001b[39;49m\u001b[43mkwargs\u001b[49m\u001b[43m)\u001b[49m\n",
      "File \u001b[0;32m~/.local/lib/python3.9/site-packages/torch/nn/modules/module.py:1747\u001b[0m, in \u001b[0;36mModule._call_impl\u001b[0;34m(self, *args, **kwargs)\u001b[0m\n\u001b[1;32m   1742\u001b[0m \u001b[38;5;66;03m# If we don't have any hooks, we want to skip the rest of the logic in\u001b[39;00m\n\u001b[1;32m   1743\u001b[0m \u001b[38;5;66;03m# this function, and just call forward.\u001b[39;00m\n\u001b[1;32m   1744\u001b[0m \u001b[38;5;28;01mif\u001b[39;00m \u001b[38;5;129;01mnot\u001b[39;00m (\u001b[38;5;28mself\u001b[39m\u001b[38;5;241m.\u001b[39m_backward_hooks \u001b[38;5;129;01mor\u001b[39;00m \u001b[38;5;28mself\u001b[39m\u001b[38;5;241m.\u001b[39m_backward_pre_hooks \u001b[38;5;129;01mor\u001b[39;00m \u001b[38;5;28mself\u001b[39m\u001b[38;5;241m.\u001b[39m_forward_hooks \u001b[38;5;129;01mor\u001b[39;00m \u001b[38;5;28mself\u001b[39m\u001b[38;5;241m.\u001b[39m_forward_pre_hooks\n\u001b[1;32m   1745\u001b[0m         \u001b[38;5;129;01mor\u001b[39;00m _global_backward_pre_hooks \u001b[38;5;129;01mor\u001b[39;00m _global_backward_hooks\n\u001b[1;32m   1746\u001b[0m         \u001b[38;5;129;01mor\u001b[39;00m _global_forward_hooks \u001b[38;5;129;01mor\u001b[39;00m _global_forward_pre_hooks):\n\u001b[0;32m-> 1747\u001b[0m     \u001b[38;5;28;01mreturn\u001b[39;00m \u001b[43mforward_call\u001b[49m\u001b[43m(\u001b[49m\u001b[38;5;241;43m*\u001b[39;49m\u001b[43margs\u001b[49m\u001b[43m,\u001b[49m\u001b[43m \u001b[49m\u001b[38;5;241;43m*\u001b[39;49m\u001b[38;5;241;43m*\u001b[39;49m\u001b[43mkwargs\u001b[49m\u001b[43m)\u001b[49m\n\u001b[1;32m   1749\u001b[0m result \u001b[38;5;241m=\u001b[39m \u001b[38;5;28;01mNone\u001b[39;00m\n\u001b[1;32m   1750\u001b[0m called_always_called_hooks \u001b[38;5;241m=\u001b[39m \u001b[38;5;28mset\u001b[39m()\n",
      "Cell \u001b[0;32mIn[42], line 26\u001b[0m, in \u001b[0;36mIdenittyDistance.forward\u001b[0;34m(self, inp, outp)\u001b[0m\n\u001b[1;32m     20\u001b[0m     avg_loss \u001b[38;5;241m+\u001b[39m\u001b[38;5;241m=\u001b[39m \u001b[38;5;241m-\u001b[39mtorch\u001b[38;5;241m.\u001b[39mmean(slog_det) \u001b[38;5;241m*\u001b[39m \u001b[38;5;241m1.0\u001b[39m\n\u001b[1;32m     22\u001b[0m \u001b[38;5;28;01melse\u001b[39;00m:\n\u001b[1;32m     23\u001b[0m     \u001b[38;5;66;03m#eye_frobenius_loss = torch.norm(inner_product - identity, p='fro', dim=(1, 2))\u001b[39;00m\n\u001b[1;32m     24\u001b[0m     \u001b[38;5;66;03m#avg_loss += torch.mean(eye_frobenius_loss) * 1.0\u001b[39;00m\n\u001b[0;32m---> 26\u001b[0m     singular_values \u001b[38;5;241m=\u001b[39m \u001b[43mtorch\u001b[49m\u001b[38;5;241;43m.\u001b[39;49m\u001b[43mlinalg\u001b[49m\u001b[38;5;241;43m.\u001b[39;49m\u001b[43msvdvals\u001b[49m\u001b[43m(\u001b[49m\u001b[43minner_product\u001b[49m\u001b[43m)\u001b[49m\n\u001b[1;32m     27\u001b[0m     log_singular_values \u001b[38;5;241m=\u001b[39m torch\u001b[38;5;241m.\u001b[39mlog(singular_values)\n\u001b[1;32m     28\u001b[0m     log_cond \u001b[38;5;241m=\u001b[39m log_singular_values\u001b[38;5;241m.\u001b[39mmax(dim\u001b[38;5;241m=\u001b[39m\u001b[38;5;241m1\u001b[39m)\u001b[38;5;241m.\u001b[39mvalues \u001b[38;5;241m-\u001b[39m log_singular_values\u001b[38;5;241m.\u001b[39mmin(dim\u001b[38;5;241m=\u001b[39m\u001b[38;5;241m1\u001b[39m)\u001b[38;5;241m.\u001b[39mvalues\n",
      "\u001b[0;31mKeyboardInterrupt\u001b[0m: "
     ]
    }
   ],
   "source": [
    "train_log, valid_log = shared_training_loop(epoches, criterion, loader, vloader, model, lr, b=True)"
   ]
  },
  {
   "cell_type": "code",
   "execution_count": 133,
   "id": "cf68b98a-e7f1-4b94-a8db-592d33e77212",
   "metadata": {},
   "outputs": [],
   "source": [
    "def normalize_features(graph_data):\n",
    "    return graph_data"
   ]
  },
  {
   "cell_type": "code",
   "execution_count": 149,
   "id": "08c1bd1d-7f80-48db-a0aa-b13ffce4785e",
   "metadata": {},
   "outputs": [],
   "source": [
    "def testing(model, dataload):\n",
    "    d = next(iter(dataload)).to(device)\n",
    "    out = model(d.x.to(device), d.edge_index.to(device), d.batch).detach().cpu()\n",
    "    d = d.cpu()\n",
    "    test_singularity(d.x), test_singularity(normalize_features(generate_random_helmholtz(500).toarray()))\n",
    "    \n",
    "    print(torch.norm(out.detach().cpu() @ d.x - torch.eye(500), p=2))\n",
    "    print(torch.norm(out.detach().cpu() @ d.x, p=2))\n",
    "    print(torch.norm(out.detach().cpu(), p=2))\n",
    "    print(torch.norm(torch.eye(500), p=2))\n",
    "    print(torch.linalg.det(out.to_dense().detach().cpu()))\n",
    "    print(torch.linalg.det(d.x))\n",
    "    \n",
    "    print(torch.abs(torch.linalg.det(out.to_dense().detach().cpu() @ d.x)))\n",
    "    print(torch.abs(torch.linalg.det(out.to_dense().detach().cpu() @ d.x)))\n",
    "    plt.matshow(out.to_dense().detach().cpu())\n",
    "    plt.matshow(d.x)\n",
    "    plt.matshow(d.x @ out.to_dense().detach().cpu())"
   ]
  },
  {
   "cell_type": "code",
   "execution_count": 150,
   "id": "c909a0e1-bf54-40c7-b035-b8a681025e43",
   "metadata": {},
   "outputs": [
    {
     "name": "stdout",
     "output_type": "stream",
     "text": [
      "inf\n",
      "Matrix is non-singular.\n",
      "inf\n",
      "Matrix is non-singular.\n",
      "tensor(5.0440e+10)\n",
      "tensor(5.0440e+10)\n",
      "tensor(137396.5625)\n",
      "tensor(22.3607)\n",
      "tensor(-inf)\n",
      "tensor(inf)\n",
      "tensor(inf)\n",
      "tensor(inf)\n"
     ]
    },
    {
     "data": {
      "image/png": "[encoded data removed]",
      "text/plain": [
       "<Figure size 480x480 with 1 Axes>"
      ]
     },
     "metadata": {},
     "output_type": "display_data"
    },
    {
     "data": {
      "image/png": "[encoded data removed]",
      "text/plain": [
       "<Figure size 480x480 with 1 Axes>"
      ]
     },
     "metadata": {},
     "output_type": "display_data"
    },
    {
     "data": {
      "image/png": "[encoded data removed]",
      "text/plain": [
       "<Figure size 480x480 with 1 Axes>"
      ]
     },
     "metadata": {},
     "output_type": "display_data"
    }
   ],
   "source": [
    "testing(gtransformer, dataloader)"
   ]
  },
  {
   "cell_type": "markdown",
   "id": "6b252b1a-a948-4965-b52f-28ed3c22b62b",
   "metadata": {},
   "source": [
    "## (Misc) Models\n",
    "\n",
    "Models I just had an idea with. Not sure if I will use this section, but its here."
   ]
  },
  {
   "cell_type": "code",
   "execution_count": null,
   "id": "a9723bc3-a72e-4283-99f4-53dbba1b4796",
   "metadata": {},
   "outputs": [],
   "source": []
  }
 ],
 "metadata": {
  "kernelspec": {
   "display_name": "Python 3 (ipykernel)",
   "language": "python",
   "name": "python3"
  },
  "language_info": {
   "codemirror_mode": {
    "name": "ipython",
    "version": 3
   },
   "file_extension": ".py",
   "mimetype": "text/x-python",
   "name": "python",
   "nbconvert_exporter": "python",
   "pygments_lexer": "ipython3",
   "version": "3.9.7"
  }
 },
 "nbformat": 4,
 "nbformat_minor": 5
}
