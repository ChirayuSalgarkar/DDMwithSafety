{
 "cells": [
  {
   "cell_type": "markdown",
   "id": "d602e0ee-11c3-4dc8-8b11-a1b764a75d6b",
   "metadata": {},
   "source": [
    "# Summary\n",
    "\n",
    "Milestone 3 of reinforcement learning project. Notebook to get a GMRES that (1) works on GPU and (2) works with batched data.\n",
    "\n",
    "## TODO\n",
    "\n",
    "1. Finish testing.\n",
    "2. Setup dataset from other notebook.\n",
    "3. Integrate the GPU GMRES with the loss to see how much a single step will cost.\n",
    "4. Improve loss from Milestone 2.\n",
    "    1. Vectorize it.\n",
    "    2. Additional terms for sparsity?\n",
    "5. Begin to pretrain actor.\n",
    "    1. First experiment with models.\n",
    "        1. Minimize eye_dist.\n",
    "        2. Try different layers.\n",
    "        3. Try edge prediction. \n",
    "        4. REALLY TRY TO GET SPARSITY. (Log-sum penalty) ?\n",
    "    2. Anything that works, store in a python file.\n",
    "    3. Build out a python file that has models that have worked.\n",
    "    4. Make sure to save weights and successfully plots to /Weights and /Plots\n",
    "6. Train just on small (results).\n",
    "7. Train just on large (results).\n",
    "8. Train SMALLER -> freeze middle -> finetune on large.\n",
    "9. If SMALLER -> LARGER leads to shorter training times and >= results, include as a novelty presented in paper (like many PDE discretization techniques, it is common to control the size, we found results that suggest that the model can generalize well to smaller discretization spaces and be applied effectively to larger state spaces)."
   ]
  },
  {
   "cell_type": "markdown",
   "id": "10aa0577-82ac-4284-b98c-ae00a1ba75e7",
   "metadata": {},
   "source": [
    "# Dataset\n",
    "\n",
    "Same helmholtz dataset from milestone 2."
   ]
  },
  {
   "cell_type": "code",
   "execution_count": 1,
   "id": "c11ca998-fcad-40e9-ae16-c01323c74429",
   "metadata": {},
   "outputs": [
    {
     "name": "stderr",
     "output_type": "stream",
     "text": [
      "/data/users/jupyter-dam724/.local/lib/python3.9/site-packages/torch_geometric/typing.py:68: UserWarning: An issue occurred while importing 'pyg-lib'. Disabling its usage. Stacktrace: /data/users/jupyter-dam724/.local/lib/python3.9/site-packages/libpyg.so: undefined symbol: _ZN3c1010Dispatcher17runRecordFunctionERN2at14RecordFunctionESt17reference_wrapperIKNS_14FunctionSchemaEENS_11DispatchKeyE\n",
      "  warnings.warn(f\"An issue occurred while importing 'pyg-lib'. \"\n",
      "/data/users/jupyter-dam724/.local/lib/python3.9/site-packages/torch_geometric/typing.py:97: UserWarning: An issue occurred while importing 'torch-cluster'. Disabling its usage. Stacktrace: /data/users/jupyter-dam724/.local/lib/python3.9/site-packages/torch_cluster/_version_cuda.so: undefined symbol: _ZN5torch3jit17parseSchemaOrNameERKSs\n",
      "  warnings.warn(f\"An issue occurred while importing 'torch-cluster'. \"\n",
      "/data/users/jupyter-dam724/.local/lib/python3.9/site-packages/torch_geometric/typing.py:113: UserWarning: An issue occurred while importing 'torch-spline-conv'. Disabling its usage. Stacktrace: /data/users/jupyter-dam724/.local/lib/python3.9/site-packages/torch_spline_conv/_version_cuda.so: undefined symbol: _ZN5torch3jit17parseSchemaOrNameERKSs\n",
      "  warnings.warn(\n",
      "/data/users/jupyter-dam724/.local/lib/python3.9/site-packages/torch_geometric/typing.py:124: UserWarning: An issue occurred while importing 'torch-sparse'. Disabling its usage. Stacktrace: /data/users/jupyter-dam724/.local/lib/python3.9/site-packages/torch_sparse/_version_cuda.so: undefined symbol: _ZN5torch3jit17parseSchemaOrNameERKSs\n",
      "  warnings.warn(f\"An issue occurred while importing 'torch-sparse'. \"\n"
     ]
    }
   ],
   "source": [
    "from torch_geometric.data import Dataset, Data\n",
    "from torch_geometric.loader import DataLoader\n",
    "from torch_geometric.utils import dense_to_sparse\n",
    "import numpy as np\n",
    "import scipy.sparse as sp\n",
    "import scipy.sparse.linalg as spla\n",
    "import torch"
   ]
  },
  {
   "cell_type": "code",
   "execution_count": 2,
   "id": "a7882a5a-fe31-4ee0-9398-f2f8d28bedd4",
   "metadata": {},
   "outputs": [],
   "source": [
    "def generate_random_helmholtz(n, density=0.1):\n",
    "    L = 1.0\n",
    "    k = np.random.uniform(1, 2)  # Random wavenumber\n",
    "    h = L / (n - 1)  \n",
    "\n",
    "    # Discretization of Helmholtz operator (1D)\n",
    "    diagonals = [np.ones(n-1), -2*np.ones(n), np.ones(n-1)]\n",
    "\n",
    "    helmholtz = sp.diags(diagonals, [-1, 0, 1]) / h**2 + k**2 * sp.eye(n)\n",
    "\n",
    "    # Ensure no perturbations on the tridiagnonal\n",
    "    perturb = sp.random(n, n, density=density) * np.max(helmholtz)\n",
    "    \n",
    "    perturb.setdiag(0)  # Main diagonal\n",
    "    perturb.setdiag(0, k=1)  # First upper diagonal\n",
    "    perturb.setdiag(0, k=-1)  # First lower diagonal\n",
    "        \n",
    "    return helmholtz"
   ]
  },
  {
   "cell_type": "code",
   "execution_count": 3,
   "id": "ef3dfb36-cfa2-4242-bfc7-f51ac64e2a4a",
   "metadata": {},
   "outputs": [],
   "source": [
    "def test_singularity(mat):\n",
    "    det_mat = np.linalg.det(mat)\n",
    "    print(det_mat)\n",
    "\n",
    "    if np.isclose(det_mat, 0):\n",
    "        print(\"Matrix is singular.\")\n",
    "        return False\n",
    "        \n",
    "    rank_mat = np.linalg.matrix_rank(mat)\n",
    "    if rank_mat < mat.shape[0]:\n",
    "        print(\"Matrix is singular.\")\n",
    "        return False\n",
    "    \n",
    "    print(\"Matrix is non-singular.\")\n",
    "        \n",
    "    return True"
   ]
  },
  {
   "cell_type": "code",
   "execution_count": 4,
   "id": "eccbacf1-b35c-4991-9d2f-71e45b43e7b3",
   "metadata": {},
   "outputs": [],
   "source": [
    "def normalize_features(graph_data):\n",
    "    x_min = graph_data.min()\n",
    "    x_max = graph_data.max()\n",
    "    out = (graph_data - x_min) / (x_max - x_min + 1e-8)\n",
    "    return out.float()\n",
    "\n",
    "def normalize_edge_attr(graph_data):\n",
    "    e_min = graph_data.min()\n",
    "    e_max = graph_data.max()\n",
    "    out = (graph_data - e_min) / (e_max - e_min + 1e-8)\n",
    "    return out.float()"
   ]
  },
  {
   "cell_type": "code",
   "execution_count": 5,
   "id": "c216aa77-3dcc-4661-902a-e80b980cbbd0",
   "metadata": {},
   "outputs": [],
   "source": [
    "class HelmHoltzDataset(Dataset):\n",
    "    def __init__(self, generator, checker, norm_feat, norm_edge, epoch_len, size=20, density=0.1, transform=None):\n",
    "        super().__init__(None, transform)\n",
    "        \n",
    "        self.epoch_len = epoch_len\n",
    "        self.mat_size = size\n",
    "        self.mat_density = density\n",
    "        \n",
    "        self.generator = generator\n",
    "        self.checker = checker\n",
    "        \n",
    "        self.norm_features = norm_feat\n",
    "        self.norm_edge_attr = norm_edge\n",
    "\n",
    "    def len(self):\n",
    "        return self.epoch_len\n",
    "\n",
    "    def get(self, idx):\n",
    "        A = self.generator(self.mat_size, self.mat_density).toarray()\n",
    "        source_nodes, target_nodes = A.nonzero()\n",
    "        edge_weights = torch.from_numpy(A[source_nodes, target_nodes])\n",
    "        source_nodes = torch.from_numpy(source_nodes)\n",
    "        target_nodes = torch.from_numpy(target_nodes)\n",
    "        edge_index = torch.stack([source_nodes, target_nodes], dim=0).to(torch.int64)\n",
    "        \n",
    "        b = torch.randn(self.mat_size).unsqueeze(-1)\n",
    "        \n",
    "        node_features = self.norm_features(b)\n",
    "        edge_weights = self.norm_edge_attr(edge_weights)\n",
    "\n",
    "        data = Data(x=b, edge_index=edge_index, edge_attr=edge_weights)\n",
    "        return torch.from_numpy(A), data"
   ]
  },
  {
   "cell_type": "code",
   "execution_count": 6,
   "id": "cc2aa68b-2272-463e-a6c4-47b7f81f6599",
   "metadata": {},
   "outputs": [],
   "source": [
    "dataset = HelmHoltzDataset(generate_random_helmholtz, test_singularity, normalize_features, normalize_edge_attr, 64*1000)\n",
    "vdataset = HelmHoltzDataset(generate_random_helmholtz, test_singularity, normalize_features, normalize_edge_attr, 64*100)"
   ]
  },
  {
   "cell_type": "code",
   "execution_count": 7,
   "id": "39e31575-7465-4257-9f59-9bf5258d0187",
   "metadata": {},
   "outputs": [],
   "source": [
    "dataloader = DataLoader(dataset, batch_size=1, shuffle=True)\n",
    "vdataloader = DataLoader(vdataset, batch_size=1, shuffle=True)"
   ]
  },
  {
   "cell_type": "markdown",
   "id": "94f1249e-3a0e-4403-afbc-6df89420d884",
   "metadata": {},
   "source": [
    "## Loss Integration\n",
    "\n",
    "Identity distance from Milestone 2 (with vectorized form). This will be the form going forward."
   ]
  },
  {
   "cell_type": "code",
   "execution_count": 8,
   "id": "28d6f6da-59d1-43f3-aac0-8c30d0914d7f",
   "metadata": {},
   "outputs": [],
   "source": [
    "from torch import nn"
   ]
  },
  {
   "cell_type": "code",
   "execution_count": 9,
   "id": "e8fd2a9d-9158-41ed-8a00-1cdb6911b685",
   "metadata": {},
   "outputs": [],
   "source": [
    "class IdenittyDistance(nn.Module):\n",
    "    def __init__(self, l1=None, logsum=None):\n",
    "        super().__init__()\n",
    "        self.l1 = l1\n",
    "        self.logsum = logsum\n",
    "        self.size = 20\n",
    "        \n",
    "    def forward(self, inp, outp):\n",
    "        inp = inp.to(device, torch.float32)\n",
    "        avg_loss = 0\n",
    "        \n",
    "        batch_size = 1\n",
    "        identity = torch.eye(self.size, device=device).expand(batch_size, -1, -1)\n",
    "        inner_product = torch.bmm(outp.view(batch_size, self.size, self.size), inp.view(batch_size, self.size, self.size))\n",
    "        det = torch.mean(torch.abs(torch.linalg.det(inner_product))).item()\n",
    "        \n",
    "        # TODO : Pre-pre, idk man\n",
    "        \n",
    "        # Maximize the determinent | Minimize the condition number     \n",
    "        if False and det < 1.0:\n",
    "            slog_det = torch.log(torch.abs(torch.linalg.det(inner_product)))\n",
    "            avg_loss += -torch.mean(slog_det) * 1.0\n",
    "            \n",
    "        else:\n",
    "            #eye_frobenius_loss = torch.norm(inner_product - identity, p='fro', dim=(1, 2))\n",
    "            #avg_loss += torch.mean(eye_frobenius_loss) * 1.0\n",
    "        \n",
    "            singular_values = torch.linalg.svdvals(inner_product)\n",
    "            log_singular_values = torch.log(singular_values)\n",
    "            log_cond = log_singular_values.max(dim=1).values - log_singular_values.min(dim=1).values\n",
    "            avg_loss += torch.mean(log_cond) * 1.0\n",
    "        \n",
    "            if self.l1 is not None:\n",
    "                avg_loss += self.l1 * torch.norm(outp, p=1) * 1.0\n",
    "            elif self.logsum is not None:\n",
    "                avg_loss += torch.sum(torch.log(1 + torch.abs(outp) / self.logsum))\n",
    "        \n",
    "        return avg_loss"
   ]
  },
  {
   "cell_type": "markdown",
   "id": "226fed77-e5d9-4eea-abd3-90576ba26071",
   "metadata": {},
   "source": [
    "# Models\n",
    "\n",
    "Potential models for actor network.\n",
    "\n",
    "**NOTE:** Aim for a model roughly 10 GBs in size. Need room for critic, actor, and GMRES. "
   ]
  },
  {
   "cell_type": "code",
   "execution_count": 10,
   "id": "136ebae2-96aa-460c-abe8-86e8e3434fcf",
   "metadata": {},
   "outputs": [],
   "source": [
    "from tqdm.notebook import tqdm\n",
    "import torch.optim as optim\n",
    "import torch.nn.utils as nn_utils"
   ]
  },
  {
   "cell_type": "code",
   "execution_count": 11,
   "id": "3f485930-2a6b-4b07-ba4a-578343b9cd3a",
   "metadata": {},
   "outputs": [],
   "source": [
    "def shared_training_loop(epoches, criterion, train_loader, valid_loader, model, lr, b=None):\n",
    "    optimizer = optim.Adam(model.parameters(), lr=lr)\n",
    "    scheduler = optim.lr_scheduler.ReduceLROnPlateau(optimizer, mode='min', factor=0.1, patience=5, verbose=True, threshold=1e-3)\n",
    "\n",
    "    train_log, valid_log = np.zeros(epoches), np.zeros(epoches)\n",
    "    \n",
    "    for epoch in range(epoches):\n",
    "        \n",
    "        train_loss = 0\n",
    "        model.train()\n",
    "        t_loader = tqdm(train_loader, desc=f'Train', leave=False, mininterval=2.0)\n",
    "        for batch in t_loader:\n",
    "            A, batch = batch\n",
    "            batch = batch.to(device)\n",
    "            output = model(batch.x, batch.edge_index, batch.edge_attr, batch.batch)\n",
    "            loss = criterion(A, output.to_dense())\n",
    "\n",
    "            t_loader.set_postfix(train_loss=loss.item())\n",
    "            train_loss += loss.item()\n",
    "\n",
    "            optimizer.zero_grad() \n",
    "            loss.backward()\n",
    "            optimizer.step()\n",
    "            \n",
    "        valid_loss = 0\n",
    "        model.eval()\n",
    "        v_loader = tqdm(valid_loader, desc=f'Valid', leave=False, mininterval=2.0)\n",
    "        for batch in v_loader:\n",
    "            with torch.no_grad():\n",
    "                A, batch = batch\n",
    "                batch = batch.to(device)\n",
    "                output = model(batch.x, batch.edge_index, batch.edge_attr, batch.batch)\n",
    "                loss = criterion(A, output.to_dense())\n",
    "\n",
    "                v_loader.set_postfix(valid_loss=loss.item())\n",
    "                valid_loss += loss.item()\n",
    "                \n",
    "        print(f'Epoch: {epoch}, Train: {train_loss/len(t_loader)}, Valid: {valid_loss/len(v_loader)}')\n",
    "        train_log[epoch], valid_log[epoch] = train_loss, valid_loss\n",
    "        \n",
    "        scheduler.step(valid_loss)\n",
    "        \n",
    "    return train_log, valid_log"
   ]
  },
  {
   "cell_type": "code",
   "execution_count": 12,
   "id": "72fd21bc-a78e-4e00-9255-be684d08ae66",
   "metadata": {},
   "outputs": [],
   "source": [
    "import matplotlib.pyplot as plt"
   ]
  },
  {
   "cell_type": "code",
   "execution_count": 13,
   "id": "47d39a2e-d7f0-4612-82da-2649886dd3ad",
   "metadata": {},
   "outputs": [],
   "source": [
    "def plot_training(train_log, valid_log, title='EX', filename='ex'):\n",
    "    plt.plot(train_log, label=\"Train\")\n",
    "    plt.plot(valid_log, label=\"Valid\")\n",
    "    plt.title(f'{title}: Train/Valid Log')\n",
    "    plt.xlabel('Epoch')\n",
    "    plt.ylabel('Loss')\n",
    "    plt.legend()\n",
    "    \n",
    "    plt.savefig(f'{filename}.png')\n",
    "    plt.show()"
   ]
  },
  {
   "cell_type": "markdown",
   "id": "aecb65c2-8d9d-4af3-8b30-733ddef0bca5",
   "metadata": {},
   "source": [
    "## (Edge Prediction) Models\n",
    "\n",
    "Models in which the node features are passed in pairs to linear layers and compute an edge weight.\n",
    "\n",
    "Sharing a training loop means some things like edge prediction will happen within the model class.\n",
    "\n",
    "This model fixes the sparsity to be exactly the same as the input by only computing entries on the edge indexes."
   ]
  },
  {
   "cell_type": "markdown",
   "id": "00199b82-34b6-4938-8be9-0adfb2886de7",
   "metadata": {},
   "source": [
    "## TODO\n",
    "\n",
    "Model from NeuralIF paper."
   ]
  },
  {
   "cell_type": "code",
   "execution_count": 15,
   "id": "55a8f4d3-822d-48a2-9aa8-859ee52c9cf6",
   "metadata": {},
   "outputs": [],
   "source": [
    "device = torch.device('cuda' if torch.cuda.is_available() else 'cpu')"
   ]
  },
  {
   "cell_type": "code",
   "execution_count": 16,
   "id": "64138f2a-5d1a-41f5-b87a-880b5baa98fd",
   "metadata": {},
   "outputs": [],
   "source": [
    "from neuralIncompleteFactorization.neuralif import models"
   ]
  },
  {
   "cell_type": "code",
   "execution_count": 17,
   "id": "a055c19a-775f-48fa-8a40-196efddb095d",
   "metadata": {},
   "outputs": [],
   "source": [
    "kwargs = {\n",
    "    \"latent_size\": 16, \n",
    "    \"message_passing_steps\": 4, \n",
    "    \"skip_connections\": 1,                  \n",
    "    \"augment_nodes\": 1, \n",
    "    \"global_features\": 0, \n",
    "    \"decode_nodes\": 4,                  \n",
    "    \"normalize_diag\": True, \n",
    "    \"activation\": True, \n",
    "    \"aggregate\": None, \n",
    "    \"graph_norm\": None,\n",
    "    \"two_hop\": None, \n",
    "    \"edge_features\": 4, \n",
    "    \"normalize\": None\n",
    "}\n",
    "\n",
    "model = models.NeuralPCG(**kwargs)"
   ]
  },
  {
   "cell_type": "code",
   "execution_count": 18,
   "id": "4d884707-c08f-425d-a2b0-2940e9d3b23a",
   "metadata": {},
   "outputs": [],
   "source": [
    "from neuralIncompleteFactorization.apps import synthetic"
   ]
  },
  {
   "cell_type": "code",
   "execution_count": 22,
   "id": "6ff35146-ce7f-471d-8b23-5b7a24288dce",
   "metadata": {},
   "outputs": [
    {
     "ename": "RuntimeError",
     "evalue": "mat1 and mat2 shapes cannot be multiplied (1x58 and 1x16)",
     "output_type": "error",
     "traceback": [
      "\u001b[0;31m---------------------------------------------------------------------------\u001b[0m",
      "\u001b[0;31mRuntimeError\u001b[0m                              Traceback (most recent call last)",
      "Cell \u001b[0;32mIn[22], line 1\u001b[0m\n\u001b[0;32m----> 1\u001b[0m \u001b[43mmodel\u001b[49m\u001b[43m(\u001b[49m\u001b[38;5;28;43mnext\u001b[39;49m\u001b[43m(\u001b[49m\u001b[38;5;28;43miter\u001b[39;49m\u001b[43m(\u001b[49m\u001b[43mdataloader\u001b[49m\u001b[43m)\u001b[49m\u001b[43m)\u001b[49m\u001b[43m[\u001b[49m\u001b[38;5;241;43m1\u001b[39;49m\u001b[43m]\u001b[49m\u001b[43m)\u001b[49m\n",
      "File \u001b[0;32m~/.local/lib/python3.9/site-packages/torch/nn/modules/module.py:1736\u001b[0m, in \u001b[0;36mModule._wrapped_call_impl\u001b[0;34m(self, *args, **kwargs)\u001b[0m\n\u001b[1;32m   1734\u001b[0m     \u001b[38;5;28;01mreturn\u001b[39;00m \u001b[38;5;28mself\u001b[39m\u001b[38;5;241m.\u001b[39m_compiled_call_impl(\u001b[38;5;241m*\u001b[39margs, \u001b[38;5;241m*\u001b[39m\u001b[38;5;241m*\u001b[39mkwargs)  \u001b[38;5;66;03m# type: ignore[misc]\u001b[39;00m\n\u001b[1;32m   1735\u001b[0m \u001b[38;5;28;01melse\u001b[39;00m:\n\u001b[0;32m-> 1736\u001b[0m     \u001b[38;5;28;01mreturn\u001b[39;00m \u001b[38;5;28;43mself\u001b[39;49m\u001b[38;5;241;43m.\u001b[39;49m\u001b[43m_call_impl\u001b[49m\u001b[43m(\u001b[49m\u001b[38;5;241;43m*\u001b[39;49m\u001b[43margs\u001b[49m\u001b[43m,\u001b[49m\u001b[43m \u001b[49m\u001b[38;5;241;43m*\u001b[39;49m\u001b[38;5;241;43m*\u001b[39;49m\u001b[43mkwargs\u001b[49m\u001b[43m)\u001b[49m\n",
      "File \u001b[0;32m~/.local/lib/python3.9/site-packages/torch/nn/modules/module.py:1747\u001b[0m, in \u001b[0;36mModule._call_impl\u001b[0;34m(self, *args, **kwargs)\u001b[0m\n\u001b[1;32m   1742\u001b[0m \u001b[38;5;66;03m# If we don't have any hooks, we want to skip the rest of the logic in\u001b[39;00m\n\u001b[1;32m   1743\u001b[0m \u001b[38;5;66;03m# this function, and just call forward.\u001b[39;00m\n\u001b[1;32m   1744\u001b[0m \u001b[38;5;28;01mif\u001b[39;00m \u001b[38;5;129;01mnot\u001b[39;00m (\u001b[38;5;28mself\u001b[39m\u001b[38;5;241m.\u001b[39m_backward_hooks \u001b[38;5;129;01mor\u001b[39;00m \u001b[38;5;28mself\u001b[39m\u001b[38;5;241m.\u001b[39m_backward_pre_hooks \u001b[38;5;129;01mor\u001b[39;00m \u001b[38;5;28mself\u001b[39m\u001b[38;5;241m.\u001b[39m_forward_hooks \u001b[38;5;129;01mor\u001b[39;00m \u001b[38;5;28mself\u001b[39m\u001b[38;5;241m.\u001b[39m_forward_pre_hooks\n\u001b[1;32m   1745\u001b[0m         \u001b[38;5;129;01mor\u001b[39;00m _global_backward_pre_hooks \u001b[38;5;129;01mor\u001b[39;00m _global_backward_hooks\n\u001b[1;32m   1746\u001b[0m         \u001b[38;5;129;01mor\u001b[39;00m _global_forward_hooks \u001b[38;5;129;01mor\u001b[39;00m _global_forward_pre_hooks):\n\u001b[0;32m-> 1747\u001b[0m     \u001b[38;5;28;01mreturn\u001b[39;00m \u001b[43mforward_call\u001b[49m\u001b[43m(\u001b[49m\u001b[38;5;241;43m*\u001b[39;49m\u001b[43margs\u001b[49m\u001b[43m,\u001b[49m\u001b[43m \u001b[49m\u001b[38;5;241;43m*\u001b[39;49m\u001b[38;5;241;43m*\u001b[39;49m\u001b[43mkwargs\u001b[49m\u001b[43m)\u001b[49m\n\u001b[1;32m   1749\u001b[0m result \u001b[38;5;241m=\u001b[39m \u001b[38;5;28;01mNone\u001b[39;00m\n\u001b[1;32m   1750\u001b[0m called_always_called_hooks \u001b[38;5;241m=\u001b[39m \u001b[38;5;28mset\u001b[39m()\n",
      "File \u001b[0;32m~/RL/precondition-discovery-contextual-bandit/neuralIncompleteFactorization/neuralif/models.py:209\u001b[0m, in \u001b[0;36mNeuralPCG.forward\u001b[0;34m(self, data)\u001b[0m\n\u001b[1;32m    206\u001b[0m diag_idx \u001b[38;5;241m=\u001b[39m edge_index[\u001b[38;5;241m0\u001b[39m] \u001b[38;5;241m==\u001b[39m edge_index[\u001b[38;5;241m1\u001b[39m]\n\u001b[1;32m    207\u001b[0m diag_values \u001b[38;5;241m=\u001b[39m data\u001b[38;5;241m.\u001b[39medge_attr[diag_idx]\u001b[38;5;241m.\u001b[39mclone()\n\u001b[0;32m--> 209\u001b[0m latent_edges \u001b[38;5;241m=\u001b[39m \u001b[38;5;28;43mself\u001b[39;49m\u001b[38;5;241;43m.\u001b[39;49m\u001b[43mencoder_edges\u001b[49m\u001b[43m(\u001b[49m\u001b[43mx_edges\u001b[49m\u001b[43m)\u001b[49m\n\u001b[1;32m    210\u001b[0m latent_nodes \u001b[38;5;241m=\u001b[39m \u001b[38;5;28mself\u001b[39m\u001b[38;5;241m.\u001b[39mencoder_nodes(x_nodes)\n\u001b[1;32m    212\u001b[0m \u001b[38;5;28;01mfor\u001b[39;00m message_passing_layer \u001b[38;5;129;01min\u001b[39;00m \u001b[38;5;28mself\u001b[39m\u001b[38;5;241m.\u001b[39mmessage_passing:\n",
      "File \u001b[0;32m~/.local/lib/python3.9/site-packages/torch/nn/modules/module.py:1736\u001b[0m, in \u001b[0;36mModule._wrapped_call_impl\u001b[0;34m(self, *args, **kwargs)\u001b[0m\n\u001b[1;32m   1734\u001b[0m     \u001b[38;5;28;01mreturn\u001b[39;00m \u001b[38;5;28mself\u001b[39m\u001b[38;5;241m.\u001b[39m_compiled_call_impl(\u001b[38;5;241m*\u001b[39margs, \u001b[38;5;241m*\u001b[39m\u001b[38;5;241m*\u001b[39mkwargs)  \u001b[38;5;66;03m# type: ignore[misc]\u001b[39;00m\n\u001b[1;32m   1735\u001b[0m \u001b[38;5;28;01melse\u001b[39;00m:\n\u001b[0;32m-> 1736\u001b[0m     \u001b[38;5;28;01mreturn\u001b[39;00m \u001b[38;5;28;43mself\u001b[39;49m\u001b[38;5;241;43m.\u001b[39;49m\u001b[43m_call_impl\u001b[49m\u001b[43m(\u001b[49m\u001b[38;5;241;43m*\u001b[39;49m\u001b[43margs\u001b[49m\u001b[43m,\u001b[49m\u001b[43m \u001b[49m\u001b[38;5;241;43m*\u001b[39;49m\u001b[38;5;241;43m*\u001b[39;49m\u001b[43mkwargs\u001b[49m\u001b[43m)\u001b[49m\n",
      "File \u001b[0;32m~/.local/lib/python3.9/site-packages/torch/nn/modules/module.py:1747\u001b[0m, in \u001b[0;36mModule._call_impl\u001b[0;34m(self, *args, **kwargs)\u001b[0m\n\u001b[1;32m   1742\u001b[0m \u001b[38;5;66;03m# If we don't have any hooks, we want to skip the rest of the logic in\u001b[39;00m\n\u001b[1;32m   1743\u001b[0m \u001b[38;5;66;03m# this function, and just call forward.\u001b[39;00m\n\u001b[1;32m   1744\u001b[0m \u001b[38;5;28;01mif\u001b[39;00m \u001b[38;5;129;01mnot\u001b[39;00m (\u001b[38;5;28mself\u001b[39m\u001b[38;5;241m.\u001b[39m_backward_hooks \u001b[38;5;129;01mor\u001b[39;00m \u001b[38;5;28mself\u001b[39m\u001b[38;5;241m.\u001b[39m_backward_pre_hooks \u001b[38;5;129;01mor\u001b[39;00m \u001b[38;5;28mself\u001b[39m\u001b[38;5;241m.\u001b[39m_forward_hooks \u001b[38;5;129;01mor\u001b[39;00m \u001b[38;5;28mself\u001b[39m\u001b[38;5;241m.\u001b[39m_forward_pre_hooks\n\u001b[1;32m   1745\u001b[0m         \u001b[38;5;129;01mor\u001b[39;00m _global_backward_pre_hooks \u001b[38;5;129;01mor\u001b[39;00m _global_backward_hooks\n\u001b[1;32m   1746\u001b[0m         \u001b[38;5;129;01mor\u001b[39;00m _global_forward_hooks \u001b[38;5;129;01mor\u001b[39;00m _global_forward_pre_hooks):\n\u001b[0;32m-> 1747\u001b[0m     \u001b[38;5;28;01mreturn\u001b[39;00m \u001b[43mforward_call\u001b[49m\u001b[43m(\u001b[49m\u001b[38;5;241;43m*\u001b[39;49m\u001b[43margs\u001b[49m\u001b[43m,\u001b[49m\u001b[43m \u001b[49m\u001b[38;5;241;43m*\u001b[39;49m\u001b[38;5;241;43m*\u001b[39;49m\u001b[43mkwargs\u001b[49m\u001b[43m)\u001b[49m\n\u001b[1;32m   1749\u001b[0m result \u001b[38;5;241m=\u001b[39m \u001b[38;5;28;01mNone\u001b[39;00m\n\u001b[1;32m   1750\u001b[0m called_always_called_hooks \u001b[38;5;241m=\u001b[39m \u001b[38;5;28mset\u001b[39m()\n",
      "File \u001b[0;32m~/RL/precondition-discovery-contextual-bandit/neuralIncompleteFactorization/neuralif/models.py:128\u001b[0m, in \u001b[0;36mMLP.forward\u001b[0;34m(self, x)\u001b[0m\n\u001b[1;32m    127\u001b[0m \u001b[38;5;28;01mdef\u001b[39;00m \u001b[38;5;21mforward\u001b[39m(\u001b[38;5;28mself\u001b[39m, x):\n\u001b[0;32m--> 128\u001b[0m     \u001b[38;5;28;01mreturn\u001b[39;00m \u001b[38;5;28;43mself\u001b[39;49m\u001b[38;5;241;43m.\u001b[39;49m\u001b[43mm\u001b[49m\u001b[43m(\u001b[49m\u001b[43mx\u001b[49m\u001b[43m)\u001b[49m\n",
      "File \u001b[0;32m~/.local/lib/python3.9/site-packages/torch/nn/modules/module.py:1736\u001b[0m, in \u001b[0;36mModule._wrapped_call_impl\u001b[0;34m(self, *args, **kwargs)\u001b[0m\n\u001b[1;32m   1734\u001b[0m     \u001b[38;5;28;01mreturn\u001b[39;00m \u001b[38;5;28mself\u001b[39m\u001b[38;5;241m.\u001b[39m_compiled_call_impl(\u001b[38;5;241m*\u001b[39margs, \u001b[38;5;241m*\u001b[39m\u001b[38;5;241m*\u001b[39mkwargs)  \u001b[38;5;66;03m# type: ignore[misc]\u001b[39;00m\n\u001b[1;32m   1735\u001b[0m \u001b[38;5;28;01melse\u001b[39;00m:\n\u001b[0;32m-> 1736\u001b[0m     \u001b[38;5;28;01mreturn\u001b[39;00m \u001b[38;5;28;43mself\u001b[39;49m\u001b[38;5;241;43m.\u001b[39;49m\u001b[43m_call_impl\u001b[49m\u001b[43m(\u001b[49m\u001b[38;5;241;43m*\u001b[39;49m\u001b[43margs\u001b[49m\u001b[43m,\u001b[49m\u001b[43m \u001b[49m\u001b[38;5;241;43m*\u001b[39;49m\u001b[38;5;241;43m*\u001b[39;49m\u001b[43mkwargs\u001b[49m\u001b[43m)\u001b[49m\n",
      "File \u001b[0;32m~/.local/lib/python3.9/site-packages/torch/nn/modules/module.py:1747\u001b[0m, in \u001b[0;36mModule._call_impl\u001b[0;34m(self, *args, **kwargs)\u001b[0m\n\u001b[1;32m   1742\u001b[0m \u001b[38;5;66;03m# If we don't have any hooks, we want to skip the rest of the logic in\u001b[39;00m\n\u001b[1;32m   1743\u001b[0m \u001b[38;5;66;03m# this function, and just call forward.\u001b[39;00m\n\u001b[1;32m   1744\u001b[0m \u001b[38;5;28;01mif\u001b[39;00m \u001b[38;5;129;01mnot\u001b[39;00m (\u001b[38;5;28mself\u001b[39m\u001b[38;5;241m.\u001b[39m_backward_hooks \u001b[38;5;129;01mor\u001b[39;00m \u001b[38;5;28mself\u001b[39m\u001b[38;5;241m.\u001b[39m_backward_pre_hooks \u001b[38;5;129;01mor\u001b[39;00m \u001b[38;5;28mself\u001b[39m\u001b[38;5;241m.\u001b[39m_forward_hooks \u001b[38;5;129;01mor\u001b[39;00m \u001b[38;5;28mself\u001b[39m\u001b[38;5;241m.\u001b[39m_forward_pre_hooks\n\u001b[1;32m   1745\u001b[0m         \u001b[38;5;129;01mor\u001b[39;00m _global_backward_pre_hooks \u001b[38;5;129;01mor\u001b[39;00m _global_backward_hooks\n\u001b[1;32m   1746\u001b[0m         \u001b[38;5;129;01mor\u001b[39;00m _global_forward_hooks \u001b[38;5;129;01mor\u001b[39;00m _global_forward_pre_hooks):\n\u001b[0;32m-> 1747\u001b[0m     \u001b[38;5;28;01mreturn\u001b[39;00m \u001b[43mforward_call\u001b[49m\u001b[43m(\u001b[49m\u001b[38;5;241;43m*\u001b[39;49m\u001b[43margs\u001b[49m\u001b[43m,\u001b[49m\u001b[43m \u001b[49m\u001b[38;5;241;43m*\u001b[39;49m\u001b[38;5;241;43m*\u001b[39;49m\u001b[43mkwargs\u001b[49m\u001b[43m)\u001b[49m\n\u001b[1;32m   1749\u001b[0m result \u001b[38;5;241m=\u001b[39m \u001b[38;5;28;01mNone\u001b[39;00m\n\u001b[1;32m   1750\u001b[0m called_always_called_hooks \u001b[38;5;241m=\u001b[39m \u001b[38;5;28mset\u001b[39m()\n",
      "File \u001b[0;32m~/.local/lib/python3.9/site-packages/torch/nn/modules/container.py:250\u001b[0m, in \u001b[0;36mSequential.forward\u001b[0;34m(self, input)\u001b[0m\n\u001b[1;32m    248\u001b[0m \u001b[38;5;28;01mdef\u001b[39;00m \u001b[38;5;21mforward\u001b[39m(\u001b[38;5;28mself\u001b[39m, \u001b[38;5;28minput\u001b[39m):\n\u001b[1;32m    249\u001b[0m     \u001b[38;5;28;01mfor\u001b[39;00m module \u001b[38;5;129;01min\u001b[39;00m \u001b[38;5;28mself\u001b[39m:\n\u001b[0;32m--> 250\u001b[0m         \u001b[38;5;28minput\u001b[39m \u001b[38;5;241m=\u001b[39m \u001b[43mmodule\u001b[49m\u001b[43m(\u001b[49m\u001b[38;5;28;43minput\u001b[39;49m\u001b[43m)\u001b[49m\n\u001b[1;32m    251\u001b[0m     \u001b[38;5;28;01mreturn\u001b[39;00m \u001b[38;5;28minput\u001b[39m\n",
      "File \u001b[0;32m~/.local/lib/python3.9/site-packages/torch/nn/modules/module.py:1736\u001b[0m, in \u001b[0;36mModule._wrapped_call_impl\u001b[0;34m(self, *args, **kwargs)\u001b[0m\n\u001b[1;32m   1734\u001b[0m     \u001b[38;5;28;01mreturn\u001b[39;00m \u001b[38;5;28mself\u001b[39m\u001b[38;5;241m.\u001b[39m_compiled_call_impl(\u001b[38;5;241m*\u001b[39margs, \u001b[38;5;241m*\u001b[39m\u001b[38;5;241m*\u001b[39mkwargs)  \u001b[38;5;66;03m# type: ignore[misc]\u001b[39;00m\n\u001b[1;32m   1735\u001b[0m \u001b[38;5;28;01melse\u001b[39;00m:\n\u001b[0;32m-> 1736\u001b[0m     \u001b[38;5;28;01mreturn\u001b[39;00m \u001b[38;5;28;43mself\u001b[39;49m\u001b[38;5;241;43m.\u001b[39;49m\u001b[43m_call_impl\u001b[49m\u001b[43m(\u001b[49m\u001b[38;5;241;43m*\u001b[39;49m\u001b[43margs\u001b[49m\u001b[43m,\u001b[49m\u001b[43m \u001b[49m\u001b[38;5;241;43m*\u001b[39;49m\u001b[38;5;241;43m*\u001b[39;49m\u001b[43mkwargs\u001b[49m\u001b[43m)\u001b[49m\n",
      "File \u001b[0;32m~/.local/lib/python3.9/site-packages/torch/nn/modules/module.py:1747\u001b[0m, in \u001b[0;36mModule._call_impl\u001b[0;34m(self, *args, **kwargs)\u001b[0m\n\u001b[1;32m   1742\u001b[0m \u001b[38;5;66;03m# If we don't have any hooks, we want to skip the rest of the logic in\u001b[39;00m\n\u001b[1;32m   1743\u001b[0m \u001b[38;5;66;03m# this function, and just call forward.\u001b[39;00m\n\u001b[1;32m   1744\u001b[0m \u001b[38;5;28;01mif\u001b[39;00m \u001b[38;5;129;01mnot\u001b[39;00m (\u001b[38;5;28mself\u001b[39m\u001b[38;5;241m.\u001b[39m_backward_hooks \u001b[38;5;129;01mor\u001b[39;00m \u001b[38;5;28mself\u001b[39m\u001b[38;5;241m.\u001b[39m_backward_pre_hooks \u001b[38;5;129;01mor\u001b[39;00m \u001b[38;5;28mself\u001b[39m\u001b[38;5;241m.\u001b[39m_forward_hooks \u001b[38;5;129;01mor\u001b[39;00m \u001b[38;5;28mself\u001b[39m\u001b[38;5;241m.\u001b[39m_forward_pre_hooks\n\u001b[1;32m   1745\u001b[0m         \u001b[38;5;129;01mor\u001b[39;00m _global_backward_pre_hooks \u001b[38;5;129;01mor\u001b[39;00m _global_backward_hooks\n\u001b[1;32m   1746\u001b[0m         \u001b[38;5;129;01mor\u001b[39;00m _global_forward_hooks \u001b[38;5;129;01mor\u001b[39;00m _global_forward_pre_hooks):\n\u001b[0;32m-> 1747\u001b[0m     \u001b[38;5;28;01mreturn\u001b[39;00m \u001b[43mforward_call\u001b[49m\u001b[43m(\u001b[49m\u001b[38;5;241;43m*\u001b[39;49m\u001b[43margs\u001b[49m\u001b[43m,\u001b[49m\u001b[43m \u001b[49m\u001b[38;5;241;43m*\u001b[39;49m\u001b[38;5;241;43m*\u001b[39;49m\u001b[43mkwargs\u001b[49m\u001b[43m)\u001b[49m\n\u001b[1;32m   1749\u001b[0m result \u001b[38;5;241m=\u001b[39m \u001b[38;5;28;01mNone\u001b[39;00m\n\u001b[1;32m   1750\u001b[0m called_always_called_hooks \u001b[38;5;241m=\u001b[39m \u001b[38;5;28mset\u001b[39m()\n",
      "File \u001b[0;32m~/.local/lib/python3.9/site-packages/torch/nn/modules/linear.py:125\u001b[0m, in \u001b[0;36mLinear.forward\u001b[0;34m(self, input)\u001b[0m\n\u001b[1;32m    124\u001b[0m \u001b[38;5;28;01mdef\u001b[39;00m \u001b[38;5;21mforward\u001b[39m(\u001b[38;5;28mself\u001b[39m, \u001b[38;5;28minput\u001b[39m: Tensor) \u001b[38;5;241m-\u001b[39m\u001b[38;5;241m>\u001b[39m Tensor:\n\u001b[0;32m--> 125\u001b[0m     \u001b[38;5;28;01mreturn\u001b[39;00m \u001b[43mF\u001b[49m\u001b[38;5;241;43m.\u001b[39;49m\u001b[43mlinear\u001b[49m\u001b[43m(\u001b[49m\u001b[38;5;28;43minput\u001b[39;49m\u001b[43m,\u001b[49m\u001b[43m \u001b[49m\u001b[38;5;28;43mself\u001b[39;49m\u001b[38;5;241;43m.\u001b[39;49m\u001b[43mweight\u001b[49m\u001b[43m,\u001b[49m\u001b[43m \u001b[49m\u001b[38;5;28;43mself\u001b[39;49m\u001b[38;5;241;43m.\u001b[39;49m\u001b[43mbias\u001b[49m\u001b[43m)\u001b[49m\n",
      "\u001b[0;31mRuntimeError\u001b[0m: mat1 and mat2 shapes cannot be multiplied (1x58 and 1x16)"
     ]
    }
   ],
   "source": [
    "model(next(iter(dataloader))[1])"
   ]
  },
  {
   "cell_type": "code",
   "execution_count": null,
   "id": "0d0c95a2-a760-4b78-8632-ca22a4b983b7",
   "metadata": {},
   "outputs": [],
   "source": []
  },
  {
   "cell_type": "code",
   "execution_count": null,
   "id": "a0be7877-6015-435d-9037-af8d21470de2",
   "metadata": {},
   "outputs": [],
   "source": []
  },
  {
   "cell_type": "code",
   "execution_count": null,
   "id": "9a148202-db59-45d2-aee8-1e7a0d0338d9",
   "metadata": {},
   "outputs": [],
   "source": []
  },
  {
   "cell_type": "markdown",
   "id": "8bcde470-e4bf-4f07-8272-53153f0e13d5",
   "metadata": {},
   "source": [
    "### TransformerConv\n",
    "\n",
    "Uses a transformer network to pass messages.\n",
    "\n",
    "This model is very broken. Some sort of index out of bounds, need to figure out where the issue is."
   ]
  },
  {
   "cell_type": "code",
   "execution_count": 317,
   "id": "fb517980-4e4f-47c9-af57-76e24107560a",
   "metadata": {},
   "outputs": [],
   "source": [
    "device = torch.device('cuda' if torch.cuda.is_available() else 'cpu')"
   ]
  },
  {
   "cell_type": "code",
   "execution_count": 318,
   "id": "d16eca1e-6f51-4183-93c2-a31dd69d1616",
   "metadata": {},
   "outputs": [],
   "source": [
    "from torch_geometric.nn import TransformerConv, GraphConv"
   ]
  },
  {
   "cell_type": "code",
   "execution_count": 319,
   "id": "cd9afcdd-68d6-4579-8e46-4aa2be865166",
   "metadata": {},
   "outputs": [],
   "source": [
    "class GraphTransformer(nn.Module):\n",
    "    def __init__(self, in_channels=1, out_channels=20, hidden_channels=128, heads=5, dropout=0.25, num_layers=5):\n",
    "        super(GraphTransformer, self).__init__()\n",
    "        \n",
    "        self.activation = nn.ReLU()\n",
    "        self.layers = nn.ModuleList()\n",
    "        \n",
    "        self.layers.append(GraphConv(in_channels, hidden_channels))\n",
    "        for _ in range(num_layers - 2):\n",
    "            self.layers.append(GraphConv(hidden_channels, hidden_channels))\n",
    "        self.layers.append(GraphConv(hidden_channels, out_channels))\n",
    "        \n",
    "        self.edge_scorer = nn.Linear(2 * out_channels, 1)  \n",
    "\n",
    "    def forward(self, x_in, edge_index, edge_attr, batch):\n",
    "        x = x_in\n",
    "        for conv in self.layers:\n",
    "            x = conv(x, edge_index, edge_attr)\n",
    "            x = self.activation(x)\n",
    "            \n",
    "        # Compute edge scores\n",
    "        row, col = edge_index  # source and target node indices for each edge\n",
    "        edge_features = torch.cat([x[row], x[col]], dim=-1)  # Concatenate source and target embeddings\n",
    "        edge_scores = self.edge_scorer(edge_features).squeeze(-1)  # Shape: (num_edges,)\n",
    "        \n",
    "        # Initialize batched sparse matrices\n",
    "        num_nodes = 20\n",
    "        batch_size = batch.max().item() + 1\n",
    "        \n",
    "        # Select edges belonging to the i-th graph in the batch\n",
    "        batch_mask = (batch[row] == 0)\n",
    "        batch_edges = edge_index[:, batch_mask]\n",
    "        batch_scores = edge_scores[batch_mask]\n",
    "\n",
    "        # Create a sparse matrix for the i-th graph\n",
    "        sparse_matrix = torch.sparse_coo_tensor(\n",
    "            batch_edges,\n",
    "            batch_scores,\n",
    "            (num_nodes, num_nodes)\n",
    "        )\n",
    "                        \n",
    "        return sparse_matrix"
   ]
  },
  {
   "cell_type": "code",
   "execution_count": 320,
   "id": "c9a18dfd-f7f5-4c57-bf61-eaf15cd90122",
   "metadata": {},
   "outputs": [],
   "source": [
    "gtransformer = GraphTransformer()"
   ]
  },
  {
   "cell_type": "code",
   "execution_count": 321,
   "id": "c215029f-ac05-460f-a74c-8628fe1e8a2c",
   "metadata": {},
   "outputs": [],
   "source": [
    "epoches = 10\n",
    "loader = dataloader\n",
    "vloader = vdataloader\n",
    "model = gtransformer.to(device)\n",
    "lr = 1e-5"
   ]
  },
  {
   "cell_type": "code",
   "execution_count": 322,
   "id": "1127b7f9-f728-4615-abd8-a251a8fb5e35",
   "metadata": {},
   "outputs": [],
   "source": [
    "criterion = IdenittyDistance()"
   ]
  },
  {
   "cell_type": "code",
   "execution_count": 323,
   "id": "6fee70e4-5b9f-43ac-ad9a-0bc3a7b15708",
   "metadata": {
    "tags": []
   },
   "outputs": [
    {
     "data": {
      "application/vnd.jupyter.widget-view+json": {
       "model_id": "c3fa993f045e4ef88860a77051fcf190",
       "version_major": 2,
       "version_minor": 0
      },
      "text/plain": [
       "Train:   0%|          | 0/64000 [00:00<?, ?it/s]"
      ]
     },
     "metadata": {},
     "output_type": "display_data"
    },
    {
     "name": "stderr",
     "output_type": "stream",
     "text": [
      "IOPub message rate exceeded.\n",
      "The Jupyter server will temporarily stop sending output\n",
      "to the client in order to avoid crashing it.\n",
      "To change this limit, set the config variable\n",
      "`--ServerApp.iopub_msg_rate_limit`.\n",
      "\n",
      "Current values:\n",
      "ServerApp.iopub_msg_rate_limit=1000.0 (msgs/sec)\n",
      "ServerApp.rate_limit_window=3.0 (secs)\n",
      "\n",
      "IOPub message rate exceeded.\n",
      "The Jupyter server will temporarily stop sending output\n",
      "to the client in order to avoid crashing it.\n",
      "To change this limit, set the config variable\n",
      "`--ServerApp.iopub_msg_rate_limit`.\n",
      "\n",
      "Current values:\n",
      "ServerApp.iopub_msg_rate_limit=1000.0 (msgs/sec)\n",
      "ServerApp.rate_limit_window=3.0 (secs)\n",
      "\n",
      "IOPub message rate exceeded.\n",
      "The Jupyter server will temporarily stop sending output\n",
      "to the client in order to avoid crashing it.\n",
      "To change this limit, set the config variable\n",
      "`--ServerApp.iopub_msg_rate_limit`.\n",
      "\n",
      "Current values:\n",
      "ServerApp.iopub_msg_rate_limit=1000.0 (msgs/sec)\n",
      "ServerApp.rate_limit_window=3.0 (secs)\n",
      "\n"
     ]
    },
    {
     "ename": "KeyboardInterrupt",
     "evalue": "",
     "output_type": "error",
     "traceback": [
      "\u001b[0;31m---------------------------------------------------------------------------\u001b[0m",
      "\u001b[0;31mKeyboardInterrupt\u001b[0m                         Traceback (most recent call last)",
      "Cell \u001b[0;32mIn[323], line 1\u001b[0m\n\u001b[0;32m----> 1\u001b[0m train_log, valid_log \u001b[38;5;241m=\u001b[39m \u001b[43mshared_training_loop\u001b[49m\u001b[43m(\u001b[49m\u001b[43mepoches\u001b[49m\u001b[43m,\u001b[49m\u001b[43m \u001b[49m\u001b[43mcriterion\u001b[49m\u001b[43m,\u001b[49m\u001b[43m \u001b[49m\u001b[43mloader\u001b[49m\u001b[43m,\u001b[49m\u001b[43m \u001b[49m\u001b[43mvloader\u001b[49m\u001b[43m,\u001b[49m\u001b[43m \u001b[49m\u001b[43mmodel\u001b[49m\u001b[43m,\u001b[49m\u001b[43m \u001b[49m\u001b[43mlr\u001b[49m\u001b[43m,\u001b[49m\u001b[43m \u001b[49m\u001b[43mb\u001b[49m\u001b[38;5;241;43m=\u001b[39;49m\u001b[38;5;28;43;01mTrue\u001b[39;49;00m\u001b[43m)\u001b[49m\n",
      "Cell \u001b[0;32mIn[314], line 15\u001b[0m, in \u001b[0;36mshared_training_loop\u001b[0;34m(epoches, criterion, train_loader, valid_loader, model, lr, b)\u001b[0m\n\u001b[1;32m     13\u001b[0m A, batch \u001b[38;5;241m=\u001b[39m batch\n\u001b[1;32m     14\u001b[0m batch \u001b[38;5;241m=\u001b[39m batch\u001b[38;5;241m.\u001b[39mto(device)\n\u001b[0;32m---> 15\u001b[0m output \u001b[38;5;241m=\u001b[39m \u001b[43mmodel\u001b[49m\u001b[43m(\u001b[49m\u001b[43mbatch\u001b[49m\u001b[38;5;241;43m.\u001b[39;49m\u001b[43mx\u001b[49m\u001b[43m,\u001b[49m\u001b[43m \u001b[49m\u001b[43mbatch\u001b[49m\u001b[38;5;241;43m.\u001b[39;49m\u001b[43medge_index\u001b[49m\u001b[43m,\u001b[49m\u001b[43m \u001b[49m\u001b[43mbatch\u001b[49m\u001b[38;5;241;43m.\u001b[39;49m\u001b[43medge_attr\u001b[49m\u001b[43m,\u001b[49m\u001b[43m \u001b[49m\u001b[43mbatch\u001b[49m\u001b[38;5;241;43m.\u001b[39;49m\u001b[43mbatch\u001b[49m\u001b[43m)\u001b[49m\n\u001b[1;32m     16\u001b[0m loss \u001b[38;5;241m=\u001b[39m criterion(A, output\u001b[38;5;241m.\u001b[39mto_dense())\n\u001b[1;32m     18\u001b[0m t_loader\u001b[38;5;241m.\u001b[39mset_postfix(train_loss\u001b[38;5;241m=\u001b[39mloss\u001b[38;5;241m.\u001b[39mitem())\n",
      "File \u001b[0;32m~/.local/lib/python3.9/site-packages/torch/nn/modules/module.py:1736\u001b[0m, in \u001b[0;36mModule._wrapped_call_impl\u001b[0;34m(self, *args, **kwargs)\u001b[0m\n\u001b[1;32m   1734\u001b[0m     \u001b[38;5;28;01mreturn\u001b[39;00m \u001b[38;5;28mself\u001b[39m\u001b[38;5;241m.\u001b[39m_compiled_call_impl(\u001b[38;5;241m*\u001b[39margs, \u001b[38;5;241m*\u001b[39m\u001b[38;5;241m*\u001b[39mkwargs)  \u001b[38;5;66;03m# type: ignore[misc]\u001b[39;00m\n\u001b[1;32m   1735\u001b[0m \u001b[38;5;28;01melse\u001b[39;00m:\n\u001b[0;32m-> 1736\u001b[0m     \u001b[38;5;28;01mreturn\u001b[39;00m \u001b[38;5;28;43mself\u001b[39;49m\u001b[38;5;241;43m.\u001b[39;49m\u001b[43m_call_impl\u001b[49m\u001b[43m(\u001b[49m\u001b[38;5;241;43m*\u001b[39;49m\u001b[43margs\u001b[49m\u001b[43m,\u001b[49m\u001b[43m \u001b[49m\u001b[38;5;241;43m*\u001b[39;49m\u001b[38;5;241;43m*\u001b[39;49m\u001b[43mkwargs\u001b[49m\u001b[43m)\u001b[49m\n",
      "File \u001b[0;32m~/.local/lib/python3.9/site-packages/torch/nn/modules/module.py:1747\u001b[0m, in \u001b[0;36mModule._call_impl\u001b[0;34m(self, *args, **kwargs)\u001b[0m\n\u001b[1;32m   1742\u001b[0m \u001b[38;5;66;03m# If we don't have any hooks, we want to skip the rest of the logic in\u001b[39;00m\n\u001b[1;32m   1743\u001b[0m \u001b[38;5;66;03m# this function, and just call forward.\u001b[39;00m\n\u001b[1;32m   1744\u001b[0m \u001b[38;5;28;01mif\u001b[39;00m \u001b[38;5;129;01mnot\u001b[39;00m (\u001b[38;5;28mself\u001b[39m\u001b[38;5;241m.\u001b[39m_backward_hooks \u001b[38;5;129;01mor\u001b[39;00m \u001b[38;5;28mself\u001b[39m\u001b[38;5;241m.\u001b[39m_backward_pre_hooks \u001b[38;5;129;01mor\u001b[39;00m \u001b[38;5;28mself\u001b[39m\u001b[38;5;241m.\u001b[39m_forward_hooks \u001b[38;5;129;01mor\u001b[39;00m \u001b[38;5;28mself\u001b[39m\u001b[38;5;241m.\u001b[39m_forward_pre_hooks\n\u001b[1;32m   1745\u001b[0m         \u001b[38;5;129;01mor\u001b[39;00m _global_backward_pre_hooks \u001b[38;5;129;01mor\u001b[39;00m _global_backward_hooks\n\u001b[1;32m   1746\u001b[0m         \u001b[38;5;129;01mor\u001b[39;00m _global_forward_hooks \u001b[38;5;129;01mor\u001b[39;00m _global_forward_pre_hooks):\n\u001b[0;32m-> 1747\u001b[0m     \u001b[38;5;28;01mreturn\u001b[39;00m \u001b[43mforward_call\u001b[49m\u001b[43m(\u001b[49m\u001b[38;5;241;43m*\u001b[39;49m\u001b[43margs\u001b[49m\u001b[43m,\u001b[49m\u001b[43m \u001b[49m\u001b[38;5;241;43m*\u001b[39;49m\u001b[38;5;241;43m*\u001b[39;49m\u001b[43mkwargs\u001b[49m\u001b[43m)\u001b[49m\n\u001b[1;32m   1749\u001b[0m result \u001b[38;5;241m=\u001b[39m \u001b[38;5;28;01mNone\u001b[39;00m\n\u001b[1;32m   1750\u001b[0m called_always_called_hooks \u001b[38;5;241m=\u001b[39m \u001b[38;5;28mset\u001b[39m()\n",
      "Cell \u001b[0;32mIn[319], line 18\u001b[0m, in \u001b[0;36mGraphTransformer.forward\u001b[0;34m(self, x_in, edge_index, edge_attr, batch)\u001b[0m\n\u001b[1;32m     16\u001b[0m x \u001b[38;5;241m=\u001b[39m x_in\n\u001b[1;32m     17\u001b[0m \u001b[38;5;28;01mfor\u001b[39;00m conv \u001b[38;5;129;01min\u001b[39;00m \u001b[38;5;28mself\u001b[39m\u001b[38;5;241m.\u001b[39mlayers:\n\u001b[0;32m---> 18\u001b[0m     x \u001b[38;5;241m=\u001b[39m \u001b[43mconv\u001b[49m\u001b[43m(\u001b[49m\u001b[43mx\u001b[49m\u001b[43m,\u001b[49m\u001b[43m \u001b[49m\u001b[43medge_index\u001b[49m\u001b[43m,\u001b[49m\u001b[43m \u001b[49m\u001b[43medge_attr\u001b[49m\u001b[43m)\u001b[49m\n\u001b[1;32m     19\u001b[0m     x \u001b[38;5;241m=\u001b[39m \u001b[38;5;28mself\u001b[39m\u001b[38;5;241m.\u001b[39mactivation(x)\n\u001b[1;32m     21\u001b[0m \u001b[38;5;66;03m# Compute edge scores\u001b[39;00m\n",
      "File \u001b[0;32m~/.local/lib/python3.9/site-packages/torch/nn/modules/module.py:1736\u001b[0m, in \u001b[0;36mModule._wrapped_call_impl\u001b[0;34m(self, *args, **kwargs)\u001b[0m\n\u001b[1;32m   1734\u001b[0m     \u001b[38;5;28;01mreturn\u001b[39;00m \u001b[38;5;28mself\u001b[39m\u001b[38;5;241m.\u001b[39m_compiled_call_impl(\u001b[38;5;241m*\u001b[39margs, \u001b[38;5;241m*\u001b[39m\u001b[38;5;241m*\u001b[39mkwargs)  \u001b[38;5;66;03m# type: ignore[misc]\u001b[39;00m\n\u001b[1;32m   1735\u001b[0m \u001b[38;5;28;01melse\u001b[39;00m:\n\u001b[0;32m-> 1736\u001b[0m     \u001b[38;5;28;01mreturn\u001b[39;00m \u001b[38;5;28;43mself\u001b[39;49m\u001b[38;5;241;43m.\u001b[39;49m\u001b[43m_call_impl\u001b[49m\u001b[43m(\u001b[49m\u001b[38;5;241;43m*\u001b[39;49m\u001b[43margs\u001b[49m\u001b[43m,\u001b[49m\u001b[43m \u001b[49m\u001b[38;5;241;43m*\u001b[39;49m\u001b[38;5;241;43m*\u001b[39;49m\u001b[43mkwargs\u001b[49m\u001b[43m)\u001b[49m\n",
      "File \u001b[0;32m~/.local/lib/python3.9/site-packages/torch/nn/modules/module.py:1747\u001b[0m, in \u001b[0;36mModule._call_impl\u001b[0;34m(self, *args, **kwargs)\u001b[0m\n\u001b[1;32m   1742\u001b[0m \u001b[38;5;66;03m# If we don't have any hooks, we want to skip the rest of the logic in\u001b[39;00m\n\u001b[1;32m   1743\u001b[0m \u001b[38;5;66;03m# this function, and just call forward.\u001b[39;00m\n\u001b[1;32m   1744\u001b[0m \u001b[38;5;28;01mif\u001b[39;00m \u001b[38;5;129;01mnot\u001b[39;00m (\u001b[38;5;28mself\u001b[39m\u001b[38;5;241m.\u001b[39m_backward_hooks \u001b[38;5;129;01mor\u001b[39;00m \u001b[38;5;28mself\u001b[39m\u001b[38;5;241m.\u001b[39m_backward_pre_hooks \u001b[38;5;129;01mor\u001b[39;00m \u001b[38;5;28mself\u001b[39m\u001b[38;5;241m.\u001b[39m_forward_hooks \u001b[38;5;129;01mor\u001b[39;00m \u001b[38;5;28mself\u001b[39m\u001b[38;5;241m.\u001b[39m_forward_pre_hooks\n\u001b[1;32m   1745\u001b[0m         \u001b[38;5;129;01mor\u001b[39;00m _global_backward_pre_hooks \u001b[38;5;129;01mor\u001b[39;00m _global_backward_hooks\n\u001b[1;32m   1746\u001b[0m         \u001b[38;5;129;01mor\u001b[39;00m _global_forward_hooks \u001b[38;5;129;01mor\u001b[39;00m _global_forward_pre_hooks):\n\u001b[0;32m-> 1747\u001b[0m     \u001b[38;5;28;01mreturn\u001b[39;00m \u001b[43mforward_call\u001b[49m\u001b[43m(\u001b[49m\u001b[38;5;241;43m*\u001b[39;49m\u001b[43margs\u001b[49m\u001b[43m,\u001b[49m\u001b[43m \u001b[49m\u001b[38;5;241;43m*\u001b[39;49m\u001b[38;5;241;43m*\u001b[39;49m\u001b[43mkwargs\u001b[49m\u001b[43m)\u001b[49m\n\u001b[1;32m   1749\u001b[0m result \u001b[38;5;241m=\u001b[39m \u001b[38;5;28;01mNone\u001b[39;00m\n\u001b[1;32m   1750\u001b[0m called_always_called_hooks \u001b[38;5;241m=\u001b[39m \u001b[38;5;28mset\u001b[39m()\n",
      "File \u001b[0;32m~/.local/lib/python3.9/site-packages/torch_geometric/nn/conv/graph_conv.py:90\u001b[0m, in \u001b[0;36mGraphConv.forward\u001b[0;34m(self, x, edge_index, edge_weight, size)\u001b[0m\n\u001b[1;32m     88\u001b[0m x_r \u001b[38;5;241m=\u001b[39m x[\u001b[38;5;241m1\u001b[39m]\n\u001b[1;32m     89\u001b[0m \u001b[38;5;28;01mif\u001b[39;00m x_r \u001b[38;5;129;01mis\u001b[39;00m \u001b[38;5;129;01mnot\u001b[39;00m \u001b[38;5;28;01mNone\u001b[39;00m:\n\u001b[0;32m---> 90\u001b[0m     out \u001b[38;5;241m=\u001b[39m \u001b[43mout\u001b[49m\u001b[43m \u001b[49m\u001b[38;5;241;43m+\u001b[39;49m\u001b[43m \u001b[49m\u001b[38;5;28;43mself\u001b[39;49m\u001b[38;5;241;43m.\u001b[39;49m\u001b[43mlin_root\u001b[49m\u001b[43m(\u001b[49m\u001b[43mx_r\u001b[49m\u001b[43m)\u001b[49m\n\u001b[1;32m     92\u001b[0m \u001b[38;5;28;01mreturn\u001b[39;00m out\n",
      "\u001b[0;31mKeyboardInterrupt\u001b[0m: "
     ]
    }
   ],
   "source": [
    "train_log, valid_log = shared_training_loop(epoches, criterion, loader, vloader, model, lr, b=True)"
   ]
  },
  {
   "cell_type": "code",
   "execution_count": 309,
   "id": "cf68b98a-e7f1-4b94-a8db-592d33e77212",
   "metadata": {},
   "outputs": [],
   "source": [
    "def normalize_features(graph_data):\n",
    "    return graph_data"
   ]
  },
  {
   "cell_type": "code",
   "execution_count": 310,
   "id": "08c1bd1d-7f80-48db-a0aa-b13ffce4785e",
   "metadata": {},
   "outputs": [],
   "source": [
    "def testing(model, dataload):\n",
    "    A, d = next(iter(dataload))\n",
    "    d = d.to(device)\n",
    "    out = model(d.x, d.edge_index, d.edge_attr, d.batch).detach().cpu().to_dense()\n",
    "    d = d.cpu()\n",
    "    #test_singularity(d.x), test_singularity(normalize_features(generate_random_helmholtz(500).toarray()))\n",
    "    \n",
    "    print(torch.norm(out.detach().cpu() @ A.float() - torch.eye(20), p=2))\n",
    "    print(torch.norm(out.detach().cpu() @ A.float(), p=2))\n",
    "    print(torch.norm(out.detach().cpu(), p=2))\n",
    "    print(torch.norm(torch.eye(20), p=2))\n",
    "    print(torch.linalg.det(out.to_dense().detach().cpu()))\n",
    "    print(torch.linalg.det(A.float()))\n",
    "    \n",
    "    print(torch.abs(torch.linalg.det(out.detach().cpu() @ A.float())))\n",
    "    print(torch.abs(torch.linalg.det(out.detach().cpu() @ A.float())))\n",
    "    plt.matshow(out.to_dense().detach().cpu())\n",
    "    plt.matshow(A[0])\n",
    "    plt.matshow(out.detach().cpu() @ A[0].float())"
   ]
  },
  {
   "cell_type": "code",
   "execution_count": 311,
   "id": "c909a0e1-bf54-40c7-b035-b8a681025e43",
   "metadata": {},
   "outputs": [
    {
     "name": "stdout",
     "output_type": "stream",
     "text": [
      "tensor(1452.3247)\n",
      "tensor(1452.3969)\n",
      "tensor(3.3735)\n",
      "tensor(4.4721)\n",
      "tensor(7.1423e-10)\n",
      "tensor([inf])\n",
      "tensor([inf])\n",
      "tensor([inf])\n"
     ]
    },
    {
     "data": {
      "image/png": "[encoded data removed]",
      "text/plain": [
       "<Figure size 480x480 with 1 Axes>"
      ]
     },
     "metadata": {},
     "output_type": "display_data"
    },
    {
     "data": {
      "image/png": "[encoded data removed]",
      "text/plain": [
       "<Figure size 480x480 with 1 Axes>"
      ]
     },
     "metadata": {},
     "output_type": "display_data"
    },
    {
     "data": {
      "image/png": "[encoded data removed]",
      "text/plain": [
       "<Figure size 480x480 with 1 Axes>"
      ]
     },
     "metadata": {},
     "output_type": "display_data"
    }
   ],
   "source": [
    "testing(gtransformer, dataloader)"
   ]
  },
  {
   "cell_type": "markdown",
   "id": "6b252b1a-a948-4965-b52f-28ed3c22b62b",
   "metadata": {},
   "source": [
    "## (Misc) Models\n",
    "\n",
    "Models I just had an idea with. Not sure if I will use this section, but its here."
   ]
  },
  {
   "cell_type": "code",
   "execution_count": null,
   "id": "a9723bc3-a72e-4283-99f4-53dbba1b4796",
   "metadata": {},
   "outputs": [],
   "source": []
  }
 ],
 "metadata": {
  "kernelspec": {
   "display_name": "Python 3 (ipykernel)",
   "language": "python",
   "name": "python3"
  },
  "language_info": {
   "codemirror_mode": {
    "name": "ipython",
    "version": 3
   },
   "file_extension": ".py",
   "mimetype": "text/x-python",
   "name": "python",
   "nbconvert_exporter": "python",
   "pygments_lexer": "ipython3",
   "version": "3.9.7"
  }
 },
 "nbformat": 4,
 "nbformat_minor": 5
}
